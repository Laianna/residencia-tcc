{
 "cells": [
  {
   "cell_type": "markdown",
   "metadata": {},
   "source": [
    "# Importando as Bibliotecas"
   ]
  },
  {
   "cell_type": "code",
   "execution_count": 1,
   "metadata": {},
   "outputs": [],
   "source": [
    "import ranking\n",
    "\n",
    "import pandas as pd\n",
    "import numpy as np\n",
    "import string\n",
    "\n",
    "from scipy import spatial\n",
    "\n",
    "from sklearn.metrics import classification_report\n",
    "from sklearn.feature_extraction.text import CountVectorizer\n",
    "\n",
    "import time"
   ]
  },
  {
   "cell_type": "markdown",
   "metadata": {},
   "source": [
    "# Constantes"
   ]
  },
  {
   "cell_type": "code",
   "execution_count": 2,
   "metadata": {},
   "outputs": [],
   "source": [
    "VAR_COS = (0.3, 0.4, 0.5, 0.6, 0.7, 0.8, 0.9)"
   ]
  },
  {
   "cell_type": "markdown",
   "metadata": {},
   "source": [
    "# Lendo os Datasets"
   ]
  },
  {
   "cell_type": "code",
   "execution_count": 3,
   "metadata": {},
   "outputs": [],
   "source": [
    "arquivos = ['ale_1_1', 'ale_5_1', 'hn_1_1', 'hn_5_1']\n",
    "\n",
    "lista_df_treino = []\n",
    "lista_df_teste = []\n",
    "for arquivo in arquivos:\n",
    "\n",
    "    df_treino = pd.read_csv(f\"Dados/Datasets/Treino/{arquivo}_treino.csv\", dtype = {'ean_1': str, 'ean_2': str})\n",
    "    df_teste = pd.read_csv(f\"Dados/Datasets/Teste/{arquivo}_teste.csv\", dtype = {'ean_1': str, 'ean_2': str})\n",
    "    lista_df_treino.append(df_treino)\n",
    "    lista_df_teste.append(df_teste)"
   ]
  },
  {
   "cell_type": "markdown",
   "metadata": {},
   "source": [
    "# Aplicando o BoW"
   ]
  },
  {
   "cell_type": "markdown",
   "metadata": {},
   "source": [
    "## Funções"
   ]
  },
  {
   "cell_type": "code",
   "execution_count": 4,
   "metadata": {},
   "outputs": [],
   "source": [
    "def calcular_y_pred(limite, distancia):\n",
    "\n",
    "    y_pred = [1 if num >= limite else 0 for num in distancia]\n",
    "\n",
    "    return y_pred\n",
    "\n",
    "\n",
    "def montar_df_resultado(y_teste, y_pred, df_teste, nome):\n",
    "    df_y = pd.DataFrame(\n",
    "                        list(zip(\n",
    "                                 y_teste, y_pred,\n",
    "                                 df_teste[\"categoria\"].to_list(),\n",
    "                                 df_teste[\"titulo_1\"].to_list(),\n",
    "                                 df_teste[\"titulo_2\"].to_list()\n",
    "                                )\n",
    "                       ), columns = ['match', 'pred', 'categoria', 'titulo_1', 'titulo_2'])\n",
    "\n",
    "    return df_y\n",
    "\n",
    "\n",
    "def salvar_distancia(y_teste, distancia, df_teste, nome):\n",
    "\n",
    "    df_y = montar_df_resultado(y_teste, distancia, df_teste, nome)\n",
    "    df_y.to_csv(f'Dados/Resultados/Cos/{nome}_distancia.csv', index = False)\n",
    "\n",
    "\n",
    "def salvar_y_pred(y_teste, y_pred, df_teste, nome, limite):\n",
    "\n",
    "    df_y = montar_df_resultado(y_teste, y_pred, df_teste, nome)\n",
    "    df_y.to_csv(f'Dados/Resultados/Cos_{limite}/Resultado/{nome}_y.csv', index = False)\n",
    "\n",
    "\n",
    "def salvar_relatorio(y_teste, y_pred, nome, tempo, limite):\n",
    "\n",
    "    relatorio = classification_report(y_teste, y_pred, output_dict = True)\n",
    "    df_relatorio = pd.DataFrame(relatorio).transpose()\n",
    "    df_relatorio['modelo'] = nome\n",
    "    df_relatorio['tempo'] = tempo\n",
    "\n",
    "    df_relatorio.to_csv(f'Dados/Resultados/Cos_{limite}/Relatório/{nome}_relatório.csv', index = True)"
   ]
  },
  {
   "cell_type": "code",
   "execution_count": 5,
   "metadata": {},
   "outputs": [],
   "source": [
    "def pipeline_cos(df_teste, df_concat, tam_max):\n",
    "\n",
    "    cv, titulo_bow = ranking.formatar_entrada_bow(df_concat, mf = tam_max)\n",
    "\n",
    "    tam_df_concat = len(titulo_bow)/2\n",
    "    tam_df_teste = df_teste.shape[0]\n",
    "\n",
    "    if tam_df_concat == tam_df_teste:\n",
    "\n",
    "        distancia = []\n",
    "        for i in range( tam_df_teste ):\n",
    "            distancia.append(ranking.calcular_dis_cos(titulo_bow[i], titulo_bow[i + tam_df_teste]))\n",
    "\n",
    "        return distancia\n",
    "\n",
    "    else:\n",
    "        print (\"TAMANHO ERRADO\")\n",
    "        return \"ERRO\""
   ]
  },
  {
   "cell_type": "markdown",
   "metadata": {},
   "source": [
    "## Rodando o BoW"
   ]
  },
  {
   "cell_type": "code",
   "execution_count": 6,
   "metadata": {},
   "outputs": [],
   "source": [
    "flag_cos = False\n",
    "if flag_cos == True:\n",
    "\n",
    "    for nome, df_teste in zip(arquivos, lista_df_teste):\n",
    "\n",
    "        y_teste = df_teste[\"match\"].to_list()\n",
    "\n",
    "        # remoção de pontuação e acentos\n",
    "        ranking.fazer_pre_processamento(df_teste)\n",
    "\n",
    "        # colocando os titulos em um dataframe com 1 coluna só\n",
    "        df_concat = ranking.concatenar_titulos(df_teste)\n",
    "\n",
    "        # calculando o tamanho máximo do título\n",
    "        tam_max = ranking.calcular_tam_max(df_concat)\n",
    "\n",
    "        inicio_tempo = time.time()\n",
    "        distancia = pipeline_cos(df_teste, df_concat, tam_max)\n",
    "        final_tempo = time.time()\n",
    "\n",
    "        tempo = final_tempo - inicio_tempo\n",
    "\n",
    "        salvar_distancia(y_teste, distancia, df_teste, nome)\n",
    "\n",
    "        for limite in VAR_COS:\n",
    "\n",
    "            y_pred = calcular_y_pred(limite, distancia)\n",
    "\n",
    "            salvar_y_pred(y_teste, y_pred, df_teste, nome, ranking.remove_pontuacao(str(limite)) )\n",
    "            salvar_relatorio(y_teste, y_pred, nome, tempo, ranking.remove_pontuacao(str(limite)) )"
   ]
  }
 ],
 "metadata": {
  "kernelspec": {
   "display_name": "Python 3.9.7 ('base')",
   "language": "python",
   "name": "python3"
  },
  "language_info": {
   "codemirror_mode": {
    "name": "ipython",
    "version": 3
   },
   "file_extension": ".py",
   "mimetype": "text/x-python",
   "name": "python",
   "nbconvert_exporter": "python",
   "pygments_lexer": "ipython3",
   "version": "3.9.7"
  },
  "orig_nbformat": 4,
  "vscode": {
   "interpreter": {
    "hash": "4889b298c2b41a0f37c917b2884deb5a3a36b040cfb99d0e8c1edb9e5e6fadf3"
   }
  }
 },
 "nbformat": 4,
 "nbformat_minor": 2
}
