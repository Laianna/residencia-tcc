{
 "cells": [
  {
   "cell_type": "markdown",
   "metadata": {},
   "source": [
    "# Importando as Bibliotecas"
   ]
  },
  {
   "cell_type": "code",
   "execution_count": 31,
   "metadata": {},
   "outputs": [],
   "source": [
    "import pandas as pd\n",
    "import numpy as np\n",
    "import string\n",
    "\n",
    "from scipy import spatial\n",
    "\n",
    "from sklearn.metrics import classification_report\n",
    "from sklearn.feature_extraction.text import CountVectorizer\n",
    "\n",
    "import time"
   ]
  },
  {
   "cell_type": "markdown",
   "metadata": {},
   "source": [
    "# Lendo os Datasets"
   ]
  },
  {
   "cell_type": "code",
   "execution_count": 2,
   "metadata": {},
   "outputs": [],
   "source": [
    "arquivos = ['ale_1_1', 'ale_5_1', 'hn_1_1', 'hn_5_1']\n",
    "\n",
    "lista_df_treino = []\n",
    "lista_df_teste = []\n",
    "for arquivo in arquivos:\n",
    "\n",
    "    df_treino = pd.read_csv(f\"Dados/Datasets/Treino/{arquivo}_treino.csv\", dtype = {'ean_1': str, 'ean_2': str})\n",
    "    df_teste = pd.read_csv(f\"Dados/Datasets/Teste/{arquivo}_teste.csv\", dtype = {'ean_1': str, 'ean_2': str})\n",
    "    lista_df_treino.append(df_treino)\n",
    "    lista_df_teste.append(df_teste)"
   ]
  },
  {
   "cell_type": "markdown",
   "metadata": {},
   "source": [
    "# Aplicando o BoW"
   ]
  },
  {
   "cell_type": "code",
   "execution_count": 4,
   "metadata": {},
   "outputs": [],
   "source": [
    "def remove_pontuacao(texto):\n",
    "    \n",
    "    texto_sp = texto.translate(str.maketrans('', '', string.punctuation))\n",
    "    \n",
    "    return texto_sp   \n",
    "\n",
    "\n",
    "def formatar_entrada_bow(dados, mf = 1000):\n",
    "    \n",
    "    cv = CountVectorizer(\n",
    "                         lowercase = True,\n",
    "                         strip_accents = 'unicode',\n",
    "                         max_features = mf\n",
    "                        )\n",
    "\n",
    "    cv.fit(dados)\n",
    "    dados_transformados = cv.transform(dados).toarray()\n",
    "\n",
    "    #X = matriz.fit_transform(dados).toarray()\n",
    "    \n",
    "    return cv, dados_transformados\n",
    "\n",
    "\n",
    "def calcular_dis_cos(vetor_1, vetor_2):\n",
    "                \n",
    "    return (1 - spatial.distance.cosine(vetor_1, vetor_2))\n",
    "\n",
    "\n",
    "def ordenar_resultado(res):\n",
    "\n",
    "    indices = []\n",
    "    valores = []\n",
    "\n",
    "    for i in range(len(res)):\n",
    "        \n",
    "        ind = res[i].argsort()\n",
    "        val = res[i][res[i].argsort()]\n",
    "\n",
    "        indices.append( list(reversed(ind)) )\n",
    "        valores.append( list(reversed(val)) )\n",
    "\n",
    "    return indices, valores"
   ]
  },
  {
   "cell_type": "code",
   "execution_count": 29,
   "metadata": {},
   "outputs": [],
   "source": [
    "def pipeline_cos(df, tam_max):\n",
    "    \n",
    "    # calculando o BoW do título\n",
    "    cv_1, titulo_bow_1 = formatar_entrada_bow(df['titulo_pp_1'], mf = tam_max)\n",
    "    cv_2, titulo_bow_2 = formatar_entrada_bow(df['titulo_pp_2'], mf = tam_max)\n",
    "\n",
    "    distancia = []\n",
    "    for i in range(len(titulo_bow_1)):\n",
    "        distancia.append(calcular_dis_cos(titulo_bow_1[i], titulo_bow_2[i]))\n",
    "\n",
    "    return distancia"
   ]
  },
  {
   "cell_type": "code",
   "execution_count": 33,
   "metadata": {},
   "outputs": [
    {
     "name": "stderr",
     "output_type": "stream",
     "text": [
      "c:\\Users\\llvs2\\anaconda3\\lib\\site-packages\\scipy\\spatial\\distance.py:699: RuntimeWarning: invalid value encountered in double_scalars\n",
      "  dist = 1.0 - uv / np.sqrt(uu * vv)\n",
      "c:\\Users\\llvs2\\anaconda3\\lib\\site-packages\\scipy\\spatial\\distance.py:699: RuntimeWarning: invalid value encountered in double_scalars\n",
      "  dist = 1.0 - uv / np.sqrt(uu * vv)\n",
      "c:\\Users\\llvs2\\anaconda3\\lib\\site-packages\\scipy\\spatial\\distance.py:699: RuntimeWarning: invalid value encountered in double_scalars\n",
      "  dist = 1.0 - uv / np.sqrt(uu * vv)\n"
     ]
    }
   ],
   "source": [
    "flag_cos = True\n",
    "if flag_cos == True:\n",
    "\n",
    "    for nome, df_treino, df_teste in zip(arquivos, lista_df_treino, lista_df_teste):\n",
    "\n",
    "        y_teste = df_teste[\"match\"].to_list()\n",
    "\n",
    "        # removendo a pontuação do título\n",
    "        df_teste[\"titulo_pp_1\"] = df_teste[\"titulo_1\"].apply(lambda x: remove_pontuacao(x))\n",
    "        df_teste[\"titulo_pp_2\"] = df_teste[\"titulo_2\"].apply(lambda x: remove_pontuacao(x))\n",
    "\n",
    "        # calculando o tamanho máximo do título\n",
    "        tam_max_1 = max(df_teste.apply(lambda row: len(row[\"titulo_pp_1\"]), axis = 1))\n",
    "        tam_max_2 = max(df_teste.apply(lambda row: len(row[\"titulo_pp_2\"]), axis = 1))\n",
    "\n",
    "        tam_max = tam_max_1 if tam_max_1 >= tam_max_2 else tam_max_2\n",
    "\n",
    "        inicio_tempo = time.time()\n",
    "        distancia = pipeline_cos(df_teste, tam_max)\n",
    "        final_tempo = time.time()\n",
    "\n",
    "        tempo = final_tempo - inicio_tempo\n",
    "\n",
    "        y_pred = [1 if num >= 0.5 else 0 for num in distancia]\n",
    "\n",
    "        report = classification_report(y_teste, y_pred, output_dict = True)\n",
    "        df_resultado = pd.DataFrame(report).transpose()\n",
    "        df_resultado['modelo'] = nome\n",
    "        df_resultado['tempo'] = tempo\n",
    "\n",
    "        df_resultado.to_csv(f'Dados/Resultados/Cos_05/{nome}_resultado.csv', index = True)"
   ]
  }
 ],
 "metadata": {
  "kernelspec": {
   "display_name": "Python 3.9.7 ('base')",
   "language": "python",
   "name": "python3"
  },
  "language_info": {
   "codemirror_mode": {
    "name": "ipython",
    "version": 3
   },
   "file_extension": ".py",
   "mimetype": "text/x-python",
   "name": "python",
   "nbconvert_exporter": "python",
   "pygments_lexer": "ipython3",
   "version": "3.9.7"
  },
  "orig_nbformat": 4,
  "vscode": {
   "interpreter": {
    "hash": "4889b298c2b41a0f37c917b2884deb5a3a36b040cfb99d0e8c1edb9e5e6fadf3"
   }
  }
 },
 "nbformat": 4,
 "nbformat_minor": 2
}
