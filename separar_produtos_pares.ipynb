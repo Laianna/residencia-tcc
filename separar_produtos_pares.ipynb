{
 "cells": [
  {
   "cell_type": "code",
   "execution_count": 1,
   "metadata": {},
   "outputs": [],
   "source": [
    "import pandas as pd\n",
    "import numpy as np"
   ]
  },
  {
   "cell_type": "code",
   "execution_count": 20,
   "metadata": {},
   "outputs": [],
   "source": [
    "arquivos = ['celulares', 'fogoes', 'geladeiras', 'notebooks', 'tvs']\n",
    "#arquivos = ['celulares']\n",
    "\n",
    "for arquivo in arquivos:\n",
    "\n",
    "    df = pd.read_csv(f\"Dados/Produtos Processados/pp_{arquivo}.csv\", dtype = {'ean': str})\n",
    "    \n",
    "    df.groupby('ean').filter(lambda x: len(x) > 1).to_csv(f\"Dados/Produtos Processados Pares/ppp_{arquivo}.csv\", index = False)\n",
    "    df.groupby('ean').filter(lambda x: len(x) == 1).to_csv(f\"Dados/Produtos Processados Não Pares/ppnp_{arquivo}.csv\", index = False)"
   ]
  }
 ],
 "metadata": {
  "kernelspec": {
   "display_name": "Python 3.10.2 64-bit",
   "language": "python",
   "name": "python3"
  },
  "language_info": {
   "codemirror_mode": {
    "name": "ipython",
    "version": 3
   },
   "file_extension": ".py",
   "mimetype": "text/x-python",
   "name": "python",
   "nbconvert_exporter": "python",
   "pygments_lexer": "ipython3",
   "version": "3.10.2"
  },
  "orig_nbformat": 4,
  "vscode": {
   "interpreter": {
    "hash": "1df61d59122c5cf3d7ddd20bffff11539f6f49064d82bf38a3a6e9ef321cd670"
   }
  }
 },
 "nbformat": 4,
 "nbformat_minor": 2
}
