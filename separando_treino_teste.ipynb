{
 "cells": [
  {
   "cell_type": "code",
   "execution_count": 1,
   "metadata": {},
   "outputs": [],
   "source": [
    "import pandas as pd\n",
    "import numpy as np"
   ]
  },
  {
   "cell_type": "code",
   "execution_count": null,
   "metadata": {},
   "outputs": [],
   "source": [
    "arquivos = ['celulares', 'fogoes', 'geladeiras', 'notebooks', 'tvs']\n",
    "\n",
    "lista_df_pp = []\n",
    "for arquivo in arquivos:\n",
    "\n",
    "    df_pp = pd.read_csv(f\"Dados/Produtos Processados/pp_{arquivo}.csv\", dtype = {'ean': str})\n",
    "    lista_df_pp.append(df_pp)"
   ]
  },
  {
   "cell_type": "code",
   "execution_count": null,
   "metadata": {},
   "outputs": [],
   "source": [
    "for df in lista_df_pp:\n",
    "\n",
    "    "
   ]
  }
 ],
 "metadata": {
  "kernelspec": {
   "display_name": "Python 3.10.2 64-bit",
   "language": "python",
   "name": "python3"
  },
  "language_info": {
   "codemirror_mode": {
    "name": "ipython",
    "version": 3
   },
   "file_extension": ".py",
   "mimetype": "text/x-python",
   "name": "python",
   "nbconvert_exporter": "python",
   "pygments_lexer": "ipython3",
   "version": "3.10.2"
  },
  "orig_nbformat": 4,
  "vscode": {
   "interpreter": {
    "hash": "1df61d59122c5cf3d7ddd20bffff11539f6f49064d82bf38a3a6e9ef321cd670"
   }
  }
 },
 "nbformat": 4,
 "nbformat_minor": 2
}
