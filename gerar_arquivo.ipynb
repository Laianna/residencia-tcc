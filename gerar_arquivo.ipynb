{
 "cells": [
  {
   "cell_type": "markdown",
   "metadata": {},
   "source": [
    "# Importando as Bibliotecas"
   ]
  },
  {
   "cell_type": "code",
   "execution_count": null,
   "metadata": {},
   "outputs": [],
   "source": [
    "import pandas as pd\n",
    "import numpy as np\n",
    "import string\n",
    "\n",
    "from scipy import spatial\n",
    "\n",
    "from sklearn.feature_extraction.text import CountVectorizer"
   ]
  },
  {
   "cell_type": "markdown",
   "metadata": {},
   "source": [
    "# Lendo os Datasets"
   ]
  },
  {
   "cell_type": "code",
   "execution_count": null,
   "metadata": {},
   "outputs": [],
   "source": [
    "arquivos = ['celulares', 'fogoes', 'geladeiras', 'notebooks', 'tvs']\n",
    "\n",
    "lista_df_pp = []\n",
    "for arquivo in arquivos:\n",
    "\n",
    "    df_pp = pd.read_csv(f\"Dados/Produtos Processados/pp_{arquivo}.csv\", dtype = {'ean': str})\n",
    "    lista_df_pp.append(df_pp)"
   ]
  },
  {
   "cell_type": "markdown",
   "metadata": {},
   "source": [
    "# Aplicando o BoW"
   ]
  },
  {
   "cell_type": "code",
   "execution_count": null,
   "metadata": {},
   "outputs": [],
   "source": [
    "def remove_pontuacao(texto):\n",
    "    \n",
    "    texto_sp = texto.translate(str.maketrans('', '', string.punctuation))\n",
    "    \n",
    "    return texto_sp   \n",
    "\n",
    "\n",
    "def formatar_entrada_bow(dados, mf = 1000):\n",
    "    \n",
    "    cv = CountVectorizer(\n",
    "                         lowercase = True,\n",
    "                         strip_accents = 'unicode',\n",
    "                         max_features = mf\n",
    "                        )\n",
    "\n",
    "    cv.fit(dados)\n",
    "    dados_transformados = cv.transform(dados).toarray()\n",
    "\n",
    "    #X = matriz.fit_transform(dados).toarray()\n",
    "    \n",
    "    return cv, dados_transformados\n",
    "\n",
    "\n",
    "def calcular_dis_cos(vetor_1, vetor_2):\n",
    "                \n",
    "    return (1 - spatial.distance.cosine(vetor_1, vetor_2))\n",
    "\n",
    "\n",
    "def ordenar_resultado(res):\n",
    "\n",
    "    indices = []\n",
    "    valores = []\n",
    "\n",
    "    for i in range(len(res)):\n",
    "        \n",
    "        ind = res[i].argsort()\n",
    "        val = res[i][res[i].argsort()]\n",
    "\n",
    "        indices.append( list(reversed(ind)) )\n",
    "        valores.append( list(reversed(val)) )\n",
    "\n",
    "    return indices, valores"
   ]
  },
  {
   "cell_type": "code",
   "execution_count": null,
   "metadata": {},
   "outputs": [],
   "source": [
    "for enu, df_pp in enumerate(lista_df_pp):\n",
    "    \n",
    "\n",
    "    # removendo a pontuação do título\n",
    "    df_pp[\"titulo_pp\"] = df_pp[\"titulo\"].apply(lambda x: remove_pontuacao(x))\n",
    "\n",
    "    # calculando o tamanho máximo do título\n",
    "    tam_max = max(df_pp.apply(lambda row: len(row[\"titulo_pp\"]), axis = 1))\n",
    "\n",
    "    # calculando o BoW do título\n",
    "    cv, titulo_bow = formatar_entrada_bow(df_pp['titulo_pp'], mf = tam_max)\n",
    "    #np.unique(titulo_bow)\n",
    "\n",
    "\n",
    "\n",
    "    # calculando a distância entre os vetores\n",
    "    resultado = np.zeros((len(titulo_bow), len(titulo_bow)))\n",
    "\n",
    "    for i in range(len(titulo_bow)):\n",
    "\n",
    "        for j in range(len(titulo_bow)):\n",
    "\n",
    "            if i == j:\n",
    "                resultado[i][j] = -1\n",
    "            else:\n",
    "                resultado[i][j] = calcular_dis_cos(titulo_bow[i], titulo_bow[j])\n",
    "\n",
    "\n",
    "    indices, valores = ordenar_resultado(resultado)\n",
    "\n",
    "    for k in [1, 10, 50]:\n",
    "\n",
    "        # criando uma coluna nova no df\n",
    "        df_pp[f'k-{k}'] = 0\n",
    "        df_pp[f'k-{k}-qtd'] = 0\n",
    "        df_pp[f'k-{k}-qtd/{k}'] = 0\n",
    "\n",
    "        for i in range(len(indices)):\n",
    "\n",
    "            for j in range(k):\n",
    "                \n",
    "                if df_pp['ean'].loc[i] == df_pp['ean'].loc[indices[i][j]]:\n",
    "\n",
    "                    df_pp[f'k-{k}'].loc[i] = 1\n",
    "                    df_pp[f'k-{k}-qtd'].loc[i] += 1\n",
    "\n",
    "            df_pp[f'k-{k}-qtd/{k}'].loc[i] = (df_pp[f'k-{k}-qtd'].loc[i])/k\n",
    "\n",
    "\n",
    "    # criando uma coluna nova no df\n",
    "    df_pp['match_rank'] = 0\n",
    "    df_pp['1/match_rank'] = 0\n",
    "    df_pp['match_rank/total'] = 0\n",
    "    tam_df = df_pp.shape[0]\n",
    "\n",
    "    # para cada linha do dataframe\n",
    "    for i in range(tam_df):\n",
    "\n",
    "        # para cada uma das distâncias encontradas rankeadas em ordem decrescente\n",
    "        for cont, j in enumerate(indices[i]):\n",
    "        \n",
    "            # se for match\n",
    "            if (df_pp['ean'].loc[i] == df_pp['ean'].loc[j]) and (i != j):\n",
    "\n",
    "                # guarda a posição do primeiro match, lembrando que o enumerate começa em 0\n",
    "                df_pp['match_rank'].loc[i] = (cont + 1)\n",
    "                df_pp['1/match_rank'].loc[i] = 1/(cont + 1)\n",
    "                df_pp['match_rank/total'].loc[i] = (cont + 1)/tam_df\n",
    "                \n",
    "                # para o for\n",
    "                break\n",
    "\n",
    "    df_pp.to_csv(f\"Dados/Produtos Processados/Metricas/{arquivos[enu]}.csv\", index = False)"
   ]
  },
  {
   "cell_type": "code",
   "execution_count": null,
   "metadata": {},
   "outputs": [],
   "source": [
    "df_pp[[\"k-1\", \"k-1-qtd\", \"k-1-qtd/1\", \"k-10\", \"k-10-qtd\", \"k-10-qtd/10\", \"k-50\", \"k-50-qtd\", \"k-50-qtd/50\", 'match_rank', 'match_rank/total', '1/match_rank']]"
   ]
  }
 ],
 "metadata": {
  "kernelspec": {
   "display_name": "Python 3.9.7 ('base')",
   "language": "python",
   "name": "python3"
  },
  "language_info": {
   "codemirror_mode": {
    "name": "ipython",
    "version": 3
   },
   "file_extension": ".py",
   "mimetype": "text/x-python",
   "name": "python",
   "nbconvert_exporter": "python",
   "pygments_lexer": "ipython3",
   "version": "3.9.7"
  },
  "orig_nbformat": 4,
  "vscode": {
   "interpreter": {
    "hash": "4889b298c2b41a0f37c917b2884deb5a3a36b040cfb99d0e8c1edb9e5e6fadf3"
   }
  }
 },
 "nbformat": 4,
 "nbformat_minor": 2
}
