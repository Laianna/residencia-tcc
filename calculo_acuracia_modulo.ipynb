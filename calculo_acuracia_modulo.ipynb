{
 "cells": [
  {
   "cell_type": "markdown",
   "metadata": {},
   "source": [
    "# Importando as Bibliotecas"
   ]
  },
  {
   "cell_type": "code",
   "execution_count": 1,
   "metadata": {},
   "outputs": [],
   "source": [
    "import ranking\n",
    "\n",
    "import pandas as pd\n",
    "import numpy as np\n",
    "import string\n",
    "\n",
    "from scipy import spatial\n",
    "\n",
    "from sklearn.feature_extraction.text import CountVectorizer"
   ]
  },
  {
   "cell_type": "markdown",
   "metadata": {},
   "source": [
    "# Lendo os Datasets"
   ]
  },
  {
   "cell_type": "code",
   "execution_count": 2,
   "metadata": {},
   "outputs": [],
   "source": [
    "arquivos = ['celulares']\n",
    "#arquivos = ['fogoes']\n",
    "#arquivos = ['geladeiras']\n",
    "#arquivos = ['notebooks']\n",
    "#arquivos = ['tvs']\n",
    "\n",
    "lista_df_pp = []\n",
    "for arquivo in arquivos:\n",
    "\n",
    "    df_pp = pd.read_csv(f\"Dados/Produtos Processados/pp_{arquivo}.csv\", dtype = {'ean': str})\n",
    "    lista_df_pp.append(df_pp)"
   ]
  },
  {
   "cell_type": "code",
   "execution_count": 3,
   "metadata": {},
   "outputs": [
    {
     "data": {
      "text/html": [
       "<div>\n",
       "<style scoped>\n",
       "    .dataframe tbody tr th:only-of-type {\n",
       "        vertical-align: middle;\n",
       "    }\n",
       "\n",
       "    .dataframe tbody tr th {\n",
       "        vertical-align: top;\n",
       "    }\n",
       "\n",
       "    .dataframe thead th {\n",
       "        text-align: right;\n",
       "    }\n",
       "</style>\n",
       "<table border=\"1\" class=\"dataframe\">\n",
       "  <thead>\n",
       "    <tr style=\"text-align: right;\">\n",
       "      <th></th>\n",
       "      <th>categoria</th>\n",
       "      <th>descricao</th>\n",
       "      <th>ean</th>\n",
       "      <th>preco</th>\n",
       "      <th>titulo</th>\n",
       "      <th>url</th>\n",
       "      <th>titulo_cb</th>\n",
       "      <th>loja</th>\n",
       "    </tr>\n",
       "  </thead>\n",
       "  <tbody>\n",
       "    <tr>\n",
       "      <th>0</th>\n",
       "      <td>/categoria/celulares-e-smartphones/smartphone/...</td>\n",
       "      <td>Smartphone Samsung Galaxy S22 Ultra 512GB 5G c...</td>\n",
       "      <td>7892509122580</td>\n",
       "      <td>R$ 8.858,63</td>\n",
       "      <td>Smartphone Samsung Galaxy S22 Ultra 512GB 5G c...</td>\n",
       "      <td>https://www.americanas.com.br/produto/4987525162</td>\n",
       "      <td>smartphone samsung galaxy s22 ultra 512gb 5g c...</td>\n",
       "      <td>americanas</td>\n",
       "    </tr>\n",
       "  </tbody>\n",
       "</table>\n",
       "</div>"
      ],
      "text/plain": [
       "                                           categoria  \\\n",
       "0  /categoria/celulares-e-smartphones/smartphone/...   \n",
       "\n",
       "                                           descricao            ean  \\\n",
       "0  Smartphone Samsung Galaxy S22 Ultra 512GB 5G c...  7892509122580   \n",
       "\n",
       "         preco                                             titulo  \\\n",
       "0  R$ 8.858,63  Smartphone Samsung Galaxy S22 Ultra 512GB 5G c...   \n",
       "\n",
       "                                                url  \\\n",
       "0  https://www.americanas.com.br/produto/4987525162   \n",
       "\n",
       "                                           titulo_cb        loja  \n",
       "0  smartphone samsung galaxy s22 ultra 512gb 5g c...  americanas  "
      ]
     },
     "execution_count": 3,
     "metadata": {},
     "output_type": "execute_result"
    }
   ],
   "source": [
    "df_pp = lista_df_pp[0]\n",
    "df_pp.head(1)"
   ]
  },
  {
   "cell_type": "markdown",
   "metadata": {},
   "source": [
    "# Aplicando o BoW"
   ]
  },
  {
   "cell_type": "code",
   "execution_count": 4,
   "metadata": {},
   "outputs": [],
   "source": [
    "# removendo a pontuação do título\n",
    "df_pp[\"titulo_pp\"] = df_pp[\"titulo\"].apply(lambda x: ranking.remove_pontuacao(x))\n",
    "\n",
    "# calculando o tamanho máximo do título\n",
    "tam_max = max(df_pp.apply(lambda row: len(row[\"titulo_pp\"]), axis = 1))"
   ]
  },
  {
   "cell_type": "code",
   "execution_count": 5,
   "metadata": {},
   "outputs": [],
   "source": [
    "# calculando o BoW do título\n",
    "cv, titulo_bow = ranking.formatar_entrada_bow(df_pp['titulo_pp'], mf = tam_max)\n",
    "#np.unique(titulo_bow)"
   ]
  },
  {
   "cell_type": "markdown",
   "metadata": {},
   "source": [
    "Calculando a distância entre os vetores"
   ]
  },
  {
   "cell_type": "code",
   "execution_count": 6,
   "metadata": {},
   "outputs": [
    {
     "name": "stderr",
     "output_type": "stream",
     "text": [
      "c:\\Users\\llvs2\\anaconda3\\lib\\site-packages\\scipy\\spatial\\distance.py:699: RuntimeWarning: invalid value encountered in double_scalars\n",
      "  dist = 1.0 - uv / np.sqrt(uu * vv)\n"
     ]
    }
   ],
   "source": [
    "resultado = ranking.calcular_dis_2_vetores(titulo_bow)"
   ]
  },
  {
   "cell_type": "markdown",
   "metadata": {},
   "source": [
    "Colocando o resultado em ordem (menor distância até maior distância)"
   ]
  },
  {
   "cell_type": "code",
   "execution_count": 8,
   "metadata": {},
   "outputs": [],
   "source": [
    "indices, valores = ranking.ordenar_resultado(resultado)"
   ]
  },
  {
   "cell_type": "markdown",
   "metadata": {},
   "source": [
    "Calculando o acccuracy@k"
   ]
  },
  {
   "cell_type": "code",
   "execution_count": 9,
   "metadata": {},
   "outputs": [
    {
     "name": "stderr",
     "output_type": "stream",
     "text": [
      "c:\\Users\\llvs2\\anaconda3\\lib\\site-packages\\pandas\\core\\indexing.py:1732: SettingWithCopyWarning: \n",
      "A value is trying to be set on a copy of a slice from a DataFrame\n",
      "\n",
      "See the caveats in the documentation: https://pandas.pydata.org/pandas-docs/stable/user_guide/indexing.html#returning-a-view-versus-a-copy\n",
      "  self._setitem_single_block(indexer, value, name)\n"
     ]
    }
   ],
   "source": [
    "for k in [1, 10, 50]:\n",
    "\n",
    "    # criando uma coluna nova no df\n",
    "    df_pp[f'k-{k}'] = 0\n",
    "    df_pp[f'k-{k}-qtd'] = 0\n",
    "    df_pp[f'k-{k}-qtd/{k}'] = 0\n",
    "\n",
    "    for i in range(len(indices)):\n",
    "\n",
    "        for j in range(k):\n",
    "            \n",
    "            if df_pp['ean'].loc[i] == df_pp['ean'].loc[indices[i][j]]:\n",
    "\n",
    "                df_pp[f'k-{k}'].loc[i] = 1\n",
    "                df_pp[f'k-{k}-qtd'].loc[i] += 1\n",
    "\n",
    "        df_pp[f'k-{k}-qtd/{k}'].loc[i] = (df_pp[f'k-{k}-qtd'].loc[i])/k\n",
    "        "
   ]
  },
  {
   "cell_type": "code",
   "execution_count": null,
   "metadata": {},
   "outputs": [],
   "source": [
    "df_pp['k-1'].value_counts()"
   ]
  },
  {
   "cell_type": "code",
   "execution_count": null,
   "metadata": {},
   "outputs": [],
   "source": [
    "df_pp['k-10'].value_counts()"
   ]
  },
  {
   "cell_type": "code",
   "execution_count": null,
   "metadata": {},
   "outputs": [],
   "source": [
    "df_pp['k-50'].value_counts()"
   ]
  },
  {
   "cell_type": "code",
   "execution_count": null,
   "metadata": {},
   "outputs": [],
   "source": [
    "df_pp[[\"k-1\", \"k-1-qtd\", \"k-1-qtd/1\", \"k-10\", \"k-10-qtd\", \"k-10-qtd/10\", \"k-50\", \"k-50-qtd\", \"k-50-qtd/50\"]]"
   ]
  },
  {
   "cell_type": "code",
   "execution_count": 10,
   "metadata": {},
   "outputs": [
    {
     "data": {
      "text/html": [
       "<div>\n",
       "<style scoped>\n",
       "    .dataframe tbody tr th:only-of-type {\n",
       "        vertical-align: middle;\n",
       "    }\n",
       "\n",
       "    .dataframe tbody tr th {\n",
       "        vertical-align: top;\n",
       "    }\n",
       "\n",
       "    .dataframe thead th {\n",
       "        text-align: right;\n",
       "    }\n",
       "</style>\n",
       "<table border=\"1\" class=\"dataframe\">\n",
       "  <thead>\n",
       "    <tr style=\"text-align: right;\">\n",
       "      <th></th>\n",
       "      <th>k-1</th>\n",
       "      <th>k-1-qtd</th>\n",
       "      <th>k-1-qtd/1</th>\n",
       "      <th>k-10</th>\n",
       "      <th>k-10-qtd</th>\n",
       "      <th>k-10-qtd/10</th>\n",
       "      <th>k-50</th>\n",
       "      <th>k-50-qtd</th>\n",
       "      <th>k-50-qtd/50</th>\n",
       "    </tr>\n",
       "  </thead>\n",
       "  <tbody>\n",
       "    <tr>\n",
       "      <th>count</th>\n",
       "      <td>2079.000000</td>\n",
       "      <td>2079.000000</td>\n",
       "      <td>2079.000000</td>\n",
       "      <td>2079.000000</td>\n",
       "      <td>2079.00000</td>\n",
       "      <td>2079.000000</td>\n",
       "      <td>2079.000000</td>\n",
       "      <td>2079.000000</td>\n",
       "      <td>2079.000000</td>\n",
       "    </tr>\n",
       "    <tr>\n",
       "      <th>mean</th>\n",
       "      <td>0.003367</td>\n",
       "      <td>0.003367</td>\n",
       "      <td>0.003367</td>\n",
       "      <td>0.097643</td>\n",
       "      <td>0.12025</td>\n",
       "      <td>0.012025</td>\n",
       "      <td>0.152477</td>\n",
       "      <td>0.210197</td>\n",
       "      <td>0.004204</td>\n",
       "    </tr>\n",
       "    <tr>\n",
       "      <th>std</th>\n",
       "      <td>0.057942</td>\n",
       "      <td>0.057942</td>\n",
       "      <td>0.057942</td>\n",
       "      <td>0.296903</td>\n",
       "      <td>0.40327</td>\n",
       "      <td>0.040327</td>\n",
       "      <td>0.359569</td>\n",
       "      <td>0.570001</td>\n",
       "      <td>0.011400</td>\n",
       "    </tr>\n",
       "    <tr>\n",
       "      <th>min</th>\n",
       "      <td>0.000000</td>\n",
       "      <td>0.000000</td>\n",
       "      <td>0.000000</td>\n",
       "      <td>0.000000</td>\n",
       "      <td>0.00000</td>\n",
       "      <td>0.000000</td>\n",
       "      <td>0.000000</td>\n",
       "      <td>0.000000</td>\n",
       "      <td>0.000000</td>\n",
       "    </tr>\n",
       "    <tr>\n",
       "      <th>25%</th>\n",
       "      <td>0.000000</td>\n",
       "      <td>0.000000</td>\n",
       "      <td>0.000000</td>\n",
       "      <td>0.000000</td>\n",
       "      <td>0.00000</td>\n",
       "      <td>0.000000</td>\n",
       "      <td>0.000000</td>\n",
       "      <td>0.000000</td>\n",
       "      <td>0.000000</td>\n",
       "    </tr>\n",
       "    <tr>\n",
       "      <th>50%</th>\n",
       "      <td>0.000000</td>\n",
       "      <td>0.000000</td>\n",
       "      <td>0.000000</td>\n",
       "      <td>0.000000</td>\n",
       "      <td>0.00000</td>\n",
       "      <td>0.000000</td>\n",
       "      <td>0.000000</td>\n",
       "      <td>0.000000</td>\n",
       "      <td>0.000000</td>\n",
       "    </tr>\n",
       "    <tr>\n",
       "      <th>75%</th>\n",
       "      <td>0.000000</td>\n",
       "      <td>0.000000</td>\n",
       "      <td>0.000000</td>\n",
       "      <td>0.000000</td>\n",
       "      <td>0.00000</td>\n",
       "      <td>0.000000</td>\n",
       "      <td>0.000000</td>\n",
       "      <td>0.000000</td>\n",
       "      <td>0.000000</td>\n",
       "    </tr>\n",
       "    <tr>\n",
       "      <th>max</th>\n",
       "      <td>1.000000</td>\n",
       "      <td>1.000000</td>\n",
       "      <td>1.000000</td>\n",
       "      <td>1.000000</td>\n",
       "      <td>4.00000</td>\n",
       "      <td>0.400000</td>\n",
       "      <td>1.000000</td>\n",
       "      <td>4.000000</td>\n",
       "      <td>0.080000</td>\n",
       "    </tr>\n",
       "  </tbody>\n",
       "</table>\n",
       "</div>"
      ],
      "text/plain": [
       "               k-1      k-1-qtd    k-1-qtd/1         k-10    k-10-qtd  \\\n",
       "count  2079.000000  2079.000000  2079.000000  2079.000000  2079.00000   \n",
       "mean      0.003367     0.003367     0.003367     0.097643     0.12025   \n",
       "std       0.057942     0.057942     0.057942     0.296903     0.40327   \n",
       "min       0.000000     0.000000     0.000000     0.000000     0.00000   \n",
       "25%       0.000000     0.000000     0.000000     0.000000     0.00000   \n",
       "50%       0.000000     0.000000     0.000000     0.000000     0.00000   \n",
       "75%       0.000000     0.000000     0.000000     0.000000     0.00000   \n",
       "max       1.000000     1.000000     1.000000     1.000000     4.00000   \n",
       "\n",
       "       k-10-qtd/10         k-50     k-50-qtd  k-50-qtd/50  \n",
       "count  2079.000000  2079.000000  2079.000000  2079.000000  \n",
       "mean      0.012025     0.152477     0.210197     0.004204  \n",
       "std       0.040327     0.359569     0.570001     0.011400  \n",
       "min       0.000000     0.000000     0.000000     0.000000  \n",
       "25%       0.000000     0.000000     0.000000     0.000000  \n",
       "50%       0.000000     0.000000     0.000000     0.000000  \n",
       "75%       0.000000     0.000000     0.000000     0.000000  \n",
       "max       0.400000     1.000000     4.000000     0.080000  "
      ]
     },
     "execution_count": 10,
     "metadata": {},
     "output_type": "execute_result"
    }
   ],
   "source": [
    "df_pp[[\"k-1\", \"k-1-qtd\", \"k-1-qtd/1\", \"k-10\", \"k-10-qtd\", \"k-10-qtd/10\", \"k-50\", \"k-50-qtd\", \"k-50-qtd/50\"]].describe()"
   ]
  },
  {
   "cell_type": "code",
   "execution_count": 11,
   "metadata": {},
   "outputs": [
    {
     "name": "stderr",
     "output_type": "stream",
     "text": [
      "c:\\Users\\llvs2\\anaconda3\\lib\\site-packages\\pandas\\core\\indexing.py:1732: SettingWithCopyWarning: \n",
      "A value is trying to be set on a copy of a slice from a DataFrame\n",
      "\n",
      "See the caveats in the documentation: https://pandas.pydata.org/pandas-docs/stable/user_guide/indexing.html#returning-a-view-versus-a-copy\n",
      "  self._setitem_single_block(indexer, value, name)\n"
     ]
    }
   ],
   "source": [
    "# criando uma coluna nova no df\n",
    "df_pp['match_rank'] = 0\n",
    "df_pp['1/match_rank'] = 0\n",
    "df_pp['match_rank/total'] = 0\n",
    "tam_df = df_pp.shape[0]\n",
    "\n",
    "# para cada linha do dataframe\n",
    "for i in range(tam_df):\n",
    "\n",
    "    # para cada uma das distâncias encontradas rankeadas em ordem decrescente\n",
    "    for cont, j in enumerate(indices[i]):\n",
    "    \n",
    "        # se for match\n",
    "        if (df_pp['ean'].loc[i] == df_pp['ean'].loc[j]) and (i != j):\n",
    "\n",
    "            # guarda a posição do primeiro match, lembrando que o enumerate começa em 0\n",
    "            df_pp['match_rank'].loc[i] = (cont + 1)\n",
    "            df_pp['1/match_rank'].loc[i] = 1/(cont + 1)\n",
    "            df_pp['match_rank/total'].loc[i] = (cont + 1)/tam_df\n",
    "            \n",
    "            # para o for\n",
    "            break"
   ]
  },
  {
   "cell_type": "code",
   "execution_count": 12,
   "metadata": {},
   "outputs": [
    {
     "data": {
      "text/html": [
       "<div>\n",
       "<style scoped>\n",
       "    .dataframe tbody tr th:only-of-type {\n",
       "        vertical-align: middle;\n",
       "    }\n",
       "\n",
       "    .dataframe tbody tr th {\n",
       "        vertical-align: top;\n",
       "    }\n",
       "\n",
       "    .dataframe thead th {\n",
       "        text-align: right;\n",
       "    }\n",
       "</style>\n",
       "<table border=\"1\" class=\"dataframe\">\n",
       "  <thead>\n",
       "    <tr style=\"text-align: right;\">\n",
       "      <th></th>\n",
       "      <th>k-1</th>\n",
       "      <th>k-1-qtd</th>\n",
       "      <th>k-1-qtd/1</th>\n",
       "      <th>k-10</th>\n",
       "      <th>k-10-qtd</th>\n",
       "      <th>k-10-qtd/10</th>\n",
       "      <th>k-50</th>\n",
       "      <th>k-50-qtd</th>\n",
       "      <th>k-50-qtd/50</th>\n",
       "      <th>match_rank</th>\n",
       "      <th>match_rank/total</th>\n",
       "      <th>1/match_rank</th>\n",
       "    </tr>\n",
       "  </thead>\n",
       "  <tbody>\n",
       "    <tr>\n",
       "      <th>0</th>\n",
       "      <td>0</td>\n",
       "      <td>0</td>\n",
       "      <td>0</td>\n",
       "      <td>1</td>\n",
       "      <td>1</td>\n",
       "      <td>0.1</td>\n",
       "      <td>1</td>\n",
       "      <td>1</td>\n",
       "      <td>0.02</td>\n",
       "      <td>9</td>\n",
       "      <td>0.004329</td>\n",
       "      <td>0.111111</td>\n",
       "    </tr>\n",
       "    <tr>\n",
       "      <th>1</th>\n",
       "      <td>0</td>\n",
       "      <td>0</td>\n",
       "      <td>0</td>\n",
       "      <td>0</td>\n",
       "      <td>0</td>\n",
       "      <td>0.0</td>\n",
       "      <td>0</td>\n",
       "      <td>0</td>\n",
       "      <td>0.00</td>\n",
       "      <td>0</td>\n",
       "      <td>0.000000</td>\n",
       "      <td>0.000000</td>\n",
       "    </tr>\n",
       "    <tr>\n",
       "      <th>2</th>\n",
       "      <td>0</td>\n",
       "      <td>0</td>\n",
       "      <td>0</td>\n",
       "      <td>0</td>\n",
       "      <td>0</td>\n",
       "      <td>0.0</td>\n",
       "      <td>0</td>\n",
       "      <td>0</td>\n",
       "      <td>0.00</td>\n",
       "      <td>0</td>\n",
       "      <td>0.000000</td>\n",
       "      <td>0.000000</td>\n",
       "    </tr>\n",
       "    <tr>\n",
       "      <th>3</th>\n",
       "      <td>0</td>\n",
       "      <td>0</td>\n",
       "      <td>0</td>\n",
       "      <td>1</td>\n",
       "      <td>3</td>\n",
       "      <td>0.3</td>\n",
       "      <td>1</td>\n",
       "      <td>3</td>\n",
       "      <td>0.06</td>\n",
       "      <td>7</td>\n",
       "      <td>0.003367</td>\n",
       "      <td>0.142857</td>\n",
       "    </tr>\n",
       "    <tr>\n",
       "      <th>4</th>\n",
       "      <td>0</td>\n",
       "      <td>0</td>\n",
       "      <td>0</td>\n",
       "      <td>0</td>\n",
       "      <td>0</td>\n",
       "      <td>0.0</td>\n",
       "      <td>0</td>\n",
       "      <td>0</td>\n",
       "      <td>0.00</td>\n",
       "      <td>0</td>\n",
       "      <td>0.000000</td>\n",
       "      <td>0.000000</td>\n",
       "    </tr>\n",
       "    <tr>\n",
       "      <th>...</th>\n",
       "      <td>...</td>\n",
       "      <td>...</td>\n",
       "      <td>...</td>\n",
       "      <td>...</td>\n",
       "      <td>...</td>\n",
       "      <td>...</td>\n",
       "      <td>...</td>\n",
       "      <td>...</td>\n",
       "      <td>...</td>\n",
       "      <td>...</td>\n",
       "      <td>...</td>\n",
       "      <td>...</td>\n",
       "    </tr>\n",
       "    <tr>\n",
       "      <th>2074</th>\n",
       "      <td>0</td>\n",
       "      <td>0</td>\n",
       "      <td>0</td>\n",
       "      <td>0</td>\n",
       "      <td>0</td>\n",
       "      <td>0.0</td>\n",
       "      <td>0</td>\n",
       "      <td>0</td>\n",
       "      <td>0.00</td>\n",
       "      <td>0</td>\n",
       "      <td>0.000000</td>\n",
       "      <td>0.000000</td>\n",
       "    </tr>\n",
       "    <tr>\n",
       "      <th>2075</th>\n",
       "      <td>0</td>\n",
       "      <td>0</td>\n",
       "      <td>0</td>\n",
       "      <td>0</td>\n",
       "      <td>0</td>\n",
       "      <td>0.0</td>\n",
       "      <td>0</td>\n",
       "      <td>0</td>\n",
       "      <td>0.00</td>\n",
       "      <td>70</td>\n",
       "      <td>0.033670</td>\n",
       "      <td>0.014286</td>\n",
       "    </tr>\n",
       "    <tr>\n",
       "      <th>2076</th>\n",
       "      <td>0</td>\n",
       "      <td>0</td>\n",
       "      <td>0</td>\n",
       "      <td>0</td>\n",
       "      <td>0</td>\n",
       "      <td>0.0</td>\n",
       "      <td>0</td>\n",
       "      <td>0</td>\n",
       "      <td>0.00</td>\n",
       "      <td>0</td>\n",
       "      <td>0.000000</td>\n",
       "      <td>0.000000</td>\n",
       "    </tr>\n",
       "    <tr>\n",
       "      <th>2077</th>\n",
       "      <td>0</td>\n",
       "      <td>0</td>\n",
       "      <td>0</td>\n",
       "      <td>0</td>\n",
       "      <td>0</td>\n",
       "      <td>0.0</td>\n",
       "      <td>0</td>\n",
       "      <td>0</td>\n",
       "      <td>0.00</td>\n",
       "      <td>0</td>\n",
       "      <td>0.000000</td>\n",
       "      <td>0.000000</td>\n",
       "    </tr>\n",
       "    <tr>\n",
       "      <th>2078</th>\n",
       "      <td>0</td>\n",
       "      <td>0</td>\n",
       "      <td>0</td>\n",
       "      <td>0</td>\n",
       "      <td>0</td>\n",
       "      <td>0.0</td>\n",
       "      <td>0</td>\n",
       "      <td>0</td>\n",
       "      <td>0.00</td>\n",
       "      <td>0</td>\n",
       "      <td>0.000000</td>\n",
       "      <td>0.000000</td>\n",
       "    </tr>\n",
       "  </tbody>\n",
       "</table>\n",
       "<p>2079 rows × 12 columns</p>\n",
       "</div>"
      ],
      "text/plain": [
       "      k-1  k-1-qtd  k-1-qtd/1  k-10  k-10-qtd  k-10-qtd/10  k-50  k-50-qtd  \\\n",
       "0       0        0          0     1         1          0.1     1         1   \n",
       "1       0        0          0     0         0          0.0     0         0   \n",
       "2       0        0          0     0         0          0.0     0         0   \n",
       "3       0        0          0     1         3          0.3     1         3   \n",
       "4       0        0          0     0         0          0.0     0         0   \n",
       "...   ...      ...        ...   ...       ...          ...   ...       ...   \n",
       "2074    0        0          0     0         0          0.0     0         0   \n",
       "2075    0        0          0     0         0          0.0     0         0   \n",
       "2076    0        0          0     0         0          0.0     0         0   \n",
       "2077    0        0          0     0         0          0.0     0         0   \n",
       "2078    0        0          0     0         0          0.0     0         0   \n",
       "\n",
       "      k-50-qtd/50  match_rank  match_rank/total  1/match_rank  \n",
       "0            0.02           9          0.004329      0.111111  \n",
       "1            0.00           0          0.000000      0.000000  \n",
       "2            0.00           0          0.000000      0.000000  \n",
       "3            0.06           7          0.003367      0.142857  \n",
       "4            0.00           0          0.000000      0.000000  \n",
       "...           ...         ...               ...           ...  \n",
       "2074         0.00           0          0.000000      0.000000  \n",
       "2075         0.00          70          0.033670      0.014286  \n",
       "2076         0.00           0          0.000000      0.000000  \n",
       "2077         0.00           0          0.000000      0.000000  \n",
       "2078         0.00           0          0.000000      0.000000  \n",
       "\n",
       "[2079 rows x 12 columns]"
      ]
     },
     "execution_count": 12,
     "metadata": {},
     "output_type": "execute_result"
    }
   ],
   "source": [
    "df_pp[[\"k-1\", \"k-1-qtd\", \"k-1-qtd/1\", \"k-10\", \"k-10-qtd\", \"k-10-qtd/10\", \"k-50\", \"k-50-qtd\", \"k-50-qtd/50\", 'match_rank', 'match_rank/total', '1/match_rank']]"
   ]
  },
  {
   "cell_type": "code",
   "execution_count": null,
   "metadata": {},
   "outputs": [],
   "source": [
    "#tirando a média e dividindo pela quantidade total de produtos\n",
    "#df_pp[['match_rank', 'match_rank/total', '1/match_rank']].describe()"
   ]
  },
  {
   "cell_type": "code",
   "execution_count": null,
   "metadata": {},
   "outputs": [],
   "source": [
    "#df_pp[[\"k-1\", \"k-10\", \"k-50\", \"match_rank\"]][df_pp['match_rank'] > 50]"
   ]
  },
  {
   "cell_type": "code",
   "execution_count": null,
   "metadata": {},
   "outputs": [],
   "source": [
    "#df_pp.to_csv(f\"Dados/Produtos Processados/Metricas/{arquivos[0]}.csv\", index = False)"
   ]
  }
 ],
 "metadata": {
  "kernelspec": {
   "display_name": "Python 3.9.7 ('base')",
   "language": "python",
   "name": "python3"
  },
  "language_info": {
   "codemirror_mode": {
    "name": "ipython",
    "version": 3
   },
   "file_extension": ".py",
   "mimetype": "text/x-python",
   "name": "python",
   "nbconvert_exporter": "python",
   "pygments_lexer": "ipython3",
   "version": "3.9.7"
  },
  "orig_nbformat": 4,
  "vscode": {
   "interpreter": {
    "hash": "4889b298c2b41a0f37c917b2884deb5a3a36b040cfb99d0e8c1edb9e5e6fadf3"
   }
  }
 },
 "nbformat": 4,
 "nbformat_minor": 2
}
