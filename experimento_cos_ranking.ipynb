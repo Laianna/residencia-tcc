{
 "cells": [
  {
   "cell_type": "markdown",
   "metadata": {},
   "source": [
    "# Importando as Bibliotecas"
   ]
  },
  {
   "cell_type": "code",
   "execution_count": 1,
   "metadata": {},
   "outputs": [],
   "source": [
    "import ranking\n",
    "import salvar_resultados as sr\n",
    "\n",
    "import pandas as pd\n",
    "import numpy as np\n",
    "import string\n",
    "\n",
    "import time"
   ]
  },
  {
   "cell_type": "markdown",
   "metadata": {},
   "source": [
    "# Constantes"
   ]
  },
  {
   "cell_type": "code",
   "execution_count": 2,
   "metadata": {},
   "outputs": [],
   "source": [
    "COLUNAS = (\"indice\", \"titulo_sa\", \"ean\", \"categoria\")\n",
    "LISTA_CATEGORIAS = (\"celulares\", \"notebooks\", \"geladeiras\", \"fogoes\", \"tvs\")"
   ]
  },
  {
   "cell_type": "markdown",
   "metadata": {},
   "source": [
    "# Lendo os Datasets"
   ]
  },
  {
   "cell_type": "code",
   "execution_count": 3,
   "metadata": {},
   "outputs": [],
   "source": [
    "#arquivos = ['ale_1_1', 'ale_5_1', 'hn_1_1', 'hn_5_1']\n",
    "#arquivos = ['ale_1_1']\n",
    "#arquivos = ['ale_5_1']\n",
    "#arquivos = ['hn_1_1']\n",
    "arquivos = ['hn_5_1']\n",
    "\n",
    "lista_df_treino = []\n",
    "lista_df_teste = []\n",
    "for arquivo in arquivos:\n",
    "\n",
    "    df_treino = pd.read_csv(f\"Dados/Datasets/Treino/{arquivo}_treino.csv\", dtype = {'ean_1': str, 'ean_2': str})\n",
    "    df_teste = pd.read_csv(f\"Dados/Datasets/Teste/{arquivo}_teste.csv\", dtype = {'ean_1': str, 'ean_2': str})\n",
    "    lista_df_treino.append(df_treino)\n",
    "    lista_df_teste.append(df_teste)"
   ]
  },
  {
   "cell_type": "markdown",
   "metadata": {},
   "source": [
    "# Funções"
   ]
  },
  {
   "cell_type": "code",
   "execution_count": 4,
   "metadata": {},
   "outputs": [],
   "source": [
    "def criar_dicionario(indice, titulo_sa, ean, categoria):\n",
    "    \n",
    "    return {\n",
    "            'indice' : indice, 'titulo_sa' : titulo_sa, 'ean' : ean, 'categoria' : categoria\n",
    "           }\n",
    "\n",
    "\n",
    "def criar_df_match(df_concat, ean_repetido):\n",
    "\n",
    "    df_matches = pd.DataFrame(columns = COLUNAS)\n",
    "    for ean in ean_repetido:\n",
    "\n",
    "        # pega o indice da primeira linha com aquele EAN\n",
    "        filtro = (df_concat['ean'] == ean)\n",
    "        indice = next(iter(filtro.index[filtro]))\n",
    "\n",
    "        dicionario = criar_dicionario(\n",
    "                                    indice = indice,\n",
    "                                    titulo_sa = df_concat.loc[indice]['titulo_sa'],\n",
    "                                    ean = df_concat.loc[indice]['ean'],\n",
    "                                    categoria = df_concat.loc[indice]['categoria']\n",
    "                                    )\n",
    "\n",
    "        df_matches = df_matches.append(dicionario, ignore_index = True)\n",
    "\n",
    "    df_matches.sort_values('indice', inplace = True)\n",
    "    df_matches.reset_index(drop = True, inplace = True)\n",
    "\n",
    "    return df_matches\n",
    "\n",
    "\n",
    "def salvar_resultado(nome, df):\n",
    "\n",
    "    df.to_csv(f'Dados/Resultados/Cos_Rankeado/{nome}_métricas.csv', index = False)\n",
    "\n",
    "\n",
    "def salvar_resultado_categoria(nome, df):\n",
    "\n",
    "    for categoria in LISTA_CATEGORIAS:\n",
    "\n",
    "        df[df[\"categoria\"] == categoria].to_csv(f'Dados/Resultados/Cos_Rankeado/{categoria}/{nome}_métricas.csv', index = False)"
   ]
  },
  {
   "cell_type": "markdown",
   "metadata": {},
   "source": [
    "# BoW"
   ]
  },
  {
   "cell_type": "code",
   "execution_count": 5,
   "metadata": {},
   "outputs": [
    {
     "name": "stderr",
     "output_type": "stream",
     "text": [
      "c:\\Users\\llvs2\\anaconda3\\lib\\site-packages\\pandas\\core\\indexing.py:1732: SettingWithCopyWarning: \n",
      "A value is trying to be set on a copy of a slice from a DataFrame\n",
      "\n",
      "See the caveats in the documentation: https://pandas.pydata.org/pandas-docs/stable/user_guide/indexing.html#returning-a-view-versus-a-copy\n",
      "  self._setitem_single_block(indexer, value, name)\n"
     ]
    }
   ],
   "source": [
    "flag_cos = True\n",
    "if flag_cos == True:\n",
    "\n",
    "    dir_metricas = f\"Dados/Resultados/Ranqueado/Cos\"\n",
    "\n",
    "    for nome, df_teste in zip(arquivos, lista_df_teste):\n",
    "\n",
    "        # remoção de pontuação e acentos\n",
    "        ranking.fazer_pre_processamento(df_teste)\n",
    "\n",
    "        df_concat, df_matches = ranking.criar_df_teste(df_teste)\n",
    "\n",
    "        # calculando a quantidade máxima de palavras no título\n",
    "        tam_max = ranking.calcular_tam_max(df_concat['titulo_sa'])\n",
    "\n",
    "        inicio_tempo = time.time()\n",
    "        # calculando o BoW de cada título\n",
    "        cv, titulo_bow = ranking.formatar_entrada_bow(df_concat['titulo_sa'], mf = tam_max)\n",
    "        # calculando a distância entre os vetores (apenas linhas com match)\n",
    "        resultado = ranking.calcular_dis_2_vetores_cond(titulo_bow, df_matches)\n",
    "        final_tempo = time.time()\n",
    "        tempo = final_tempo - inicio_tempo\n",
    "\n",
    "        # adicionando o tempo que demorou para o algoritmo rodar\n",
    "        ranking.calcular_tempo(df_matches, inicio_tempo, final_tempo)\n",
    "\n",
    "        # calcular acuracia_k e match rank\n",
    "        indices, valores = ranking.calcular_metricas(df_matches, df_concat, resultado)\n",
    "\n",
    "        #salvar métricas\n",
    "        sr.salvar_resultado(nome, df_matches, dir_metricas)\n",
    "        sr.salvar_resultado_categoria(nome, df_matches, dir_metricas)\n",
    "\n",
    "        break"
   ]
  },
  {
   "cell_type": "code",
   "execution_count": 6,
   "metadata": {},
   "outputs": [
    {
     "ename": "NameError",
     "evalue": "name 'a' is not defined",
     "output_type": "error",
     "traceback": [
      "\u001b[1;31m---------------------------------------------------------------------------\u001b[0m",
      "\u001b[1;31mNameError\u001b[0m                                 Traceback (most recent call last)",
      "\u001b[1;32m~\\AppData\\Local\\Temp/ipykernel_19336/836354671.py\u001b[0m in \u001b[0;36m<module>\u001b[1;34m\u001b[0m\n\u001b[1;32m----> 1\u001b[1;33m \u001b[0ma\u001b[0m\u001b[1;33m\u001b[0m\u001b[1;33m\u001b[0m\u001b[0m\n\u001b[0m",
      "\u001b[1;31mNameError\u001b[0m: name 'a' is not defined"
     ]
    }
   ],
   "source": [
    "    a"
   ]
  },
  {
   "cell_type": "markdown",
   "metadata": {},
   "source": [
    "# Resultados"
   ]
  },
  {
   "cell_type": "code",
   "execution_count": null,
   "metadata": {},
   "outputs": [],
   "source": [
    "def print_acu_k(df, flag = True):\n",
    "\n",
    "    linha_1 = f\"  | k-1\\t | k-10\\t| k-50\\t|\"\n",
    "\n",
    "    if flag == True:\n",
    "        linha_2 = f\"1 | {df['k-1'].value_counts()[1]}\\t | {df['k-10'].value_counts()[1]}\\t| {df['k-50'].value_counts()[1]}\\t|\"\n",
    "    else:\n",
    "        linha_2 = f\"1 | {df['k-1'].value_counts()[1]} | {df['k-10'].value_counts()[1]}\\t| {df['k-50'].value_counts()[1]}\\t|\"\n",
    "    linha_3 = f\"0 | {df['k-1'].value_counts()[0]}\\t | {df['k-10'].value_counts()[0]}\\t| {df['k-50'].value_counts()[0]}\\t|\"\n",
    "\n",
    "    print(f\"{linha_1}\\n{linha_2}\\n{linha_3}\")\n",
    "\n",
    "\n",
    "def print_describe(df):\n",
    "\n",
    "    print(\"\")\n",
    "    print(df[[\"k-1\", \"k-10\", \"k-50\", 'match_rank', '1/match_rank']].describe())"
   ]
  },
  {
   "cell_type": "markdown",
   "metadata": {},
   "source": [
    "## Geral"
   ]
  },
  {
   "cell_type": "code",
   "execution_count": null,
   "metadata": {},
   "outputs": [],
   "source": [
    "arquivos = ['ale_1_1', 'ale_5_1', 'hn_1_1', 'hn_5_1']\n",
    "\n",
    "lista_df_resultado = []\n",
    "for arquivo in arquivos:\n",
    "\n",
    "    df_treino = pd.read_csv(f\"Dados/Resultados/Cos_Rankeado/{arquivo}_métricas.csv\")\n",
    "    lista_df_resultado.append(df_treino)"
   ]
  },
  {
   "cell_type": "markdown",
   "metadata": {},
   "source": [
    "### Aleátorio"
   ]
  },
  {
   "cell_type": "markdown",
   "metadata": {},
   "source": [
    "#### 1:1"
   ]
  },
  {
   "cell_type": "code",
   "execution_count": null,
   "metadata": {},
   "outputs": [],
   "source": [
    "df_ale_1_1 = lista_df_resultado[0]\n",
    "print_acu_k(df_ale_1_1)\n",
    "print_describe(df_ale_1_1)"
   ]
  },
  {
   "cell_type": "markdown",
   "metadata": {},
   "source": [
    "#### 5:1"
   ]
  },
  {
   "cell_type": "code",
   "execution_count": null,
   "metadata": {},
   "outputs": [],
   "source": [
    "df_ale_5_1 = lista_df_resultado[1]\n",
    "print_acu_k(df_ale_5_1, False)\n",
    "print_describe(df_ale_5_1)"
   ]
  },
  {
   "cell_type": "markdown",
   "metadata": {},
   "source": [
    "### Hard Negative"
   ]
  },
  {
   "cell_type": "markdown",
   "metadata": {},
   "source": [
    "#### 1:1"
   ]
  },
  {
   "cell_type": "code",
   "execution_count": null,
   "metadata": {},
   "outputs": [],
   "source": [
    "df_hn_1_1 = lista_df_resultado[2]\n",
    "print_acu_k(df_hn_1_1)\n",
    "print_describe(df_hn_1_1)"
   ]
  },
  {
   "cell_type": "markdown",
   "metadata": {},
   "source": [
    "#### 5:1"
   ]
  },
  {
   "cell_type": "code",
   "execution_count": null,
   "metadata": {},
   "outputs": [],
   "source": [
    "df_hn_5_1 = lista_df_resultado[3]\n",
    "print_acu_k(df_hn_5_1, False)\n",
    "print_describe(df_hn_5_1)"
   ]
  },
  {
   "cell_type": "markdown",
   "metadata": {},
   "source": [
    "## Por Categoria"
   ]
  },
  {
   "cell_type": "markdown",
   "metadata": {},
   "source": [
    "### Celulares"
   ]
  },
  {
   "cell_type": "code",
   "execution_count": null,
   "metadata": {},
   "outputs": [],
   "source": [
    "arquivos = ['ale_1_1', 'ale_5_1', 'hn_1_1', 'hn_5_1']\n",
    "\n",
    "lista_df_celulares = []\n",
    "for arquivo in arquivos:\n",
    "\n",
    "    df_celulares = pd.read_csv(f\"Dados/Resultados/Cos_Rankeado/celulares/{arquivo}_métricas.csv\")\n",
    "    lista_df_celulares.append(df_celulares)"
   ]
  },
  {
   "cell_type": "code",
   "execution_count": null,
   "metadata": {},
   "outputs": [],
   "source": [
    "df_ale_1_1_cel = lista_df_celulares[0]\n",
    "df_ale_5_1_cel = lista_df_celulares[1]\n",
    "df_hn_1_1_cel = lista_df_celulares[2]\n",
    "df_hn_5_1_cel = lista_df_celulares[3]"
   ]
  },
  {
   "cell_type": "code",
   "execution_count": null,
   "metadata": {},
   "outputs": [],
   "source": [
    "print_acu_k(df_ale_1_1_cel)\n",
    "print_describe(df_ale_1_1_cel)"
   ]
  },
  {
   "cell_type": "code",
   "execution_count": null,
   "metadata": {},
   "outputs": [],
   "source": [
    "print_acu_k(df_ale_5_1_cel)\n",
    "print_describe(df_ale_5_1_cel)"
   ]
  },
  {
   "cell_type": "code",
   "execution_count": null,
   "metadata": {},
   "outputs": [],
   "source": [
    "print_acu_k(df_hn_1_1_cel)\n",
    "print_describe(df_hn_1_1_cel)"
   ]
  },
  {
   "cell_type": "code",
   "execution_count": null,
   "metadata": {},
   "outputs": [],
   "source": [
    "print(f\"  | k-1\\t | k-10\\t| k-50\\t|\\n1 | {df_hn_5_1_cel['k-1'].value_counts()[1]} | {df_hn_5_1_cel['k-10'].value_counts()[1]}\\t| {df_hn_5_1_cel['k-50'].value_counts()[1]}\\t|\\n0 | {df_hn_5_1_cel['k-1'].value_counts()[0]}\\t | {df_hn_5_1_cel['k-10'].value_counts()[0]}\\t|\\t|\")\n",
    "print_describe(df_hn_5_1_cel)"
   ]
  },
  {
   "cell_type": "markdown",
   "metadata": {},
   "source": [
    "### Fogões"
   ]
  },
  {
   "cell_type": "code",
   "execution_count": null,
   "metadata": {},
   "outputs": [],
   "source": [
    "arquivos = ['ale_1_1', 'ale_5_1', 'hn_1_1', 'hn_5_1']\n",
    "\n",
    "lista_df_fogoes = []\n",
    "for arquivo in arquivos:\n",
    "\n",
    "    df_fogoes = pd.read_csv(f\"Dados/Resultados/Cos_Rankeado/fogoes/{arquivo}_métricas.csv\")\n",
    "    lista_df_fogoes.append(df_fogoes)"
   ]
  },
  {
   "cell_type": "code",
   "execution_count": null,
   "metadata": {},
   "outputs": [],
   "source": [
    "df_ale_1_1_fg = lista_df_fogoes[0]\n",
    "df_ale_5_1_fg = lista_df_fogoes[1]\n",
    "df_hn_1_1_fg = lista_df_fogoes[2]\n",
    "df_hn_5_1_fg = lista_df_fogoes[3]"
   ]
  },
  {
   "cell_type": "code",
   "execution_count": null,
   "metadata": {},
   "outputs": [],
   "source": [
    "print_acu_k(df_ale_1_1_fg)\n",
    "print_describe(df_ale_1_1_fg)"
   ]
  },
  {
   "cell_type": "code",
   "execution_count": null,
   "metadata": {},
   "outputs": [],
   "source": [
    "print_acu_k(df_ale_5_1_fg)\n",
    "print_describe(df_ale_5_1_fg)"
   ]
  },
  {
   "cell_type": "code",
   "execution_count": null,
   "metadata": {},
   "outputs": [],
   "source": [
    "print_acu_k(df_hn_1_1_fg)\n",
    "print_describe(df_hn_1_1_fg)"
   ]
  },
  {
   "cell_type": "code",
   "execution_count": null,
   "metadata": {},
   "outputs": [],
   "source": [
    "print(f\"  | k-1\\t | k-10\\t| k-50\\t|\\n1 | {df_hn_5_1_fg['k-1'].value_counts()[1]}  | {df_hn_5_1_fg['k-10'].value_counts()[1]}\\t| {df_hn_5_1_fg['k-50'].value_counts()[1]}\\t|\\n0 | {df_hn_5_1_fg['k-1'].value_counts()[0]}\\t | {df_hn_5_1_fg['k-10'].value_counts()[0]}\\t|\\t|\")\n",
    "print_describe(df_hn_5_1_fg)"
   ]
  },
  {
   "cell_type": "markdown",
   "metadata": {},
   "source": [
    "### Geladeiras"
   ]
  },
  {
   "cell_type": "code",
   "execution_count": null,
   "metadata": {},
   "outputs": [],
   "source": [
    "arquivos = ['ale_1_1', 'ale_5_1', 'hn_1_1', 'hn_5_1']\n",
    "\n",
    "lista_df_gel = []\n",
    "for arquivo in arquivos:\n",
    "\n",
    "    df_gel = pd.read_csv(f\"Dados/Resultados/Cos_Rankeado/geladeiras/{arquivo}_métricas.csv\")\n",
    "    lista_df_gel.append(df_gel)"
   ]
  },
  {
   "cell_type": "code",
   "execution_count": null,
   "metadata": {},
   "outputs": [],
   "source": [
    "df_ale_1_1_gel = lista_df_gel[0]\n",
    "df_ale_5_1_gel = lista_df_gel[1]\n",
    "df_hn_1_1_gel = lista_df_gel[2]\n",
    "df_hn_5_1_gel = lista_df_gel[3]"
   ]
  },
  {
   "cell_type": "code",
   "execution_count": null,
   "metadata": {},
   "outputs": [],
   "source": [
    "print_acu_k(df_ale_1_1_gel)\n",
    "print_describe(df_ale_1_1_gel)"
   ]
  },
  {
   "cell_type": "code",
   "execution_count": null,
   "metadata": {},
   "outputs": [],
   "source": [
    "print_acu_k(df_ale_5_1_gel)\n",
    "print_describe(df_ale_5_1_gel)"
   ]
  },
  {
   "cell_type": "code",
   "execution_count": null,
   "metadata": {},
   "outputs": [],
   "source": [
    "print_acu_k(df_hn_1_1_gel)\n",
    "print_describe(df_hn_1_1_gel)"
   ]
  },
  {
   "cell_type": "code",
   "execution_count": null,
   "metadata": {},
   "outputs": [],
   "source": [
    "print_acu_k(df_hn_5_1_gel)\n",
    "print_describe(df_hn_5_1_gel)"
   ]
  },
  {
   "cell_type": "markdown",
   "metadata": {},
   "source": [
    "### Notebooks"
   ]
  },
  {
   "cell_type": "code",
   "execution_count": null,
   "metadata": {},
   "outputs": [],
   "source": [
    "arquivos = ['ale_1_1', 'ale_5_1', 'hn_1_1', 'hn_5_1']\n",
    "\n",
    "lista_df_not = []\n",
    "for arquivo in arquivos:\n",
    "\n",
    "    df_not = pd.read_csv(f\"Dados/Resultados/Cos_Rankeado/notebooks/{arquivo}_métricas.csv\")\n",
    "    lista_df_not.append(df_not)"
   ]
  },
  {
   "cell_type": "code",
   "execution_count": null,
   "metadata": {},
   "outputs": [],
   "source": [
    "df_ale_1_1_not = lista_df_not[0]\n",
    "df_ale_5_1_not = lista_df_not[1]\n",
    "df_hn_1_1_not = lista_df_not[2]\n",
    "df_hn_5_1_not = lista_df_not[3]"
   ]
  },
  {
   "cell_type": "code",
   "execution_count": null,
   "metadata": {},
   "outputs": [],
   "source": [
    "print_acu_k(df_ale_1_1_not)\n",
    "print_describe(df_ale_1_1_not)"
   ]
  },
  {
   "cell_type": "code",
   "execution_count": null,
   "metadata": {},
   "outputs": [],
   "source": [
    "print_acu_k(df_ale_5_1_not)\n",
    "print_describe(df_ale_5_1_not)"
   ]
  },
  {
   "cell_type": "code",
   "execution_count": null,
   "metadata": {},
   "outputs": [],
   "source": [
    "print_acu_k(df_hn_1_1_not)\n",
    "print_describe(df_hn_1_1_not)"
   ]
  },
  {
   "cell_type": "code",
   "execution_count": null,
   "metadata": {},
   "outputs": [],
   "source": [
    "print_acu_k(df_hn_5_1_not)\n",
    "print_describe(df_hn_5_1_not)"
   ]
  },
  {
   "cell_type": "markdown",
   "metadata": {},
   "source": [
    "### TVs"
   ]
  },
  {
   "cell_type": "code",
   "execution_count": null,
   "metadata": {},
   "outputs": [],
   "source": [
    "arquivos = ['ale_1_1', 'ale_5_1', 'hn_1_1', 'hn_5_1']\n",
    "\n",
    "lista_df_tv = []\n",
    "for arquivo in arquivos:\n",
    "\n",
    "    df_tv = pd.read_csv(f\"Dados/Resultados/Cos_Rankeado/tvs/{arquivo}_métricas.csv\")\n",
    "    lista_df_tv.append(df_tv)"
   ]
  },
  {
   "cell_type": "code",
   "execution_count": null,
   "metadata": {},
   "outputs": [],
   "source": [
    "df_ale_1_1_tv = lista_df_tv[0]\n",
    "df_ale_5_1_tv = lista_df_tv[1]\n",
    "df_hn_1_1_tv = lista_df_tv[2]\n",
    "df_hn_5_1_tv = lista_df_tv[3]"
   ]
  },
  {
   "cell_type": "code",
   "execution_count": null,
   "metadata": {},
   "outputs": [],
   "source": [
    "print(f\"  | k-1\\t | k-10\\t| k-50\\t|\\n1 | {df_ale_1_1_tv['k-1'].value_counts()[1]}   | {df_ale_1_1_tv['k-10'].value_counts()[1]}\\t| {df_ale_1_1_tv['k-50'].value_counts()[1]}\\t|\\n0 | {df_ale_1_1_tv['k-1'].value_counts()[0]}\\t | {df_ale_1_1_tv['k-10'].value_counts()[0]}\\t|\\t|\")\n",
    "print_describe(df_ale_1_1_tv)"
   ]
  },
  {
   "cell_type": "code",
   "execution_count": null,
   "metadata": {},
   "outputs": [],
   "source": [
    "print_acu_k(df_ale_5_1_tv)\n",
    "print_describe(df_ale_5_1_tv)"
   ]
  },
  {
   "cell_type": "code",
   "execution_count": null,
   "metadata": {},
   "outputs": [],
   "source": [
    "print_acu_k(df_hn_1_1_tv)\n",
    "print_describe(df_hn_1_1_tv)"
   ]
  },
  {
   "cell_type": "code",
   "execution_count": null,
   "metadata": {},
   "outputs": [],
   "source": [
    "print_acu_k(df_hn_5_1_tv)\n",
    "print_describe(df_hn_5_1_tv)"
   ]
  }
 ],
 "metadata": {
  "kernelspec": {
   "display_name": "Python 3.9.7 ('base')",
   "language": "python",
   "name": "python3"
  },
  "language_info": {
   "codemirror_mode": {
    "name": "ipython",
    "version": 3
   },
   "file_extension": ".py",
   "mimetype": "text/x-python",
   "name": "python",
   "nbconvert_exporter": "python",
   "pygments_lexer": "ipython3",
   "version": "3.9.7"
  },
  "orig_nbformat": 4,
  "vscode": {
   "interpreter": {
    "hash": "4889b298c2b41a0f37c917b2884deb5a3a36b040cfb99d0e8c1edb9e5e6fadf3"
   }
  }
 },
 "nbformat": 4,
 "nbformat_minor": 2
}
