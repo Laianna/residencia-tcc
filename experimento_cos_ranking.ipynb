{
 "cells": [
  {
   "cell_type": "markdown",
   "metadata": {},
   "source": [
    "# Importando as Bibliotecas"
   ]
  },
  {
   "cell_type": "code",
   "execution_count": 1,
   "metadata": {},
   "outputs": [],
   "source": [
    "import ranking\n",
    "import salvar_resultados as sr\n",
    "\n",
    "import pandas as pd\n",
    "import numpy as np\n",
    "import string\n",
    "\n",
    "import time"
   ]
  },
  {
   "cell_type": "markdown",
   "metadata": {},
   "source": [
    "# Constantes"
   ]
  },
  {
   "cell_type": "code",
   "execution_count": 2,
   "metadata": {},
   "outputs": [],
   "source": [
    "COLUNAS = (\"indice\", \"titulo_sa\", \"ean\", \"categoria\")\n",
    "LISTA_CATEGORIAS = (\"celulares\", \"notebooks\", \"geladeiras\", \"fogoes\", \"tvs\")"
   ]
  },
  {
   "cell_type": "markdown",
   "metadata": {},
   "source": [
    "# Lendo os Datasets"
   ]
  },
  {
   "cell_type": "code",
   "execution_count": null,
   "metadata": {},
   "outputs": [],
   "source": [
    "#arquivos = ['ale_1_1', 'ale_5_1', 'hn_1_1', 'hn_5_1']\n",
    "#arquivos = ['ale_1_1']\n",
    "#arquivos = ['ale_5_1']\n",
    "#arquivos = ['hn_1_1']\n",
    "arquivos = ['hn_5_1']\n",
    "\n",
    "lista_df_treino = []\n",
    "lista_df_teste = []\n",
    "for arquivo in arquivos:\n",
    "\n",
    "    df_treino = pd.read_csv(f\"Dados/Datasets/Treino/{arquivo}_treino.csv\", dtype = {'ean_1': str, 'ean_2': str})\n",
    "    df_teste = pd.read_csv(f\"Dados/Datasets/Teste/{arquivo}_teste.csv\", dtype = {'ean_1': str, 'ean_2': str})\n",
    "    lista_df_treino.append(df_treino)\n",
    "    lista_df_teste.append(df_teste)"
   ]
  },
  {
   "cell_type": "markdown",
   "metadata": {},
   "source": [
    "# Funções"
   ]
  },
  {
   "cell_type": "code",
   "execution_count": null,
   "metadata": {},
   "outputs": [],
   "source": [
    "def criar_dicionario(indice, titulo_sa, ean, categoria):\n",
    "    \n",
    "    return {\n",
    "            'indice' : indice, 'titulo_sa' : titulo_sa, 'ean' : ean, 'categoria' : categoria\n",
    "           }\n",
    "\n",
    "\n",
    "def criar_df_match(df_concat, ean_repetido):\n",
    "\n",
    "    df_matches = pd.DataFrame(columns = COLUNAS)\n",
    "    for ean in ean_repetido:\n",
    "\n",
    "        # pega o indice da primeira linha com aquele EAN\n",
    "        filtro = (df_concat['ean'] == ean)\n",
    "        indice = next(iter(filtro.index[filtro]))\n",
    "\n",
    "        dicionario = criar_dicionario(\n",
    "                                    indice = indice,\n",
    "                                    titulo_sa = df_concat.loc[indice]['titulo_sa'],\n",
    "                                    ean = df_concat.loc[indice]['ean'],\n",
    "                                    categoria = df_concat.loc[indice]['categoria']\n",
    "                                    )\n",
    "\n",
    "        df_matches = df_matches.append(dicionario, ignore_index = True)\n",
    "\n",
    "    df_matches.sort_values('indice', inplace = True)\n",
    "    df_matches.reset_index(drop = True, inplace = True)\n",
    "\n",
    "    return df_matches\n",
    "\n",
    "\n",
    "def salvar_resultado(nome, df):\n",
    "\n",
    "    df.to_csv(f'Dados/Resultados/Cos_Rankeado/{nome}_métricas.csv', index = False)\n",
    "\n",
    "\n",
    "def salvar_resultado_categoria(nome, df):\n",
    "\n",
    "    for categoria in LISTA_CATEGORIAS:\n",
    "\n",
    "        df[df[\"categoria\"] == categoria].to_csv(f'Dados/Resultados/Cos_Rankeado/{categoria}/{nome}_métricas.csv', index = False)"
   ]
  },
  {
   "cell_type": "markdown",
   "metadata": {},
   "source": [
    "# BoW"
   ]
  },
  {
   "cell_type": "code",
   "execution_count": null,
   "metadata": {},
   "outputs": [],
   "source": [
    "flag_cos = True\n",
    "if flag_cos == True:\n",
    "\n",
    "    dir_metricas = f\"Dados/Resultados/Ranqueado/Cos\"\n",
    "\n",
    "    for nome, df_teste in zip(arquivos, lista_df_teste):\n",
    "\n",
    "        # remoção de pontuação e acentos\n",
    "        ranking.fazer_pre_processamento(df_teste)\n",
    "\n",
    "        df_concat, df_matches = ranking.criar_df_teste(df_teste)\n",
    "\n",
    "        # calculando a quantidade máxima de palavras no título\n",
    "        tam_max = ranking.calcular_tam_max(df_concat['titulo_sa'])\n",
    "\n",
    "        inicio_tempo = time.time()\n",
    "        # calculando o BoW de cada título\n",
    "        cv, titulo_bow = ranking.formatar_entrada_bow(df_concat['titulo_sa'], mf = tam_max)\n",
    "        # calculando a distância entre os vetores (apenas linhas com match)\n",
    "        resultado = ranking.calcular_dis_2_vetores_cond(titulo_bow, df_matches)\n",
    "        final_tempo = time.time()\n",
    "        tempo = final_tempo - inicio_tempo\n",
    "\n",
    "        # adicionando o tempo que demorou para o algoritmo rodar\n",
    "        ranking.calcular_tempo(df_matches, inicio_tempo, final_tempo)\n",
    "\n",
    "        # calcular acuracia_k e match rank\n",
    "        indices, valores = ranking.calcular_metricas(df_matches, df_concat, resultado)\n",
    "\n",
    "        #salvar métricas\n",
    "        sr.salvar_resultado(nome, df_matches, dir_metricas)\n",
    "        sr.salvar_resultado_categoria(nome, df_matches, dir_metricas)\n",
    "\n",
    "        break"
   ]
  },
  {
   "cell_type": "code",
   "execution_count": null,
   "metadata": {},
   "outputs": [],
   "source": [
    "    a"
   ]
  },
  {
   "cell_type": "markdown",
   "metadata": {},
   "source": [
    "# Resultados"
   ]
  },
  {
   "cell_type": "code",
   "execution_count": 3,
   "metadata": {},
   "outputs": [],
   "source": [
    "def print_acu_k(df, flag = True):\n",
    "\n",
    "    linha_1 = f\"  | k-1\\t | k-10\\t| k-50\\t|\"\n",
    "\n",
    "    if flag == True:\n",
    "        linha_2 = f\"1 | {df['k-1'].value_counts()[1]}\\t | {df['k-10'].value_counts()[1]}\\t| {df['k-50'].value_counts()[1]}\\t|\"\n",
    "    else:\n",
    "        linha_2 = f\"1 | {df['k-1'].value_counts()[1]} | {df['k-10'].value_counts()[1]}\\t| {df['k-50'].value_counts()[1]}\\t|\"\n",
    "    linha_3 = f\"0 | {df['k-1'].value_counts()[0]}\\t | {df['k-10'].value_counts()[0]}\\t| {df['k-50'].value_counts()[0]}\\t|\"\n",
    "\n",
    "    print(f\"{linha_1}\\n{linha_2}\\n{linha_3}\")\n",
    "\n",
    "\n",
    "def print_describe(df):\n",
    "\n",
    "    print(\"\")\n",
    "    print(df[[\"k-1\", \"k-10\", \"k-50\", 'match_rank', '1/match_rank']].describe())"
   ]
  },
  {
   "cell_type": "markdown",
   "metadata": {},
   "source": [
    "## Geral"
   ]
  },
  {
   "cell_type": "code",
   "execution_count": 4,
   "metadata": {},
   "outputs": [],
   "source": [
    "arquivos = ['ale_1_1', 'ale_5_1', 'hn_1_1', 'hn_5_1']\n",
    "\n",
    "lista_df_resultado = []\n",
    "for arquivo in arquivos:\n",
    "\n",
    "    df_treino = pd.read_csv(f\"Dados/Resultados/Ranqueado/Cos/{arquivo}_métricas.csv\")\n",
    "    lista_df_resultado.append(df_treino)"
   ]
  },
  {
   "cell_type": "markdown",
   "metadata": {},
   "source": [
    "### Aleátorio"
   ]
  },
  {
   "cell_type": "markdown",
   "metadata": {},
   "source": [
    "#### 1:1"
   ]
  },
  {
   "cell_type": "code",
   "execution_count": 5,
   "metadata": {},
   "outputs": [
    {
     "name": "stdout",
     "output_type": "stream",
     "text": [
      "  | k-1\t | k-10\t| k-50\t|\n",
      "1 | 200\t | 367\t| 438\t|\n",
      "0 | 258\t | 91\t| 20\t|\n",
      "\n",
      "              k-1       k-10        k-50  match_rank  1/match_rank\n",
      "count  458.000000  458.00000  458.000000  458.000000    458.000000\n",
      "mean     0.436681    0.80131    0.956332   11.093886      0.556268\n",
      "std      0.496517    0.39945    0.204579   29.148565      0.412447\n",
      "min      0.000000    0.00000    0.000000    1.000000      0.003704\n",
      "25%      0.000000    1.00000    1.000000    1.000000      0.142857\n",
      "50%      0.000000    1.00000    1.000000    2.000000      0.500000\n",
      "75%      1.000000    1.00000    1.000000    7.000000      1.000000\n",
      "max      1.000000    1.00000    1.000000  270.000000      1.000000\n"
     ]
    }
   ],
   "source": [
    "df_ale_1_1 = lista_df_resultado[0]\n",
    "print_acu_k(df_ale_1_1)\n",
    "print_describe(df_ale_1_1)"
   ]
  },
  {
   "cell_type": "markdown",
   "metadata": {},
   "source": [
    "#### 5:1"
   ]
  },
  {
   "cell_type": "code",
   "execution_count": 6,
   "metadata": {},
   "outputs": [
    {
     "name": "stdout",
     "output_type": "stream",
     "text": [
      "  | k-1\t | k-10\t| k-50\t|\n",
      "1 | 225 | 474\t| 581\t|\n",
      "0 | 406\t | 157\t| 50\t|\n",
      "\n",
      "              k-1        k-10        k-50  match_rank  1/match_rank\n",
      "count  631.000000  631.000000  631.000000  631.000000    631.000000\n",
      "mean     0.356577    0.751189    0.920761   15.705230      0.485451\n",
      "std      0.479368    0.432667    0.270326   38.368124      0.407919\n",
      "min      0.000000    0.000000    0.000000    1.000000      0.002283\n",
      "25%      0.000000    1.000000    1.000000    1.000000      0.100000\n",
      "50%      0.000000    1.000000    1.000000    3.000000      0.333333\n",
      "75%      1.000000    1.000000    1.000000   10.000000      1.000000\n",
      "max      1.000000    1.000000    1.000000  438.000000      1.000000\n"
     ]
    }
   ],
   "source": [
    "df_ale_5_1 = lista_df_resultado[1]\n",
    "print_acu_k(df_ale_5_1, False)\n",
    "print_describe(df_ale_5_1)"
   ]
  },
  {
   "cell_type": "markdown",
   "metadata": {},
   "source": [
    "### Hard Negative"
   ]
  },
  {
   "cell_type": "markdown",
   "metadata": {},
   "source": [
    "#### 1:1"
   ]
  },
  {
   "cell_type": "code",
   "execution_count": 12,
   "metadata": {},
   "outputs": [
    {
     "name": "stdout",
     "output_type": "stream",
     "text": [
      "  | k-1\t | k-10\t| k-50\t|\n",
      "1 | 192\t | 422\t| 499\t|\n",
      "0 | 338\t | 108\t| 31\t|\n",
      "\n",
      "              k-1        k-10        k-50  match_rank  1/match_rank\n",
      "count  530.000000  530.000000  530.000000  530.000000    530.000000\n",
      "mean     0.362264    0.796226    0.941509   11.864151      0.504844\n",
      "std      0.481109    0.403183    0.234890   32.191835      0.398234\n",
      "min      0.000000    0.000000    0.000000    1.000000      0.002625\n",
      "25%      0.000000    1.000000    1.000000    1.000000      0.125000\n",
      "50%      0.000000    1.000000    1.000000    3.000000      0.333333\n",
      "75%      1.000000    1.000000    1.000000    8.000000      1.000000\n",
      "max      1.000000    1.000000    1.000000  381.000000      1.000000\n"
     ]
    }
   ],
   "source": [
    "df_hn_1_1 = lista_df_resultado[2]\n",
    "print_acu_k(df_hn_1_1)\n",
    "print_describe(df_hn_1_1)"
   ]
  },
  {
   "cell_type": "markdown",
   "metadata": {},
   "source": [
    "#### 5:1"
   ]
  },
  {
   "cell_type": "code",
   "execution_count": 13,
   "metadata": {},
   "outputs": [
    {
     "name": "stdout",
     "output_type": "stream",
     "text": [
      "  | k-1\t | k-10\t| k-50\t|\n",
      "1 | 266 | 574\t| 694\t|\n",
      "0 | 490\t | 182\t| 62\t|\n",
      "\n",
      "              k-1        k-10        k-50  match_rank  1/match_rank\n",
      "count  756.000000  756.000000  756.000000  756.000000    756.000000\n",
      "mean     0.351852    0.759259    0.917989   16.727513      0.483830\n",
      "std      0.477864    0.427816    0.274562   47.739468      0.405226\n",
      "min      0.000000    0.000000    0.000000    1.000000      0.001645\n",
      "25%      0.000000    1.000000    1.000000    1.000000      0.100000\n",
      "50%      0.000000    1.000000    1.000000    3.000000      0.333333\n",
      "75%      1.000000    1.000000    1.000000   10.000000      1.000000\n",
      "max      1.000000    1.000000    1.000000  608.000000      1.000000\n"
     ]
    }
   ],
   "source": [
    "df_hn_5_1 = lista_df_resultado[3]\n",
    "print_acu_k(df_hn_5_1, False)\n",
    "print_describe(df_hn_5_1)"
   ]
  },
  {
   "cell_type": "markdown",
   "metadata": {},
   "source": [
    "## Por Categoria"
   ]
  },
  {
   "cell_type": "markdown",
   "metadata": {},
   "source": [
    "### Celulares"
   ]
  },
  {
   "cell_type": "code",
   "execution_count": 9,
   "metadata": {},
   "outputs": [],
   "source": [
    "arquivos = ['ale_1_1', 'ale_5_1', 'hn_1_1', 'hn_5_1']\n",
    "\n",
    "lista_df_celulares = []\n",
    "for arquivo in arquivos:\n",
    "\n",
    "    df_celulares = pd.read_csv(f\"Dados/Resultados/Ranqueado/Cos/celulares/{arquivo}_métricas.csv\")\n",
    "    lista_df_celulares.append(df_celulares)"
   ]
  },
  {
   "cell_type": "code",
   "execution_count": 10,
   "metadata": {},
   "outputs": [],
   "source": [
    "df_ale_1_1_cel = lista_df_celulares[0]\n",
    "df_ale_5_1_cel = lista_df_celulares[1]\n",
    "df_hn_1_1_cel = lista_df_celulares[2]\n",
    "df_hn_5_1_cel = lista_df_celulares[3]"
   ]
  },
  {
   "cell_type": "code",
   "execution_count": 11,
   "metadata": {},
   "outputs": [
    {
     "name": "stdout",
     "output_type": "stream",
     "text": [
      "  | k-1\t | k-10\t| k-50\t|\n",
      "1 | 34\t | 67\t| 80\t|\n",
      "0 | 49\t | 16\t| 3\t|\n",
      "\n",
      "             k-1       k-10       k-50  match_rank  1/match_rank\n",
      "count  83.000000  83.000000  83.000000   83.000000     83.000000\n",
      "mean    0.409639   0.807229   0.963855   11.253012      0.516927\n",
      "std     0.494757   0.396873   0.187784   31.363270      0.419709\n",
      "min     0.000000   0.000000   0.000000    1.000000      0.003704\n",
      "25%     0.000000   1.000000   1.000000    1.000000      0.142857\n",
      "50%     0.000000   1.000000   1.000000    3.000000      0.333333\n",
      "75%     1.000000   1.000000   1.000000    7.000000      1.000000\n",
      "max     1.000000   1.000000   1.000000  270.000000      1.000000\n"
     ]
    }
   ],
   "source": [
    "print_acu_k(df_ale_1_1_cel)\n",
    "print_describe(df_ale_1_1_cel)"
   ]
  },
  {
   "cell_type": "code",
   "execution_count": 12,
   "metadata": {},
   "outputs": [
    {
     "name": "stdout",
     "output_type": "stream",
     "text": [
      "  | k-1\t | k-10\t| k-50\t|\n",
      "1 | 24\t | 62\t| 76\t|\n",
      "0 | 64\t | 26\t| 12\t|\n",
      "\n",
      "             k-1       k-10       k-50  match_rank  1/match_rank\n",
      "count  88.000000  88.000000  88.000000   88.000000     88.000000\n",
      "mean    0.272727   0.704545   0.863636   20.011364      0.418079\n",
      "std     0.447914   0.458861   0.345141   37.847393      0.391428\n",
      "min     0.000000   0.000000   0.000000    1.000000      0.004808\n",
      "25%     0.000000   0.000000   1.000000    1.000000      0.071429\n",
      "50%     0.000000   1.000000   1.000000    4.000000      0.250000\n",
      "75%     1.000000   1.000000   1.000000   14.000000      1.000000\n",
      "max     1.000000   1.000000   1.000000  208.000000      1.000000\n"
     ]
    }
   ],
   "source": [
    "print_acu_k(df_ale_5_1_cel)\n",
    "print_describe(df_ale_5_1_cel)"
   ]
  },
  {
   "cell_type": "code",
   "execution_count": 13,
   "metadata": {},
   "outputs": [
    {
     "name": "stdout",
     "output_type": "stream",
     "text": [
      "  | k-1\t | k-10\t| k-50\t|\n",
      "1 | 26\t | 60\t| 76\t|\n",
      "0 | 57\t | 23\t| 7\t|\n",
      "\n",
      "             k-1       k-10       k-50  match_rank  1/match_rank\n",
      "count  83.000000  83.000000  83.000000   83.000000     83.000000\n",
      "mean    0.313253   0.722892   0.915663   13.012048      0.461356\n",
      "std     0.466636   0.450291   0.279582   25.840738      0.393800\n",
      "min     0.000000   0.000000   0.000000    1.000000      0.005682\n",
      "25%     0.000000   0.000000   1.000000    1.000000      0.077381\n",
      "50%     0.000000   1.000000   1.000000    3.000000      0.333333\n",
      "75%     1.000000   1.000000   1.000000   13.000000      1.000000\n",
      "max     1.000000   1.000000   1.000000  176.000000      1.000000\n"
     ]
    }
   ],
   "source": [
    "print_acu_k(df_hn_1_1_cel)\n",
    "print_describe(df_hn_1_1_cel)"
   ]
  },
  {
   "cell_type": "code",
   "execution_count": 14,
   "metadata": {},
   "outputs": [
    {
     "name": "stdout",
     "output_type": "stream",
     "text": [
      "  | k-1\t | k-10\t| k-50\t|\n",
      "1 | 38 | 84\t| 106\t|\n",
      "0 | 83\t | 37\t|\t|\n",
      "\n",
      "              k-1        k-10        k-50  match_rank  1/match_rank\n",
      "count  121.000000  121.000000  121.000000  121.000000    121.000000\n",
      "mean     0.314050    0.694215    0.876033   19.074380      0.430891\n",
      "std      0.466066    0.462655    0.330914   36.699265      0.409205\n",
      "min      0.000000    0.000000    0.000000    1.000000      0.003984\n",
      "25%      0.000000    0.000000    1.000000    1.000000      0.066667\n",
      "50%      0.000000    1.000000    1.000000    4.000000      0.250000\n",
      "75%      1.000000    1.000000    1.000000   15.000000      1.000000\n",
      "max      1.000000    1.000000    1.000000  251.000000      1.000000\n"
     ]
    }
   ],
   "source": [
    "print(f\"  | k-1\\t | k-10\\t| k-50\\t|\\n1 | {df_hn_5_1_cel['k-1'].value_counts()[1]} | {df_hn_5_1_cel['k-10'].value_counts()[1]}\\t| {df_hn_5_1_cel['k-50'].value_counts()[1]}\\t|\\n0 | {df_hn_5_1_cel['k-1'].value_counts()[0]}\\t | {df_hn_5_1_cel['k-10'].value_counts()[0]}\\t|\\t|\")\n",
    "print_describe(df_hn_5_1_cel)"
   ]
  },
  {
   "cell_type": "markdown",
   "metadata": {},
   "source": [
    "### Fogões"
   ]
  },
  {
   "cell_type": "code",
   "execution_count": 16,
   "metadata": {},
   "outputs": [],
   "source": [
    "arquivos = ['ale_1_1', 'ale_5_1', 'hn_1_1', 'hn_5_1']\n",
    "\n",
    "lista_df_fogoes = []\n",
    "for arquivo in arquivos:\n",
    "\n",
    "    df_fogoes = pd.read_csv(f\"Dados/Resultados/Ranqueado/Cos/fogoes/{arquivo}_métricas.csv\")\n",
    "    lista_df_fogoes.append(df_fogoes)"
   ]
  },
  {
   "cell_type": "code",
   "execution_count": 17,
   "metadata": {},
   "outputs": [],
   "source": [
    "df_ale_1_1_fg = lista_df_fogoes[0]\n",
    "df_ale_5_1_fg = lista_df_fogoes[1]\n",
    "df_hn_1_1_fg = lista_df_fogoes[2]\n",
    "df_hn_5_1_fg = lista_df_fogoes[3]"
   ]
  },
  {
   "cell_type": "code",
   "execution_count": 18,
   "metadata": {},
   "outputs": [
    {
     "name": "stdout",
     "output_type": "stream",
     "text": [
      "  | k-1\t | k-10\t| k-50\t|\n",
      "1 | 48\t | 112\t| 135\t|\n",
      "0 | 100\t | 36\t| 13\t|\n",
      "\n",
      "              k-1        k-10        k-50  match_rank  1/match_rank\n",
      "count  148.000000  148.000000  148.000000  148.000000    148.000000\n",
      "mean     0.324324    0.756757    0.912162   16.783784      0.467728\n",
      "std      0.469711    0.430498    0.284020   40.441196      0.396996\n",
      "min      0.000000    0.000000    0.000000    1.000000      0.003891\n",
      "25%      0.000000    1.000000    1.000000    1.000000      0.100000\n",
      "50%      0.000000    1.000000    1.000000    3.000000      0.333333\n",
      "75%      1.000000    1.000000    1.000000   10.000000      1.000000\n",
      "max      1.000000    1.000000    1.000000  257.000000      1.000000\n"
     ]
    }
   ],
   "source": [
    "print_acu_k(df_ale_1_1_fg)\n",
    "print_describe(df_ale_1_1_fg)"
   ]
  },
  {
   "cell_type": "code",
   "execution_count": 19,
   "metadata": {},
   "outputs": [
    {
     "name": "stdout",
     "output_type": "stream",
     "text": [
      "  | k-1\t | k-10\t| k-50\t|\n",
      "1 | 52\t | 156\t| 200\t|\n",
      "0 | 168\t | 64\t| 20\t|\n",
      "\n",
      "              k-1        k-10        k-50  match_rank  1/match_rank\n",
      "count  220.000000  220.000000  220.000000  220.000000    220.000000\n",
      "mean     0.236364    0.709091    0.909091   17.900000      0.395824\n",
      "std      0.425817    0.455217    0.288135   38.251976      0.372481\n",
      "min      0.000000    0.000000    0.000000    1.000000      0.003436\n",
      "25%      0.000000    0.000000    1.000000    2.000000      0.083333\n",
      "50%      0.000000    1.000000    1.000000    4.000000      0.250000\n",
      "75%      0.000000    1.000000    1.000000   12.000000      0.500000\n",
      "max      1.000000    1.000000    1.000000  291.000000      1.000000\n"
     ]
    }
   ],
   "source": [
    "print_acu_k(df_ale_5_1_fg)\n",
    "print_describe(df_ale_5_1_fg)"
   ]
  },
  {
   "cell_type": "code",
   "execution_count": 20,
   "metadata": {},
   "outputs": [
    {
     "name": "stdout",
     "output_type": "stream",
     "text": [
      "  | k-1\t | k-10\t| k-50\t|\n",
      "1 | 41\t | 132\t| 162\t|\n",
      "0 | 135\t | 44\t| 14\t|\n",
      "\n",
      "              k-1        k-10        k-50  match_rank  1/match_rank\n",
      "count  176.000000  176.000000  176.000000  176.000000    176.000000\n",
      "mean     0.232955    0.750000    0.920455   16.511364      0.391153\n",
      "std      0.423920    0.434248    0.271360   43.083837      0.367786\n",
      "min      0.000000    0.000000    0.000000    1.000000      0.002625\n",
      "25%      0.000000    0.750000    1.000000    2.000000      0.097727\n",
      "50%      0.000000    1.000000    1.000000    4.000000      0.250000\n",
      "75%      0.000000    1.000000    1.000000   10.250000      0.500000\n",
      "max      1.000000    1.000000    1.000000  381.000000      1.000000\n"
     ]
    }
   ],
   "source": [
    "print_acu_k(df_hn_1_1_fg)\n",
    "print_describe(df_hn_1_1_fg)"
   ]
  },
  {
   "cell_type": "code",
   "execution_count": 21,
   "metadata": {},
   "outputs": [
    {
     "name": "stdout",
     "output_type": "stream",
     "text": [
      "  | k-1\t | k-10\t| k-50\t|\n",
      "1 | 56  | 163\t| 206\t|\n",
      "0 | 172\t | 65\t|\t|\n",
      "\n",
      "              k-1        k-10        k-50  match_rank  1/match_rank\n",
      "count  228.000000  228.000000  228.000000  228.000000    228.000000\n",
      "mean     0.245614    0.714912    0.903509   21.855263      0.398620\n",
      "std      0.431398    0.452450    0.295913   64.267414      0.375013\n",
      "min      0.000000    0.000000    0.000000    1.000000      0.001645\n",
      "25%      0.000000    0.000000    1.000000    2.000000      0.075549\n",
      "50%      0.000000    1.000000    1.000000    4.000000      0.250000\n",
      "75%      0.000000    1.000000    1.000000   13.250000      0.500000\n",
      "max      1.000000    1.000000    1.000000  608.000000      1.000000\n"
     ]
    }
   ],
   "source": [
    "print(f\"  | k-1\\t | k-10\\t| k-50\\t|\\n1 | {df_hn_5_1_fg['k-1'].value_counts()[1]}  | {df_hn_5_1_fg['k-10'].value_counts()[1]}\\t| {df_hn_5_1_fg['k-50'].value_counts()[1]}\\t|\\n0 | {df_hn_5_1_fg['k-1'].value_counts()[0]}\\t | {df_hn_5_1_fg['k-10'].value_counts()[0]}\\t|\\t|\")\n",
    "print_describe(df_hn_5_1_fg)"
   ]
  },
  {
   "cell_type": "markdown",
   "metadata": {},
   "source": [
    "### Geladeiras"
   ]
  },
  {
   "cell_type": "code",
   "execution_count": 22,
   "metadata": {},
   "outputs": [],
   "source": [
    "arquivos = ['ale_1_1', 'ale_5_1', 'hn_1_1', 'hn_5_1']\n",
    "\n",
    "lista_df_gel = []\n",
    "for arquivo in arquivos:\n",
    "\n",
    "    df_gel = pd.read_csv(f\"Dados/Resultados/Ranqueado/Cos/geladeiras/{arquivo}_métricas.csv\")\n",
    "    lista_df_gel.append(df_gel)"
   ]
  },
  {
   "cell_type": "code",
   "execution_count": 23,
   "metadata": {},
   "outputs": [],
   "source": [
    "df_ale_1_1_gel = lista_df_gel[0]\n",
    "df_ale_5_1_gel = lista_df_gel[1]\n",
    "df_hn_1_1_gel = lista_df_gel[2]\n",
    "df_hn_5_1_gel = lista_df_gel[3]"
   ]
  },
  {
   "cell_type": "code",
   "execution_count": 24,
   "metadata": {},
   "outputs": [
    {
     "name": "stdout",
     "output_type": "stream",
     "text": [
      "  | k-1\t | k-10\t| k-50\t|\n",
      "1 | 32\t | 54\t| 66\t|\n",
      "0 | 35\t | 13\t| 1\t|\n",
      "\n",
      "             k-1       k-10       k-50  match_rank  1/match_rank\n",
      "count  67.000000  67.000000  67.000000   67.000000     67.000000\n",
      "mean    0.477612   0.805970   0.985075    7.119403      0.608131\n",
      "std     0.503268   0.398437   0.122169   12.628158      0.402144\n",
      "min     0.000000   0.000000   0.000000    1.000000      0.014286\n",
      "25%     0.000000   1.000000   1.000000    1.000000      0.250000\n",
      "50%     0.000000   1.000000   1.000000    2.000000      0.500000\n",
      "75%     1.000000   1.000000   1.000000    4.000000      1.000000\n",
      "max     1.000000   1.000000   1.000000   70.000000      1.000000\n"
     ]
    }
   ],
   "source": [
    "print_acu_k(df_ale_1_1_gel)\n",
    "print_describe(df_ale_1_1_gel)"
   ]
  },
  {
   "cell_type": "code",
   "execution_count": 25,
   "metadata": {},
   "outputs": [
    {
     "name": "stdout",
     "output_type": "stream",
     "text": [
      "  | k-1\t | k-10\t| k-50\t|\n",
      "1 | 33\t | 72\t| 91\t|\n",
      "0 | 63\t | 24\t| 5\t|\n",
      "\n",
      "             k-1       k-10       k-50  match_rank  1/match_rank\n",
      "count  96.000000  96.000000  96.000000   96.000000     96.000000\n",
      "mean    0.343750   0.750000   0.947917   13.135417      0.472809\n",
      "std     0.477452   0.435286   0.223361   27.120247      0.406697\n",
      "min     0.000000   0.000000   0.000000    1.000000      0.006410\n",
      "25%     0.000000   0.750000   1.000000    1.000000      0.095833\n",
      "50%     0.000000   1.000000   1.000000    3.000000      0.333333\n",
      "75%     1.000000   1.000000   1.000000   10.500000      1.000000\n",
      "max     1.000000   1.000000   1.000000  156.000000      1.000000\n"
     ]
    }
   ],
   "source": [
    "print_acu_k(df_ale_5_1_gel)\n",
    "print_describe(df_ale_5_1_gel)"
   ]
  },
  {
   "cell_type": "code",
   "execution_count": 26,
   "metadata": {},
   "outputs": [
    {
     "name": "stdout",
     "output_type": "stream",
     "text": [
      "  | k-1\t | k-10\t| k-50\t|\n",
      "1 | 22\t | 61\t| 68\t|\n",
      "0 | 49\t | 10\t| 3\t|\n",
      "\n",
      "             k-1       k-10       k-50  match_rank  1/match_rank\n",
      "count  71.000000  71.000000  71.000000   71.000000     71.000000\n",
      "mean    0.309859   0.859155   0.957746    7.380282      0.513031\n",
      "std     0.465727   0.350338   0.202599   14.733214      0.359136\n",
      "min     0.000000   0.000000   0.000000    1.000000      0.014085\n",
      "25%     0.000000   1.000000   1.000000    1.000000      0.250000\n",
      "50%     0.000000   1.000000   1.000000    2.000000      0.500000\n",
      "75%     1.000000   1.000000   1.000000    4.000000      1.000000\n",
      "max     1.000000   1.000000   1.000000   71.000000      1.000000\n"
     ]
    }
   ],
   "source": [
    "print_acu_k(df_hn_1_1_gel)\n",
    "print_describe(df_hn_1_1_gel)"
   ]
  },
  {
   "cell_type": "code",
   "execution_count": 27,
   "metadata": {},
   "outputs": [
    {
     "name": "stdout",
     "output_type": "stream",
     "text": [
      "  | k-1\t | k-10\t| k-50\t|\n",
      "1 | 28\t | 81\t| 99\t|\n",
      "0 | 80\t | 27\t| 9\t|\n",
      "\n",
      "              k-1        k-10        k-50  match_rank  1/match_rank\n",
      "count  108.000000  108.000000  108.000000  108.000000    108.000000\n",
      "mean     0.259259    0.750000    0.916667   15.407407      0.419145\n",
      "std      0.440271    0.435031    0.277674   33.950221      0.376393\n",
      "min      0.000000    0.000000    0.000000    1.000000      0.003906\n",
      "25%      0.000000    0.750000    1.000000    1.000000      0.097727\n",
      "50%      0.000000    1.000000    1.000000    3.500000      0.291667\n",
      "75%      1.000000    1.000000    1.000000   10.250000      1.000000\n",
      "max      1.000000    1.000000    1.000000  256.000000      1.000000\n"
     ]
    }
   ],
   "source": [
    "print_acu_k(df_hn_5_1_gel)\n",
    "print_describe(df_hn_5_1_gel)"
   ]
  },
  {
   "cell_type": "markdown",
   "metadata": {},
   "source": [
    "### Notebooks"
   ]
  },
  {
   "cell_type": "code",
   "execution_count": 28,
   "metadata": {},
   "outputs": [],
   "source": [
    "arquivos = ['ale_1_1', 'ale_5_1', 'hn_1_1', 'hn_5_1']\n",
    "\n",
    "lista_df_not = []\n",
    "for arquivo in arquivos:\n",
    "\n",
    "    df_not = pd.read_csv(f\"Dados/Resultados/Ranqueado/Cos/notebooks/{arquivo}_métricas.csv\")\n",
    "    lista_df_not.append(df_not)"
   ]
  },
  {
   "cell_type": "code",
   "execution_count": 29,
   "metadata": {},
   "outputs": [],
   "source": [
    "df_ale_1_1_not = lista_df_not[0]\n",
    "df_ale_5_1_not = lista_df_not[1]\n",
    "df_hn_1_1_not = lista_df_not[2]\n",
    "df_hn_5_1_not = lista_df_not[3]"
   ]
  },
  {
   "cell_type": "code",
   "execution_count": 30,
   "metadata": {},
   "outputs": [
    {
     "name": "stdout",
     "output_type": "stream",
     "text": [
      "  | k-1\t | k-10\t| k-50\t|\n",
      "1 | 55\t | 76\t| 85\t|\n",
      "0 | 33\t | 12\t| 3\t|\n",
      "\n",
      "             k-1       k-10       k-50  match_rank  1/match_rank\n",
      "count  88.000000  88.000000  88.000000   88.000000     88.000000\n",
      "mean    0.625000   0.863636   0.965909    7.431818      0.713611\n",
      "std     0.486897   0.345141   0.182503   21.731801      0.390252\n",
      "min     0.000000   0.000000   0.000000    1.000000      0.006849\n",
      "25%     0.000000   1.000000   1.000000    1.000000      0.333333\n",
      "50%     1.000000   1.000000   1.000000    1.000000      1.000000\n",
      "75%     1.000000   1.000000   1.000000    3.000000      1.000000\n",
      "max     1.000000   1.000000   1.000000  146.000000      1.000000\n"
     ]
    }
   ],
   "source": [
    "print_acu_k(df_ale_1_1_not)\n",
    "print_describe(df_ale_1_1_not)"
   ]
  },
  {
   "cell_type": "code",
   "execution_count": 31,
   "metadata": {},
   "outputs": [
    {
     "name": "stdout",
     "output_type": "stream",
     "text": [
      "  | k-1\t | k-10\t| k-50\t|\n",
      "1 | 64\t | 97\t| 104\t|\n",
      "0 | 45\t | 12\t| 5\t|\n",
      "\n",
      "              k-1        k-10        k-50  match_rank  1/match_rank\n",
      "count  109.000000  109.000000  109.000000  109.000000    109.000000\n",
      "mean     0.587156    0.889908    0.954128   11.899083      0.675610\n",
      "std      0.494619    0.314450    0.210173   51.093767      0.400808\n",
      "min      0.000000    0.000000    0.000000    1.000000      0.002283\n",
      "25%      0.000000    1.000000    1.000000    1.000000      0.250000\n",
      "50%      1.000000    1.000000    1.000000    1.000000      1.000000\n",
      "75%      1.000000    1.000000    1.000000    4.000000      1.000000\n",
      "max      1.000000    1.000000    1.000000  438.000000      1.000000\n"
     ]
    }
   ],
   "source": [
    "print_acu_k(df_ale_5_1_not)\n",
    "print_describe(df_ale_5_1_not)"
   ]
  },
  {
   "cell_type": "code",
   "execution_count": 32,
   "metadata": {},
   "outputs": [
    {
     "name": "stdout",
     "output_type": "stream",
     "text": [
      "  | k-1\t | k-10\t| k-50\t|\n",
      "1 | 68\t | 101\t| 112\t|\n",
      "0 | 48\t | 15\t| 4\t|\n",
      "\n",
      "              k-1        k-10        k-50  match_rank  1/match_rank\n",
      "count  116.000000  116.000000  116.000000  116.000000    116.000000\n",
      "mean     0.586207    0.870690    0.965517    7.646552      0.671636\n",
      "std      0.494649    0.336999    0.183257   21.402663      0.406003\n",
      "min      0.000000    0.000000    0.000000    1.000000      0.006494\n",
      "25%      0.000000    1.000000    1.000000    1.000000      0.200000\n",
      "50%      1.000000    1.000000    1.000000    1.000000      1.000000\n",
      "75%      1.000000    1.000000    1.000000    5.000000      1.000000\n",
      "max      1.000000    1.000000    1.000000  154.000000      1.000000\n"
     ]
    }
   ],
   "source": [
    "print_acu_k(df_hn_1_1_not)\n",
    "print_describe(df_hn_1_1_not)"
   ]
  },
  {
   "cell_type": "code",
   "execution_count": 33,
   "metadata": {},
   "outputs": [
    {
     "name": "stdout",
     "output_type": "stream",
     "text": [
      "  | k-1\t | k-10\t| k-50\t|\n",
      "1 | 96\t | 152\t| 165\t|\n",
      "0 | 74\t | 18\t| 5\t|\n",
      "\n",
      "              k-1        k-10        k-50  match_rank  1/match_rank\n",
      "count  170.000000  170.000000  170.000000  170.000000    170.000000\n",
      "mean     0.564706    0.894118    0.970588   10.623529      0.669822\n",
      "std      0.497260    0.308596    0.169457   46.761760      0.394970\n",
      "min      0.000000    0.000000    0.000000    1.000000      0.002304\n",
      "25%      0.000000    1.000000    1.000000    1.000000      0.250000\n",
      "50%      1.000000    1.000000    1.000000    1.000000      1.000000\n",
      "75%      1.000000    1.000000    1.000000    4.000000      1.000000\n",
      "max      1.000000    1.000000    1.000000  434.000000      1.000000\n"
     ]
    }
   ],
   "source": [
    "print_acu_k(df_hn_5_1_not)\n",
    "print_describe(df_hn_5_1_not)"
   ]
  },
  {
   "cell_type": "markdown",
   "metadata": {},
   "source": [
    "### TVs"
   ]
  },
  {
   "cell_type": "code",
   "execution_count": 34,
   "metadata": {},
   "outputs": [],
   "source": [
    "arquivos = ['ale_1_1', 'ale_5_1', 'hn_1_1', 'hn_5_1']\n",
    "\n",
    "lista_df_tv = []\n",
    "for arquivo in arquivos:\n",
    "\n",
    "    df_tv = pd.read_csv(f\"Dados/Resultados/Ranqueado/Cos/tvs/{arquivo}_métricas.csv\")\n",
    "    lista_df_tv.append(df_tv)"
   ]
  },
  {
   "cell_type": "code",
   "execution_count": 35,
   "metadata": {},
   "outputs": [],
   "source": [
    "df_ale_1_1_tv = lista_df_tv[0]\n",
    "df_ale_5_1_tv = lista_df_tv[1]\n",
    "df_hn_1_1_tv = lista_df_tv[2]\n",
    "df_hn_5_1_tv = lista_df_tv[3]"
   ]
  },
  {
   "cell_type": "code",
   "execution_count": 36,
   "metadata": {},
   "outputs": [
    {
     "name": "stdout",
     "output_type": "stream",
     "text": [
      "  | k-1\t | k-10\t| k-50\t|\n",
      "1 | 31   | 58\t| 72\t|\n",
      "0 | 41\t | 14\t|\t|\n",
      "\n",
      "             k-1       k-10  k-50  match_rank  1/match_rank\n",
      "count  72.000000  72.000000  72.0   72.000000     72.000000\n",
      "mean    0.430556   0.805556   1.0    7.388889      0.543046\n",
      "std     0.498629   0.398550   0.0   10.329168      0.420350\n",
      "min     0.000000   0.000000   1.0    1.000000      0.022727\n",
      "25%     0.000000   1.000000   1.0    1.000000      0.111111\n",
      "50%     0.000000   1.000000   1.0    2.000000      0.500000\n",
      "75%     1.000000   1.000000   1.0    9.000000      1.000000\n",
      "max     1.000000   1.000000   1.0   44.000000      1.000000\n"
     ]
    }
   ],
   "source": [
    "print(f\"  | k-1\\t | k-10\\t| k-50\\t|\\n1 | {df_ale_1_1_tv['k-1'].value_counts()[1]}   | {df_ale_1_1_tv['k-10'].value_counts()[1]}\\t| {df_ale_1_1_tv['k-50'].value_counts()[1]}\\t|\\n0 | {df_ale_1_1_tv['k-1'].value_counts()[0]}\\t | {df_ale_1_1_tv['k-10'].value_counts()[0]}\\t|\\t|\")\n",
    "print_describe(df_ale_1_1_tv)"
   ]
  },
  {
   "cell_type": "code",
   "execution_count": 37,
   "metadata": {},
   "outputs": [
    {
     "name": "stdout",
     "output_type": "stream",
     "text": [
      "  | k-1\t | k-10\t| k-50\t|\n",
      "1 | 52\t | 87\t| 110\t|\n",
      "0 | 66\t | 31\t| 8\t|\n",
      "\n",
      "              k-1        k-10        k-50  match_rank  1/match_rank\n",
      "count  118.000000  118.000000  118.000000  118.000000    118.000000\n",
      "mean     0.440678    0.737288    0.932203   14.008475      0.537428\n",
      "std      0.498586    0.441984    0.252469   32.726135      0.429781\n",
      "min      0.000000    0.000000    0.000000    1.000000      0.004975\n",
      "25%      0.000000    0.000000    1.000000    1.000000      0.090909\n",
      "50%      0.000000    1.000000    1.000000    2.000000      0.500000\n",
      "75%      1.000000    1.000000    1.000000   11.000000      1.000000\n",
      "max      1.000000    1.000000    1.000000  201.000000      1.000000\n"
     ]
    }
   ],
   "source": [
    "print_acu_k(df_ale_5_1_tv)\n",
    "print_describe(df_ale_5_1_tv)"
   ]
  },
  {
   "cell_type": "code",
   "execution_count": 38,
   "metadata": {},
   "outputs": [
    {
     "name": "stdout",
     "output_type": "stream",
     "text": [
      "  | k-1\t | k-10\t| k-50\t|\n",
      "1 | 35\t | 68\t| 81\t|\n",
      "0 | 49\t | 16\t| 3\t|\n",
      "\n",
      "             k-1       k-10       k-50  match_rank  1/match_rank\n",
      "count  84.000000  84.000000  84.000000   84.000000     84.000000\n",
      "mean    0.416667   0.809524   0.964286   10.607143      0.548772\n",
      "std     0.495968   0.395035   0.186691   33.511378      0.406212\n",
      "min     0.000000   0.000000   0.000000    1.000000      0.003484\n",
      "25%     0.000000   1.000000   1.000000    1.000000      0.142857\n",
      "50%     0.000000   1.000000   1.000000    2.000000      0.500000\n",
      "75%     1.000000   1.000000   1.000000    7.000000      1.000000\n",
      "max     1.000000   1.000000   1.000000  287.000000      1.000000\n"
     ]
    }
   ],
   "source": [
    "print_acu_k(df_hn_1_1_tv)\n",
    "print_describe(df_hn_1_1_tv)"
   ]
  },
  {
   "cell_type": "code",
   "execution_count": 39,
   "metadata": {},
   "outputs": [
    {
     "name": "stdout",
     "output_type": "stream",
     "text": [
      "  | k-1\t | k-10\t| k-50\t|\n",
      "1 | 48\t | 94\t| 118\t|\n",
      "0 | 81\t | 35\t| 11\t|\n",
      "\n",
      "              k-1        k-10        k-50  match_rank  1/match_rank\n",
      "count  129.000000  129.000000  129.000000  129.000000    129.000000\n",
      "mean     0.372093    0.728682    0.914729   14.612403      0.493139\n",
      "std      0.485247    0.446373    0.280374   29.954734      0.415499\n",
      "min      0.000000    0.000000    0.000000    1.000000      0.005556\n",
      "25%      0.000000    0.000000    1.000000    1.000000      0.083333\n",
      "50%      0.000000    1.000000    1.000000    3.000000      0.333333\n",
      "75%      1.000000    1.000000    1.000000   12.000000      1.000000\n",
      "max      1.000000    1.000000    1.000000  180.000000      1.000000\n"
     ]
    }
   ],
   "source": [
    "print_acu_k(df_hn_5_1_tv)\n",
    "print_describe(df_hn_5_1_tv)"
   ]
  }
 ],
 "metadata": {
  "kernelspec": {
   "display_name": "Python 3.9.7 ('base')",
   "language": "python",
   "name": "python3"
  },
  "language_info": {
   "codemirror_mode": {
    "name": "ipython",
    "version": 3
   },
   "file_extension": ".py",
   "mimetype": "text/x-python",
   "name": "python",
   "nbconvert_exporter": "python",
   "pygments_lexer": "ipython3",
   "version": "3.9.7"
  },
  "orig_nbformat": 4,
  "vscode": {
   "interpreter": {
    "hash": "4889b298c2b41a0f37c917b2884deb5a3a36b040cfb99d0e8c1edb9e5e6fadf3"
   }
  }
 },
 "nbformat": 4,
 "nbformat_minor": 2
}
