{
 "cells": [
  {
   "cell_type": "markdown",
   "metadata": {},
   "source": [
    "# Importando as Bibliotecas"
   ]
  },
  {
   "cell_type": "code",
   "execution_count": 1,
   "metadata": {},
   "outputs": [],
   "source": [
    "import ranking\n",
    "\n",
    "import pandas as pd\n",
    "import numpy as np\n",
    "import string\n",
    "\n",
    "from scipy import spatial\n",
    "\n",
    "from sklearn.metrics import classification_report\n",
    "from sklearn.feature_extraction.text import CountVectorizer\n",
    "\n",
    "import time"
   ]
  },
  {
   "cell_type": "markdown",
   "metadata": {},
   "source": [
    "# Lendo os Datasets"
   ]
  },
  {
   "cell_type": "code",
   "execution_count": 2,
   "metadata": {},
   "outputs": [],
   "source": [
    "arquivos = ['ale_1_1', 'ale_5_1', 'hn_1_1', 'hn_5_1']\n",
    "\n",
    "lista_df_treino = []\n",
    "lista_df_teste = []\n",
    "for arquivo in arquivos:\n",
    "\n",
    "    df_treino = pd.read_csv(f\"Dados/Datasets/Treino/{arquivo}_treino.csv\", dtype = {'ean_1': str, 'ean_2': str})\n",
    "    df_teste = pd.read_csv(f\"Dados/Datasets/Teste/{arquivo}_teste.csv\", dtype = {'ean_1': str, 'ean_2': str})\n",
    "    lista_df_treino.append(df_treino)\n",
    "    lista_df_teste.append(df_teste)"
   ]
  },
  {
   "cell_type": "code",
   "execution_count": 3,
   "metadata": {},
   "outputs": [],
   "source": [
    "df_teste = lista_df_teste[0]"
   ]
  },
  {
   "cell_type": "markdown",
   "metadata": {},
   "source": [
    "# Aplicando o BoW"
   ]
  },
  {
   "cell_type": "code",
   "execution_count": 4,
   "metadata": {},
   "outputs": [],
   "source": [
    "# remoção de pontuação e acentos\n",
    "ranking.fazer_pre_processamento(df_teste)\n",
    "\n",
    "# colocando os titulos em um dataframe com 1 coluna só\n",
    "df_concat = ranking.concatenar_df(df_teste)\n",
    "\n",
    "# calculando o tamanho máximo do título\n",
    "tam_max = ranking.calcular_tam_max(df_concat['titulo_sa'])"
   ]
  },
  {
   "cell_type": "code",
   "execution_count": 5,
   "metadata": {},
   "outputs": [],
   "source": [
    "# calculando o BoW do título\n",
    "cv, titulo_bow = ranking.formatar_entrada_bow(df_concat['titulo_sa'], mf = tam_max)\n",
    "#np.unique(titulo_bow)"
   ]
  },
  {
   "cell_type": "markdown",
   "metadata": {},
   "source": [
    "# Criando um Dataframe com Produtos com EAN Repetido"
   ]
  },
  {
   "cell_type": "code",
   "execution_count": 6,
   "metadata": {},
   "outputs": [],
   "source": [
    "vc = df_concat['ean'].value_counts()\n",
    "ean_repetido = vc[vc > 1].index.values"
   ]
  },
  {
   "cell_type": "code",
   "execution_count": 7,
   "metadata": {},
   "outputs": [],
   "source": [
    "COLUNAS = (\n",
    "           \"indice\", \"titulo_sa\", \"ean\", \"categoria\"\n",
    "          )\n",
    "\n",
    "\n",
    "def criar_dicionario(indice, titulo_sa, ean, categoria):\n",
    "    \n",
    "    return {\n",
    "            'indice' : indice, 'titulo_sa' : titulo_sa, 'ean' : ean, 'categoria' : categoria\n",
    "           }\n",
    "\n",
    "\n",
    "def criar_df_match(df_concat, ean_repetido):\n",
    "\n",
    "    df_matches = pd.DataFrame(columns = COLUNAS)\n",
    "    for ean in ean_repetido:\n",
    "\n",
    "        # pega o indice da primeira linha com aquele EAN\n",
    "        filtro = (df_concat['ean'] == ean)\n",
    "        indice = next(iter(filtro.index[filtro]))\n",
    "\n",
    "        dicionario = criar_dicionario(\n",
    "                                    indice = indice,\n",
    "                                    titulo_sa = df_concat.loc[indice]['titulo_sa'],\n",
    "                                    ean = df_concat.loc[indice]['ean'],\n",
    "                                    categoria = df_concat.loc[indice]['categoria']\n",
    "                                    )\n",
    "\n",
    "        df_matches = df_matches.append(dicionario, ignore_index = True)\n",
    "\n",
    "    df_matches.sort_values('indice', inplace = True)\n",
    "    df_matches.reset_index(drop = True, inplace = True)\n",
    "\n",
    "    return df_matches"
   ]
  },
  {
   "cell_type": "code",
   "execution_count": 8,
   "metadata": {},
   "outputs": [],
   "source": [
    "df_matches = criar_df_match(df_concat, ean_repetido)"
   ]
  },
  {
   "cell_type": "markdown",
   "metadata": {},
   "source": [
    "# Calculando a Distância Entre os Vetores"
   ]
  },
  {
   "cell_type": "markdown",
   "metadata": {},
   "source": [
    "Calculando a distância entre os vetores"
   ]
  },
  {
   "cell_type": "code",
   "execution_count": 9,
   "metadata": {},
   "outputs": [],
   "source": [
    "resultado = ranking.calcular_dis_2_vetores_cond(titulo_bow, df_matches)"
   ]
  },
  {
   "cell_type": "markdown",
   "metadata": {},
   "source": [
    "Colocando o resultado em ordem (menor distância até maior distância)"
   ]
  },
  {
   "cell_type": "code",
   "execution_count": 10,
   "metadata": {},
   "outputs": [],
   "source": [
    "indices, valores = ranking.ordenar_resultado(resultado)"
   ]
  },
  {
   "cell_type": "markdown",
   "metadata": {},
   "source": [
    "# Calculando as Métricas"
   ]
  },
  {
   "cell_type": "markdown",
   "metadata": {},
   "source": [
    "Calculando o acccuracy@k"
   ]
  },
  {
   "cell_type": "code",
   "execution_count": 11,
   "metadata": {},
   "outputs": [
    {
     "name": "stderr",
     "output_type": "stream",
     "text": [
      "c:\\Users\\llvs2\\anaconda3\\lib\\site-packages\\pandas\\core\\indexing.py:1732: SettingWithCopyWarning: \n",
      "A value is trying to be set on a copy of a slice from a DataFrame\n",
      "\n",
      "See the caveats in the documentation: https://pandas.pydata.org/pandas-docs/stable/user_guide/indexing.html#returning-a-view-versus-a-copy\n",
      "  self._setitem_single_block(indexer, value, name)\n"
     ]
    }
   ],
   "source": [
    "for k in [1, 10, 50]:\n",
    "\n",
    "    # criando uma coluna nova no df\n",
    "    df_matches[f'k-{k}'] = 0\n",
    "    df_matches[f'k-{k}-qtd'] = 0\n",
    "    df_matches[f'k-{k}-qtd/{k}'] = 0\n",
    "\n",
    "    for enum, i in enumerate(df_matches['indice'].to_list()):\n",
    "\n",
    "        for j in range(k):\n",
    "            \n",
    "            if df_concat['ean'].loc[i] == df_concat['ean'].loc[indices[i][j]]:\n",
    "\n",
    "                df_matches[f'k-{k}'].loc[enum] = 1\n",
    "                df_matches[f'k-{k}-qtd'].loc[enum] += 1\n",
    "\n",
    "        df_matches[f'k-{k}-qtd/{k}'].loc[enum] = (df_matches[f'k-{k}-qtd'].loc[enum])/k"
   ]
  },
  {
   "cell_type": "code",
   "execution_count": 12,
   "metadata": {},
   "outputs": [
    {
     "data": {
      "text/plain": [
       "1    376\n",
       "0    172\n",
       "Name: k-1, dtype: int64"
      ]
     },
     "execution_count": 12,
     "metadata": {},
     "output_type": "execute_result"
    }
   ],
   "source": [
    "df_matches['k-1'].value_counts()"
   ]
  },
  {
   "cell_type": "code",
   "execution_count": 13,
   "metadata": {},
   "outputs": [
    {
     "data": {
      "text/plain": [
       "1    477\n",
       "0     71\n",
       "Name: k-10, dtype: int64"
      ]
     },
     "execution_count": 13,
     "metadata": {},
     "output_type": "execute_result"
    }
   ],
   "source": [
    "df_matches['k-10'].value_counts()"
   ]
  },
  {
   "cell_type": "code",
   "execution_count": 14,
   "metadata": {},
   "outputs": [
    {
     "data": {
      "text/plain": [
       "1    534\n",
       "0     14\n",
       "Name: k-50, dtype: int64"
      ]
     },
     "execution_count": 14,
     "metadata": {},
     "output_type": "execute_result"
    }
   ],
   "source": [
    "df_matches['k-50'].value_counts()"
   ]
  },
  {
   "cell_type": "code",
   "execution_count": 15,
   "metadata": {},
   "outputs": [],
   "source": [
    "#df_matches[[\"k-1\", \"k-1-qtd\", \"k-1-qtd/1\", \"k-10\", \"k-10-qtd\", \"k-10-qtd/10\", \"k-50\", \"k-50-qtd\", \"k-50-qtd/50\"]]"
   ]
  },
  {
   "cell_type": "code",
   "execution_count": 16,
   "metadata": {},
   "outputs": [],
   "source": [
    "#df_matches[[\"k-1\", \"k-1-qtd\", \"k-1-qtd/1\", \"k-10\", \"k-10-qtd\", \"k-10-qtd/10\", \"k-50\", \"k-50-qtd\", \"k-50-qtd/50\"]].describe()"
   ]
  },
  {
   "cell_type": "code",
   "execution_count": 17,
   "metadata": {},
   "outputs": [],
   "source": [
    "# criando uma coluna nova no df\n",
    "df_matches['match_rank'] = 0\n",
    "df_matches['1/match_rank'] = 0\n",
    "df_matches['match_rank/total'] = 0\n",
    "tam_df = df_concat.shape[0]\n",
    "\n",
    "# para cada linha do dataframe\n",
    "for enum, i in enumerate(df_matches['indice'].to_list()):\n",
    "\n",
    "    # para cada uma das distâncias encontradas rankeadas em ordem decrescente\n",
    "    for cont, j in enumerate(indices[i]):\n",
    "    \n",
    "        # se for match\n",
    "        if (df_concat['ean'].loc[i] == df_concat['ean'].loc[j]) and (i != j):\n",
    "\n",
    "            # guarda a posição do primeiro match, lembrando que o enumerate começa em 0\n",
    "            df_matches['match_rank'].loc[enum] = (cont + 1)\n",
    "            df_matches['1/match_rank'].loc[enum] = 1/(cont + 1)\n",
    "            df_matches['match_rank/total'].loc[enum] = (cont + 1)/tam_df\n",
    "            \n",
    "            # para o for\n",
    "            break"
   ]
  },
  {
   "cell_type": "code",
   "execution_count": 25,
   "metadata": {},
   "outputs": [
    {
     "data": {
      "text/html": [
       "<div>\n",
       "<style scoped>\n",
       "    .dataframe tbody tr th:only-of-type {\n",
       "        vertical-align: middle;\n",
       "    }\n",
       "\n",
       "    .dataframe tbody tr th {\n",
       "        vertical-align: top;\n",
       "    }\n",
       "\n",
       "    .dataframe thead th {\n",
       "        text-align: right;\n",
       "    }\n",
       "</style>\n",
       "<table border=\"1\" class=\"dataframe\">\n",
       "  <thead>\n",
       "    <tr style=\"text-align: right;\">\n",
       "      <th></th>\n",
       "      <th>k-1</th>\n",
       "      <th>k-10</th>\n",
       "      <th>k-50</th>\n",
       "      <th>match_rank</th>\n",
       "      <th>1/match_rank</th>\n",
       "    </tr>\n",
       "  </thead>\n",
       "  <tbody>\n",
       "    <tr>\n",
       "      <th>0</th>\n",
       "      <td>0</td>\n",
       "      <td>0</td>\n",
       "      <td>1</td>\n",
       "      <td>21</td>\n",
       "      <td>0.047619</td>\n",
       "    </tr>\n",
       "    <tr>\n",
       "      <th>1</th>\n",
       "      <td>0</td>\n",
       "      <td>0</td>\n",
       "      <td>1</td>\n",
       "      <td>18</td>\n",
       "      <td>0.055556</td>\n",
       "    </tr>\n",
       "    <tr>\n",
       "      <th>2</th>\n",
       "      <td>1</td>\n",
       "      <td>1</td>\n",
       "      <td>1</td>\n",
       "      <td>1</td>\n",
       "      <td>1.000000</td>\n",
       "    </tr>\n",
       "    <tr>\n",
       "      <th>3</th>\n",
       "      <td>1</td>\n",
       "      <td>1</td>\n",
       "      <td>1</td>\n",
       "      <td>1</td>\n",
       "      <td>1.000000</td>\n",
       "    </tr>\n",
       "    <tr>\n",
       "      <th>4</th>\n",
       "      <td>1</td>\n",
       "      <td>1</td>\n",
       "      <td>1</td>\n",
       "      <td>1</td>\n",
       "      <td>1.000000</td>\n",
       "    </tr>\n",
       "    <tr>\n",
       "      <th>...</th>\n",
       "      <td>...</td>\n",
       "      <td>...</td>\n",
       "      <td>...</td>\n",
       "      <td>...</td>\n",
       "      <td>...</td>\n",
       "    </tr>\n",
       "    <tr>\n",
       "      <th>543</th>\n",
       "      <td>1</td>\n",
       "      <td>1</td>\n",
       "      <td>1</td>\n",
       "      <td>1</td>\n",
       "      <td>1.000000</td>\n",
       "    </tr>\n",
       "    <tr>\n",
       "      <th>544</th>\n",
       "      <td>1</td>\n",
       "      <td>1</td>\n",
       "      <td>1</td>\n",
       "      <td>1</td>\n",
       "      <td>1.000000</td>\n",
       "    </tr>\n",
       "    <tr>\n",
       "      <th>545</th>\n",
       "      <td>0</td>\n",
       "      <td>1</td>\n",
       "      <td>1</td>\n",
       "      <td>2</td>\n",
       "      <td>0.500000</td>\n",
       "    </tr>\n",
       "    <tr>\n",
       "      <th>546</th>\n",
       "      <td>1</td>\n",
       "      <td>1</td>\n",
       "      <td>1</td>\n",
       "      <td>1</td>\n",
       "      <td>1.000000</td>\n",
       "    </tr>\n",
       "    <tr>\n",
       "      <th>547</th>\n",
       "      <td>1</td>\n",
       "      <td>1</td>\n",
       "      <td>1</td>\n",
       "      <td>1</td>\n",
       "      <td>1.000000</td>\n",
       "    </tr>\n",
       "  </tbody>\n",
       "</table>\n",
       "<p>548 rows × 5 columns</p>\n",
       "</div>"
      ],
      "text/plain": [
       "     k-1  k-10  k-50  match_rank  1/match_rank\n",
       "0      0     0     1          21      0.047619\n",
       "1      0     0     1          18      0.055556\n",
       "2      1     1     1           1      1.000000\n",
       "3      1     1     1           1      1.000000\n",
       "4      1     1     1           1      1.000000\n",
       "..   ...   ...   ...         ...           ...\n",
       "543    1     1     1           1      1.000000\n",
       "544    1     1     1           1      1.000000\n",
       "545    0     1     1           2      0.500000\n",
       "546    1     1     1           1      1.000000\n",
       "547    1     1     1           1      1.000000\n",
       "\n",
       "[548 rows x 5 columns]"
      ]
     },
     "execution_count": 25,
     "metadata": {},
     "output_type": "execute_result"
    }
   ],
   "source": [
    "df_matches[[\"k-1\", \"k-10\", \"k-50\", 'match_rank', '1/match_rank']]"
   ]
  },
  {
   "cell_type": "code",
   "execution_count": 32,
   "metadata": {},
   "outputs": [
    {
     "data": {
      "text/plain": [
       "'3002801019257'"
      ]
     },
     "execution_count": 32,
     "metadata": {},
     "output_type": "execute_result"
    }
   ],
   "source": [
    "df_teste['ean_1'].loc[1176]"
   ]
  },
  {
   "cell_type": "code",
   "execution_count": 33,
   "metadata": {},
   "outputs": [
    {
     "data": {
      "text/plain": [
       "'3002801019257'"
      ]
     },
     "execution_count": 33,
     "metadata": {},
     "output_type": "execute_result"
    }
   ],
   "source": [
    "df_teste['ean_2'].loc[1176]"
   ]
  },
  {
   "cell_type": "code",
   "execution_count": 27,
   "metadata": {},
   "outputs": [
    {
     "data": {
      "text/html": [
       "<div>\n",
       "<style scoped>\n",
       "    .dataframe tbody tr th:only-of-type {\n",
       "        vertical-align: middle;\n",
       "    }\n",
       "\n",
       "    .dataframe tbody tr th {\n",
       "        vertical-align: top;\n",
       "    }\n",
       "\n",
       "    .dataframe thead th {\n",
       "        text-align: right;\n",
       "    }\n",
       "</style>\n",
       "<table border=\"1\" class=\"dataframe\">\n",
       "  <thead>\n",
       "    <tr style=\"text-align: right;\">\n",
       "      <th></th>\n",
       "      <th>indice</th>\n",
       "      <th>titulo_sa</th>\n",
       "      <th>ean</th>\n",
       "      <th>categoria</th>\n",
       "      <th>k-1</th>\n",
       "      <th>k-1-qtd</th>\n",
       "      <th>k-1-qtd/1</th>\n",
       "      <th>k-10</th>\n",
       "      <th>k-10-qtd</th>\n",
       "      <th>k-10-qtd/10</th>\n",
       "      <th>k-50</th>\n",
       "      <th>k-50-qtd</th>\n",
       "      <th>k-50-qtd/50</th>\n",
       "      <th>match_rank</th>\n",
       "      <th>1/match_rank</th>\n",
       "      <th>match_rank/total</th>\n",
       "    </tr>\n",
       "  </thead>\n",
       "  <tbody>\n",
       "    <tr>\n",
       "      <th>483</th>\n",
       "      <td>1176</td>\n",
       "      <td>telefone robusto doogee s40 pro 4 gb de ram 64...</td>\n",
       "      <td>3002801019257</td>\n",
       "      <td>celulares</td>\n",
       "      <td>0</td>\n",
       "      <td>0</td>\n",
       "      <td>0</td>\n",
       "      <td>0</td>\n",
       "      <td>0</td>\n",
       "      <td>0.0</td>\n",
       "      <td>0</td>\n",
       "      <td>0</td>\n",
       "      <td>0.0</td>\n",
       "      <td>342</td>\n",
       "      <td>0.002924</td>\n",
       "      <td>0.128668</td>\n",
       "    </tr>\n",
       "  </tbody>\n",
       "</table>\n",
       "</div>"
      ],
      "text/plain": [
       "    indice                                          titulo_sa            ean  \\\n",
       "483   1176  telefone robusto doogee s40 pro 4 gb de ram 64...  3002801019257   \n",
       "\n",
       "     categoria  k-1  k-1-qtd  k-1-qtd/1  k-10  k-10-qtd  k-10-qtd/10  k-50  \\\n",
       "483  celulares    0        0          0     0         0          0.0     0   \n",
       "\n",
       "     k-50-qtd  k-50-qtd/50  match_rank  1/match_rank  match_rank/total  \n",
       "483         0          0.0         342      0.002924          0.128668  "
      ]
     },
     "execution_count": 27,
     "metadata": {},
     "output_type": "execute_result"
    }
   ],
   "source": [
    "df_matches[df_matches['match_rank'] == 342]"
   ]
  },
  {
   "cell_type": "code",
   "execution_count": 26,
   "metadata": {},
   "outputs": [
    {
     "data": {
      "text/html": [
       "<div>\n",
       "<style scoped>\n",
       "    .dataframe tbody tr th:only-of-type {\n",
       "        vertical-align: middle;\n",
       "    }\n",
       "\n",
       "    .dataframe tbody tr th {\n",
       "        vertical-align: top;\n",
       "    }\n",
       "\n",
       "    .dataframe thead th {\n",
       "        text-align: right;\n",
       "    }\n",
       "</style>\n",
       "<table border=\"1\" class=\"dataframe\">\n",
       "  <thead>\n",
       "    <tr style=\"text-align: right;\">\n",
       "      <th></th>\n",
       "      <th>k-1</th>\n",
       "      <th>k-10</th>\n",
       "      <th>k-50</th>\n",
       "      <th>match_rank</th>\n",
       "      <th>1/match_rank</th>\n",
       "    </tr>\n",
       "  </thead>\n",
       "  <tbody>\n",
       "    <tr>\n",
       "      <th>count</th>\n",
       "      <td>548.000000</td>\n",
       "      <td>548.000000</td>\n",
       "      <td>548.000000</td>\n",
       "      <td>548.000000</td>\n",
       "      <td>548.000000</td>\n",
       "    </tr>\n",
       "    <tr>\n",
       "      <th>mean</th>\n",
       "      <td>0.686131</td>\n",
       "      <td>0.870438</td>\n",
       "      <td>0.974453</td>\n",
       "      <td>7.989051</td>\n",
       "      <td>0.750285</td>\n",
       "    </tr>\n",
       "    <tr>\n",
       "      <th>std</th>\n",
       "      <td>0.464488</td>\n",
       "      <td>0.336128</td>\n",
       "      <td>0.157925</td>\n",
       "      <td>27.656813</td>\n",
       "      <td>0.383151</td>\n",
       "    </tr>\n",
       "    <tr>\n",
       "      <th>min</th>\n",
       "      <td>0.000000</td>\n",
       "      <td>0.000000</td>\n",
       "      <td>0.000000</td>\n",
       "      <td>1.000000</td>\n",
       "      <td>0.002924</td>\n",
       "    </tr>\n",
       "    <tr>\n",
       "      <th>25%</th>\n",
       "      <td>0.000000</td>\n",
       "      <td>1.000000</td>\n",
       "      <td>1.000000</td>\n",
       "      <td>1.000000</td>\n",
       "      <td>0.500000</td>\n",
       "    </tr>\n",
       "    <tr>\n",
       "      <th>50%</th>\n",
       "      <td>1.000000</td>\n",
       "      <td>1.000000</td>\n",
       "      <td>1.000000</td>\n",
       "      <td>1.000000</td>\n",
       "      <td>1.000000</td>\n",
       "    </tr>\n",
       "    <tr>\n",
       "      <th>75%</th>\n",
       "      <td>1.000000</td>\n",
       "      <td>1.000000</td>\n",
       "      <td>1.000000</td>\n",
       "      <td>2.000000</td>\n",
       "      <td>1.000000</td>\n",
       "    </tr>\n",
       "    <tr>\n",
       "      <th>max</th>\n",
       "      <td>1.000000</td>\n",
       "      <td>1.000000</td>\n",
       "      <td>1.000000</td>\n",
       "      <td>342.000000</td>\n",
       "      <td>1.000000</td>\n",
       "    </tr>\n",
       "  </tbody>\n",
       "</table>\n",
       "</div>"
      ],
      "text/plain": [
       "              k-1        k-10        k-50  match_rank  1/match_rank\n",
       "count  548.000000  548.000000  548.000000  548.000000    548.000000\n",
       "mean     0.686131    0.870438    0.974453    7.989051      0.750285\n",
       "std      0.464488    0.336128    0.157925   27.656813      0.383151\n",
       "min      0.000000    0.000000    0.000000    1.000000      0.002924\n",
       "25%      0.000000    1.000000    1.000000    1.000000      0.500000\n",
       "50%      1.000000    1.000000    1.000000    1.000000      1.000000\n",
       "75%      1.000000    1.000000    1.000000    2.000000      1.000000\n",
       "max      1.000000    1.000000    1.000000  342.000000      1.000000"
      ]
     },
     "execution_count": 26,
     "metadata": {},
     "output_type": "execute_result"
    }
   ],
   "source": [
    "df_matches[[\"k-1\", \"k-10\", \"k-50\", 'match_rank', '1/match_rank']].describe()"
   ]
  },
  {
   "cell_type": "code",
   "execution_count": 34,
   "metadata": {},
   "outputs": [
    {
     "data": {
      "text/html": [
       "<div>\n",
       "<style scoped>\n",
       "    .dataframe tbody tr th:only-of-type {\n",
       "        vertical-align: middle;\n",
       "    }\n",
       "\n",
       "    .dataframe tbody tr th {\n",
       "        vertical-align: top;\n",
       "    }\n",
       "\n",
       "    .dataframe thead th {\n",
       "        text-align: right;\n",
       "    }\n",
       "</style>\n",
       "<table border=\"1\" class=\"dataframe\">\n",
       "  <thead>\n",
       "    <tr style=\"text-align: right;\">\n",
       "      <th></th>\n",
       "      <th>k-1</th>\n",
       "      <th>k-10</th>\n",
       "      <th>k-50</th>\n",
       "      <th>match_rank</th>\n",
       "    </tr>\n",
       "  </thead>\n",
       "  <tbody>\n",
       "    <tr>\n",
       "      <th>70</th>\n",
       "      <td>0</td>\n",
       "      <td>0</td>\n",
       "      <td>0</td>\n",
       "      <td>69</td>\n",
       "    </tr>\n",
       "    <tr>\n",
       "      <th>84</th>\n",
       "      <td>0</td>\n",
       "      <td>0</td>\n",
       "      <td>0</td>\n",
       "      <td>127</td>\n",
       "    </tr>\n",
       "    <tr>\n",
       "      <th>206</th>\n",
       "      <td>0</td>\n",
       "      <td>0</td>\n",
       "      <td>0</td>\n",
       "      <td>90</td>\n",
       "    </tr>\n",
       "    <tr>\n",
       "      <th>215</th>\n",
       "      <td>0</td>\n",
       "      <td>0</td>\n",
       "      <td>0</td>\n",
       "      <td>143</td>\n",
       "    </tr>\n",
       "    <tr>\n",
       "      <th>301</th>\n",
       "      <td>0</td>\n",
       "      <td>0</td>\n",
       "      <td>0</td>\n",
       "      <td>80</td>\n",
       "    </tr>\n",
       "    <tr>\n",
       "      <th>323</th>\n",
       "      <td>0</td>\n",
       "      <td>0</td>\n",
       "      <td>0</td>\n",
       "      <td>54</td>\n",
       "    </tr>\n",
       "    <tr>\n",
       "      <th>339</th>\n",
       "      <td>0</td>\n",
       "      <td>0</td>\n",
       "      <td>0</td>\n",
       "      <td>262</td>\n",
       "    </tr>\n",
       "    <tr>\n",
       "      <th>377</th>\n",
       "      <td>0</td>\n",
       "      <td>0</td>\n",
       "      <td>0</td>\n",
       "      <td>180</td>\n",
       "    </tr>\n",
       "    <tr>\n",
       "      <th>483</th>\n",
       "      <td>0</td>\n",
       "      <td>0</td>\n",
       "      <td>0</td>\n",
       "      <td>342</td>\n",
       "    </tr>\n",
       "    <tr>\n",
       "      <th>486</th>\n",
       "      <td>0</td>\n",
       "      <td>0</td>\n",
       "      <td>0</td>\n",
       "      <td>246</td>\n",
       "    </tr>\n",
       "    <tr>\n",
       "      <th>496</th>\n",
       "      <td>0</td>\n",
       "      <td>0</td>\n",
       "      <td>0</td>\n",
       "      <td>54</td>\n",
       "    </tr>\n",
       "    <tr>\n",
       "      <th>500</th>\n",
       "      <td>0</td>\n",
       "      <td>0</td>\n",
       "      <td>0</td>\n",
       "      <td>173</td>\n",
       "    </tr>\n",
       "    <tr>\n",
       "      <th>505</th>\n",
       "      <td>0</td>\n",
       "      <td>0</td>\n",
       "      <td>0</td>\n",
       "      <td>162</td>\n",
       "    </tr>\n",
       "    <tr>\n",
       "      <th>516</th>\n",
       "      <td>0</td>\n",
       "      <td>0</td>\n",
       "      <td>0</td>\n",
       "      <td>77</td>\n",
       "    </tr>\n",
       "  </tbody>\n",
       "</table>\n",
       "</div>"
      ],
      "text/plain": [
       "     k-1  k-10  k-50  match_rank\n",
       "70     0     0     0          69\n",
       "84     0     0     0         127\n",
       "206    0     0     0          90\n",
       "215    0     0     0         143\n",
       "301    0     0     0          80\n",
       "323    0     0     0          54\n",
       "339    0     0     0         262\n",
       "377    0     0     0         180\n",
       "483    0     0     0         342\n",
       "486    0     0     0         246\n",
       "496    0     0     0          54\n",
       "500    0     0     0         173\n",
       "505    0     0     0         162\n",
       "516    0     0     0          77"
      ]
     },
     "execution_count": 34,
     "metadata": {},
     "output_type": "execute_result"
    }
   ],
   "source": [
    "#df_matches[[\"k-1\", \"k-10\", \"k-50\", \"match_rank\"]][df_matches['match_rank'] > 50]"
   ]
  },
  {
   "cell_type": "code",
   "execution_count": 21,
   "metadata": {},
   "outputs": [],
   "source": [
    "df_matches.to_csv(f\"Dados/Resultados/Cos_Rankeado/{arquivos[0]}.csv\", index = False)"
   ]
  }
 ],
 "metadata": {
  "kernelspec": {
   "display_name": "Python 3.9.7 ('base')",
   "language": "python",
   "name": "python3"
  },
  "language_info": {
   "codemirror_mode": {
    "name": "ipython",
    "version": 3
   },
   "file_extension": ".py",
   "mimetype": "text/x-python",
   "name": "python",
   "nbconvert_exporter": "python",
   "pygments_lexer": "ipython3",
   "version": "3.9.7"
  },
  "orig_nbformat": 4,
  "vscode": {
   "interpreter": {
    "hash": "4889b298c2b41a0f37c917b2884deb5a3a36b040cfb99d0e8c1edb9e5e6fadf3"
   }
  }
 },
 "nbformat": 4,
 "nbformat_minor": 2
}
