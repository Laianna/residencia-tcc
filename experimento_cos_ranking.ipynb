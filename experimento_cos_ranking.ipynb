{
 "cells": [
  {
   "cell_type": "markdown",
   "metadata": {},
   "source": [
    "# Importando as Bibliotecas"
   ]
  },
  {
   "cell_type": "code",
   "execution_count": 1,
   "metadata": {},
   "outputs": [],
   "source": [
    "import ranking\n",
    "\n",
    "import pandas as pd\n",
    "import numpy as np\n",
    "import string\n",
    "\n",
    "from scipy import spatial\n",
    "\n",
    "from sklearn.metrics import classification_report\n",
    "from sklearn.feature_extraction.text import CountVectorizer\n",
    "\n",
    "import time"
   ]
  },
  {
   "cell_type": "markdown",
   "metadata": {},
   "source": [
    "# Constantes"
   ]
  },
  {
   "cell_type": "code",
   "execution_count": 2,
   "metadata": {},
   "outputs": [],
   "source": [
    "COLUNAS = (\"indice\", \"titulo_sa\", \"ean\", \"categoria\")\n",
    "LISTA_CATEGORIAS = (\"celulares\", \"notebooks\", \"geladeiras\", \"fogoes\", \"tvs\")"
   ]
  },
  {
   "cell_type": "markdown",
   "metadata": {},
   "source": [
    "# Lendo os Datasets"
   ]
  },
  {
   "cell_type": "code",
   "execution_count": 3,
   "metadata": {},
   "outputs": [],
   "source": [
    "arquivos = ['ale_1_1', 'ale_5_1', 'hn_1_1', 'hn_5_1']\n",
    "\n",
    "lista_df_treino = []\n",
    "lista_df_teste = []\n",
    "for arquivo in arquivos:\n",
    "\n",
    "    df_treino = pd.read_csv(f\"Dados/Datasets/Treino/{arquivo}_treino.csv\", dtype = {'ean_1': str, 'ean_2': str})\n",
    "    df_teste = pd.read_csv(f\"Dados/Datasets/Teste/{arquivo}_teste.csv\", dtype = {'ean_1': str, 'ean_2': str})\n",
    "    lista_df_treino.append(df_treino)\n",
    "    lista_df_teste.append(df_teste)"
   ]
  },
  {
   "cell_type": "markdown",
   "metadata": {},
   "source": [
    "# Funções"
   ]
  },
  {
   "cell_type": "code",
   "execution_count": 4,
   "metadata": {},
   "outputs": [],
   "source": [
    "def criar_dicionario(indice, titulo_sa, ean, categoria):\n",
    "    \n",
    "    return {\n",
    "            'indice' : indice, 'titulo_sa' : titulo_sa, 'ean' : ean, 'categoria' : categoria\n",
    "           }\n",
    "\n",
    "\n",
    "def criar_df_match(df_concat, ean_repetido):\n",
    "\n",
    "    df_matches = pd.DataFrame(columns = COLUNAS)\n",
    "    for ean in ean_repetido:\n",
    "\n",
    "        # pega o indice da primeira linha com aquele EAN\n",
    "        filtro = (df_concat['ean'] == ean)\n",
    "        indice = next(iter(filtro.index[filtro]))\n",
    "\n",
    "        dicionario = criar_dicionario(\n",
    "                                    indice = indice,\n",
    "                                    titulo_sa = df_concat.loc[indice]['titulo_sa'],\n",
    "                                    ean = df_concat.loc[indice]['ean'],\n",
    "                                    categoria = df_concat.loc[indice]['categoria']\n",
    "                                    )\n",
    "\n",
    "        df_matches = df_matches.append(dicionario, ignore_index = True)\n",
    "\n",
    "    df_matches.sort_values('indice', inplace = True)\n",
    "    df_matches.reset_index(drop = True, inplace = True)\n",
    "\n",
    "    return df_matches\n",
    "\n",
    "\n",
    "def salvar_resultado(nome, df):\n",
    "\n",
    "    df.to_csv(f'Dados/Resultados/Cos_Rankeado/{nome}_métricas.csv', index = False)\n",
    "\n",
    "\n",
    "def salvar_resultado_categoria(nome, df):\n",
    "\n",
    "    for categoria in LISTA_CATEGORIAS:\n",
    "\n",
    "        df[df[\"categoria\"] == categoria].to_csv(f'Dados/Resultados/Cos_Rankeado/{categoria}/{nome}_métricas.csv', index = False)"
   ]
  },
  {
   "cell_type": "markdown",
   "metadata": {},
   "source": [
    "# BoW"
   ]
  },
  {
   "cell_type": "code",
   "execution_count": 5,
   "metadata": {},
   "outputs": [
    {
     "name": "stderr",
     "output_type": "stream",
     "text": [
      "c:\\Users\\llvs2\\anaconda3\\lib\\site-packages\\pandas\\core\\indexing.py:1732: SettingWithCopyWarning: \n",
      "A value is trying to be set on a copy of a slice from a DataFrame\n",
      "\n",
      "See the caveats in the documentation: https://pandas.pydata.org/pandas-docs/stable/user_guide/indexing.html#returning-a-view-versus-a-copy\n",
      "  self._setitem_single_block(indexer, value, name)\n"
     ]
    }
   ],
   "source": [
    "flag_cos = False\n",
    "if flag_cos == True:\n",
    "\n",
    "    for nome, df_teste in zip(arquivos, lista_df_teste):\n",
    "\n",
    "        # remoção de pontuação e acentos\n",
    "        ranking.fazer_pre_processamento(df_teste)\n",
    "\n",
    "        # colocando os titulos em um dataframe com 1 coluna só\n",
    "        df_concat = ranking.concatenar_df(df_teste)\n",
    "\n",
    "        # calculando a quantidade máxima de palavras no título\n",
    "        tam_max = ranking.calcular_tam_max(df_concat['titulo_sa'])\n",
    "\n",
    "        # encontrando a lista de valores únicos de EAN repetidos\n",
    "        vc = df_concat['ean'].value_counts()\n",
    "        ean_repetido = vc[vc > 1].index.values\n",
    "\n",
    "        # criando um dataframe apenas com 1 ocorrência de cada EAN repetido\n",
    "        df_matches = criar_df_match(df_concat, ean_repetido)\n",
    "\n",
    "        inicio_tempo = time.time()\n",
    "        # calculando o BoW de cada título\n",
    "        cv, titulo_bow = ranking.formatar_entrada_bow(df_concat['titulo_sa'], mf = tam_max)\n",
    "        # calculando a distância entre os vetores (apenas linhas com match)\n",
    "        resultado = ranking.calcular_dis_2_vetores_cond(titulo_bow, df_matches)\n",
    "        final_tempo = time.time()\n",
    "        tempo = final_tempo - inicio_tempo\n",
    "\n",
    "        df_matches['tempo'] = tempo\n",
    "\n",
    "        # colocando o resultado em ordem (menor distância até maior distância)\n",
    "        indices, valores = ranking.ordenar_resultado(resultado)\n",
    "\n",
    "        # calculando as métricas\n",
    "        ranking.calcular_acuracia_k(df_matches, df_concat, indices)\n",
    "        ranking.calcular_match_rank(df_matches, df_concat, indices)\n",
    "\n",
    "        salvar_resultado(nome, df_matches)\n",
    "        salvar_resultado_categoria(nome, df_matches)"
   ]
  },
  {
   "cell_type": "code",
   "execution_count": 6,
   "metadata": {},
   "outputs": [
    {
     "ename": "NameError",
     "evalue": "name 'a' is not defined",
     "output_type": "error",
     "traceback": [
      "\u001b[1;31m---------------------------------------------------------------------------\u001b[0m",
      "\u001b[1;31mNameError\u001b[0m                                 Traceback (most recent call last)",
      "\u001b[1;32m~\\AppData\\Local\\Temp/ipykernel_22632/836354671.py\u001b[0m in \u001b[0;36m<module>\u001b[1;34m\u001b[0m\n\u001b[1;32m----> 1\u001b[1;33m \u001b[0ma\u001b[0m\u001b[1;33m\u001b[0m\u001b[1;33m\u001b[0m\u001b[0m\n\u001b[0m",
      "\u001b[1;31mNameError\u001b[0m: name 'a' is not defined"
     ]
    }
   ],
   "source": [
    "    a"
   ]
  },
  {
   "cell_type": "markdown",
   "metadata": {},
   "source": [
    "# Resultados"
   ]
  },
  {
   "cell_type": "code",
   "execution_count": 6,
   "metadata": {},
   "outputs": [],
   "source": [
    "def print_acu_k(df, flag = True):\n",
    "\n",
    "    linha_1 = f\"  | k-1\\t | k-10\\t| k-50\\t|\"\n",
    "\n",
    "    if flag == True:\n",
    "        linha_2 = f\"1 | {df['k-1'].value_counts()[1]}\\t | {df['k-10'].value_counts()[1]}\\t| {df['k-50'].value_counts()[1]}\\t|\"\n",
    "    else:\n",
    "        linha_2 = f\"1 | {df['k-1'].value_counts()[1]} | {df['k-10'].value_counts()[1]}\\t| {df['k-50'].value_counts()[1]}\\t|\"\n",
    "    linha_3 = f\"0 | {df['k-1'].value_counts()[0]}\\t | {df['k-10'].value_counts()[0]}\\t| {df['k-50'].value_counts()[0]}\\t|\"\n",
    "\n",
    "    print(f\"{linha_1}\\n{linha_2}\\n{linha_3}\")\n",
    "\n",
    "\n",
    "def print_describe(df):\n",
    "\n",
    "    print(\"\")\n",
    "    print(df[[\"k-1\", \"k-10\", \"k-50\", 'match_rank', '1/match_rank']].describe())"
   ]
  },
  {
   "cell_type": "markdown",
   "metadata": {},
   "source": [
    "## Geral"
   ]
  },
  {
   "cell_type": "code",
   "execution_count": 3,
   "metadata": {},
   "outputs": [],
   "source": [
    "arquivos = ['ale_1_1', 'ale_5_1', 'hn_1_1', 'hn_5_1']\n",
    "\n",
    "lista_df_resultado = []\n",
    "for arquivo in arquivos:\n",
    "\n",
    "    df_treino = pd.read_csv(f\"Dados/Resultados/Cos_Rankeado/{arquivo}_métricas.csv\")\n",
    "    lista_df_resultado.append(df_treino)"
   ]
  },
  {
   "cell_type": "markdown",
   "metadata": {},
   "source": [
    "### Aleátorio"
   ]
  },
  {
   "cell_type": "markdown",
   "metadata": {},
   "source": [
    "#### 1:1"
   ]
  },
  {
   "cell_type": "code",
   "execution_count": 4,
   "metadata": {},
   "outputs": [
    {
     "name": "stdout",
     "output_type": "stream",
     "text": [
      "  | k-1\t | k-10\t| k-50\t|\n",
      "1 | 376\t | 477\t| 534\t|\n",
      "0 | 172\t | 71\t| 14\t|\n",
      "\n",
      "              k-1        k-10        k-50  match_rank  1/match_rank\n",
      "count  548.000000  548.000000  548.000000  548.000000    548.000000\n",
      "mean     0.686131    0.870438    0.974453    7.989051      0.750285\n",
      "std      0.464488    0.336128    0.157925   27.656813      0.383151\n",
      "min      0.000000    0.000000    0.000000    1.000000      0.002924\n",
      "25%      0.000000    1.000000    1.000000    1.000000      0.500000\n",
      "50%      1.000000    1.000000    1.000000    1.000000      1.000000\n",
      "75%      1.000000    1.000000    1.000000    2.000000      1.000000\n",
      "max      1.000000    1.000000    1.000000  342.000000      1.000000\n"
     ]
    }
   ],
   "source": [
    "df_ale_1_1 = lista_df_resultado[0]\n",
    "print_acu_k(df_ale_1_1)\n",
    "print_describe(df_ale_1_1)"
   ]
  },
  {
   "cell_type": "markdown",
   "metadata": {},
   "source": [
    "#### 5:1"
   ]
  },
  {
   "cell_type": "code",
   "execution_count": 100,
   "metadata": {},
   "outputs": [
    {
     "name": "stdout",
     "output_type": "stream",
     "text": [
      "  | k-1\t | k-10\t| k-50\t|\n",
      "1 | 1506 | 1609\t| 1636\t|\n",
      "0 | 152\t | 49\t| 22\t|\n",
      "\n",
      "               k-1         k-10         k-50   match_rank  1/match_rank\n",
      "count  1658.000000  1658.000000  1658.000000  1658.000000   1658.000000\n",
      "mean      0.908323     0.970446     0.986731     3.205066      0.928224\n",
      "std       0.288656     0.169404     0.114459    17.844705      0.231774\n",
      "min       0.000000     0.000000     0.000000     1.000000      0.002294\n",
      "25%       1.000000     1.000000     1.000000     1.000000      1.000000\n",
      "50%       1.000000     1.000000     1.000000     1.000000      1.000000\n",
      "75%       1.000000     1.000000     1.000000     1.000000      1.000000\n",
      "max       1.000000     1.000000     1.000000   436.000000      1.000000\n"
     ]
    }
   ],
   "source": [
    "df_ale_5_1 = lista_df_resultado[1]\n",
    "print_acu_k(df_ale_5_1, False)\n",
    "print_describe(df_ale_5_1)"
   ]
  },
  {
   "cell_type": "markdown",
   "metadata": {},
   "source": [
    "### Hard Negative"
   ]
  },
  {
   "cell_type": "markdown",
   "metadata": {},
   "source": [
    "#### 1:1"
   ]
  },
  {
   "cell_type": "code",
   "execution_count": 115,
   "metadata": {},
   "outputs": [
    {
     "name": "stdout",
     "output_type": "stream",
     "text": [
      "  | k-1\t | k-10\t| k-50\t|\n",
      "1 | 398\t | 511\t| 559\t|\n",
      "0 | 186\t | 73\t| 25\t|\n",
      "\n",
      "              k-1        k-10        k-50  match_rank  1/match_rank\n",
      "count  584.000000  584.000000  584.000000  584.000000    584.000000\n",
      "mean     0.681507    0.875000    0.957192    9.827055      0.744075\n",
      "std      0.466291    0.331002    0.202598   36.485142      0.387274\n",
      "min      0.000000    0.000000    0.000000    1.000000      0.002331\n",
      "25%      0.000000    1.000000    1.000000    1.000000      0.333333\n",
      "50%      1.000000    1.000000    1.000000    1.000000      1.000000\n",
      "75%      1.000000    1.000000    1.000000    3.000000      1.000000\n",
      "max      1.000000    1.000000    1.000000  429.000000      1.000000\n"
     ]
    }
   ],
   "source": [
    "df_hn_1_1 = lista_df_resultado[2]\n",
    "print_acu_k(df_hn_1_1)\n",
    "print_describe(df_hn_1_1)"
   ]
  },
  {
   "cell_type": "markdown",
   "metadata": {},
   "source": [
    "#### 5:1"
   ]
  },
  {
   "cell_type": "code",
   "execution_count": 102,
   "metadata": {},
   "outputs": [
    {
     "name": "stdout",
     "output_type": "stream",
     "text": [
      "  | k-1\t | k-10\t| k-50\t|\n",
      "1 | 1088 | 1158\t| 1177\t|\n",
      "0 | 93\t | 23\t| 4\t|\n",
      "\n",
      "               k-1         k-10         k-50   match_rank  1/match_rank\n",
      "count  1181.000000  1181.000000  1181.000000  1181.000000   1181.000000\n",
      "mean      0.921253     0.980525     0.996613     2.138865      0.943770\n",
      "std       0.269457     0.138246     0.058124    16.545500      0.198750\n",
      "min       0.000000     0.000000     0.000000     1.000000      0.001912\n",
      "25%       1.000000     1.000000     1.000000     1.000000      1.000000\n",
      "50%       1.000000     1.000000     1.000000     1.000000      1.000000\n",
      "75%       1.000000     1.000000     1.000000     1.000000      1.000000\n",
      "max       1.000000     1.000000     1.000000   523.000000      1.000000\n"
     ]
    }
   ],
   "source": [
    "df_hn_5_1 = lista_df_resultado[3]\n",
    "print_acu_k(df_hn_5_1, False)\n",
    "print_describe(df_hn_5_1)"
   ]
  },
  {
   "cell_type": "markdown",
   "metadata": {},
   "source": [
    "## Por Categoria"
   ]
  },
  {
   "cell_type": "markdown",
   "metadata": {},
   "source": [
    "### Celulares"
   ]
  },
  {
   "cell_type": "code",
   "execution_count": 104,
   "metadata": {},
   "outputs": [],
   "source": [
    "arquivos = ['ale_1_1', 'ale_5_1', 'hn_1_1', 'hn_5_1']\n",
    "\n",
    "lista_df_celulares = []\n",
    "for arquivo in arquivos:\n",
    "\n",
    "    df_celulares = pd.read_csv(f\"Dados/Resultados/Cos_Rankeado/celulares/{arquivo}_métricas.csv\")\n",
    "    lista_df_celulares.append(df_celulares)"
   ]
  },
  {
   "cell_type": "code",
   "execution_count": 105,
   "metadata": {},
   "outputs": [],
   "source": [
    "df_ale_1_1_cel = lista_df_celulares[0]\n",
    "df_ale_5_1_cel = lista_df_celulares[1]\n",
    "df_hn_1_1_cel = lista_df_celulares[2]\n",
    "df_hn_5_1_cel = lista_df_celulares[3]"
   ]
  },
  {
   "cell_type": "code",
   "execution_count": 112,
   "metadata": {},
   "outputs": [
    {
     "name": "stdout",
     "output_type": "stream",
     "text": [
      "  | k-1\t | k-10\t| k-50\t|\n",
      "1 | 44\t | 71\t| 86\t|\n",
      "0 | 44\t | 17\t| 2\t|\n",
      "\n",
      "             k-1       k-10       k-50  match_rank  1/match_rank\n",
      "count  88.000000  88.000000  88.000000   88.000000     88.000000\n",
      "mean    0.500000   0.806818   0.977273   10.647727      0.591299\n",
      "std     0.502865   0.397057   0.149887   37.477975      0.424425\n",
      "min     0.000000   0.000000   0.000000    1.000000      0.002924\n",
      "25%     0.000000   1.000000   1.000000    1.000000      0.160714\n",
      "50%     0.500000   1.000000   1.000000    1.500000      0.750000\n",
      "75%     1.000000   1.000000   1.000000    6.250000      1.000000\n",
      "max     1.000000   1.000000   1.000000  342.000000      1.000000\n"
     ]
    }
   ],
   "source": [
    "print_acu_k(df_ale_1_1_cel)\n",
    "print_describe(df_ale_1_1_cel)"
   ]
  },
  {
   "cell_type": "code",
   "execution_count": 116,
   "metadata": {},
   "outputs": [
    {
     "name": "stdout",
     "output_type": "stream",
     "text": [
      "  | k-1\t | k-10\t| k-50\t|\n",
      "1 | 181\t | 196\t| 202\t|\n",
      "0 | 28\t | 13\t| 7\t|\n",
      "\n",
      "              k-1        k-10        k-50  match_rank  1/match_rank\n",
      "count  209.000000  209.000000  209.000000  209.000000    209.000000\n",
      "mean     0.866029    0.937799    0.966507    5.660287      0.887081\n",
      "std      0.341439    0.242100    0.180352   22.659147      0.294071\n",
      "min      0.000000    0.000000    0.000000    1.000000      0.004219\n",
      "25%      1.000000    1.000000    1.000000    1.000000      1.000000\n",
      "50%      1.000000    1.000000    1.000000    1.000000      1.000000\n",
      "75%      1.000000    1.000000    1.000000    1.000000      1.000000\n",
      "max      1.000000    1.000000    1.000000  237.000000      1.000000\n"
     ]
    }
   ],
   "source": [
    "print_acu_k(df_ale_5_1_cel)\n",
    "print_describe(df_ale_5_1_cel)"
   ]
  },
  {
   "cell_type": "code",
   "execution_count": 117,
   "metadata": {},
   "outputs": [
    {
     "name": "stdout",
     "output_type": "stream",
     "text": [
      "  | k-1\t | k-10\t| k-50\t|\n",
      "1 | 63\t | 74\t| 86\t|\n",
      "0 | 27\t | 16\t| 4\t|\n",
      "\n",
      "             k-1       k-10       k-50  match_rank  1/match_rank\n",
      "count  90.000000  90.000000  90.000000   90.000000     90.000000\n",
      "mean    0.700000   0.822222   0.955556    9.977778      0.737733\n",
      "std     0.460825   0.384467   0.207235   32.201604      0.407882\n",
      "min     0.000000   0.000000   0.000000    1.000000      0.003676\n",
      "25%     0.000000   1.000000   1.000000    1.000000      0.270833\n",
      "50%     1.000000   1.000000   1.000000    1.000000      1.000000\n",
      "75%     1.000000   1.000000   1.000000    3.750000      1.000000\n",
      "max     1.000000   1.000000   1.000000  272.000000      1.000000\n"
     ]
    }
   ],
   "source": [
    "print_acu_k(df_hn_1_1_cel)\n",
    "print_describe(df_hn_1_1_cel)"
   ]
  },
  {
   "cell_type": "code",
   "execution_count": 130,
   "metadata": {},
   "outputs": [
    {
     "name": "stdout",
     "output_type": "stream",
     "text": [
      "  | k-1\t | k-10\t| k-50\t|\n",
      "1 | 190 | 197\t| 204\t|\n",
      "0 | 14\t | 7\t|\t|\n",
      "\n",
      "              k-1        k-10   k-50  match_rank  1/match_rank\n",
      "count  204.000000  204.000000  204.0  204.000000    204.000000\n",
      "mean     0.931373    0.965686    1.0    1.696078      0.942823\n",
      "std      0.253441    0.182482    0.0    3.434938      0.213312\n",
      "min      0.000000    0.000000    1.0    1.000000      0.030303\n",
      "25%      1.000000    1.000000    1.0    1.000000      1.000000\n",
      "50%      1.000000    1.000000    1.0    1.000000      1.000000\n",
      "75%      1.000000    1.000000    1.0    1.000000      1.000000\n",
      "max      1.000000    1.000000    1.0   33.000000      1.000000\n"
     ]
    }
   ],
   "source": [
    "print(f\"  | k-1\\t | k-10\\t| k-50\\t|\\n1 | {df_hn_5_1_cel['k-1'].value_counts()[1]} | {df_hn_5_1_cel['k-10'].value_counts()[1]}\\t| {df_hn_5_1_cel['k-50'].value_counts()[1]}\\t|\\n0 | {df_hn_5_1_cel['k-1'].value_counts()[0]}\\t | {df_hn_5_1_cel['k-10'].value_counts()[0]}\\t|\\t|\")\n",
    "print_describe(df_hn_5_1_cel)"
   ]
  },
  {
   "cell_type": "markdown",
   "metadata": {},
   "source": [
    "### Fogões"
   ]
  },
  {
   "cell_type": "code",
   "execution_count": 3,
   "metadata": {},
   "outputs": [],
   "source": [
    "arquivos = ['ale_1_1', 'ale_5_1', 'hn_1_1', 'hn_5_1']\n",
    "\n",
    "lista_df_fogoes = []\n",
    "for arquivo in arquivos:\n",
    "\n",
    "    df_fogoes = pd.read_csv(f\"Dados/Resultados/Cos_Rankeado/fogoes/{arquivo}_métricas.csv\")\n",
    "    lista_df_fogoes.append(df_fogoes)"
   ]
  },
  {
   "cell_type": "code",
   "execution_count": 4,
   "metadata": {},
   "outputs": [],
   "source": [
    "df_ale_1_1_fg = lista_df_fogoes[0]\n",
    "df_ale_5_1_fg = lista_df_fogoes[1]\n",
    "df_hn_1_1_fg = lista_df_fogoes[2]\n",
    "df_hn_5_1_fg = lista_df_fogoes[3]"
   ]
  },
  {
   "cell_type": "code",
   "execution_count": 133,
   "metadata": {},
   "outputs": [
    {
     "name": "stdout",
     "output_type": "stream",
     "text": [
      "  | k-1\t | k-10\t| k-50\t|\n",
      "1 | 144\t | 177\t| 191\t|\n",
      "0 | 54\t | 21\t| 7\t|\n",
      "\n",
      "              k-1        k-10        k-50  match_rank  1/match_rank\n",
      "count  198.000000  198.000000  198.000000  198.000000    198.000000\n",
      "mean     0.727273    0.893939    0.964646    8.858586      0.785775\n",
      "std      0.446491    0.308696    0.185140   32.736453      0.363779\n",
      "min      0.000000    0.000000    0.000000    1.000000      0.003817\n",
      "25%      0.000000    1.000000    1.000000    1.000000      0.500000\n",
      "50%      1.000000    1.000000    1.000000    1.000000      1.000000\n",
      "75%      1.000000    1.000000    1.000000    2.000000      1.000000\n",
      "max      1.000000    1.000000    1.000000  262.000000      1.000000\n"
     ]
    }
   ],
   "source": [
    "print_acu_k(df_ale_1_1_fg)\n",
    "print_describe(df_ale_1_1_fg)"
   ]
  },
  {
   "cell_type": "code",
   "execution_count": 134,
   "metadata": {},
   "outputs": [
    {
     "name": "stdout",
     "output_type": "stream",
     "text": [
      "  | k-1\t | k-10\t| k-50\t|\n",
      "1 | 576\t | 637\t| 644\t|\n",
      "0 | 75\t | 14\t| 7\t|\n",
      "\n",
      "              k-1        k-10        k-50  match_rank  1/match_rank\n",
      "count  651.000000  651.000000  651.000000  651.000000    651.000000\n",
      "mean     0.884793    0.978495    0.989247    2.795699      0.917635\n",
      "std      0.319518    0.145173    0.103215   15.643127      0.235550\n",
      "min      0.000000    0.000000    0.000000    1.000000      0.003690\n",
      "25%      1.000000    1.000000    1.000000    1.000000      1.000000\n",
      "50%      1.000000    1.000000    1.000000    1.000000      1.000000\n",
      "75%      1.000000    1.000000    1.000000    1.000000      1.000000\n",
      "max      1.000000    1.000000    1.000000  271.000000      1.000000\n"
     ]
    }
   ],
   "source": [
    "print_acu_k(df_ale_5_1_fg)\n",
    "print_describe(df_ale_5_1_fg)"
   ]
  },
  {
   "cell_type": "code",
   "execution_count": 135,
   "metadata": {},
   "outputs": [
    {
     "name": "stdout",
     "output_type": "stream",
     "text": [
      "  | k-1\t | k-10\t| k-50\t|\n",
      "1 | 123\t | 168\t| 189\t|\n",
      "0 | 78\t | 33\t| 12\t|\n",
      "\n",
      "              k-1        k-10        k-50  match_rank  1/match_rank\n",
      "count  201.000000  201.000000  201.000000  201.000000    201.000000\n",
      "mean     0.611940    0.835821    0.940299   12.253731      0.698558\n",
      "std      0.488525    0.371363    0.237525   42.179738      0.397780\n",
      "min      0.000000    0.000000    0.000000    1.000000      0.002545\n",
      "25%      0.000000    1.000000    1.000000    1.000000      0.333333\n",
      "50%      1.000000    1.000000    1.000000    1.000000      1.000000\n",
      "75%      1.000000    1.000000    1.000000    3.000000      1.000000\n",
      "max      1.000000    1.000000    1.000000  393.000000      1.000000\n"
     ]
    }
   ],
   "source": [
    "print_acu_k(df_hn_1_1_fg)\n",
    "print_describe(df_hn_1_1_fg)"
   ]
  },
  {
   "cell_type": "code",
   "execution_count": 7,
   "metadata": {},
   "outputs": [
    {
     "name": "stdout",
     "output_type": "stream",
     "text": [
      "  | k-1\t | k-10\t| k-50\t|\n",
      "1 | 302  | 351\t| 354\t|\n",
      "0 | 52\t | 3\t|\t|\n",
      "\n",
      "              k-1        k-10   k-50  match_rank  1/match_rank\n",
      "count  354.000000  354.000000  354.0  354.000000    354.000000\n",
      "mean     0.853107    0.991525    1.0    1.502825      0.905336\n",
      "std      0.354500    0.091796    0.0    2.501273      0.235634\n",
      "min      0.000000    0.000000    1.0    1.000000      0.026316\n",
      "25%      1.000000    1.000000    1.0    1.000000      1.000000\n",
      "50%      1.000000    1.000000    1.0    1.000000      1.000000\n",
      "75%      1.000000    1.000000    1.0    1.000000      1.000000\n",
      "max      1.000000    1.000000    1.0   38.000000      1.000000\n"
     ]
    }
   ],
   "source": [
    "print(f\"  | k-1\\t | k-10\\t| k-50\\t|\\n1 | {df_hn_5_1_fg['k-1'].value_counts()[1]}  | {df_hn_5_1_fg['k-10'].value_counts()[1]}\\t| {df_hn_5_1_fg['k-50'].value_counts()[1]}\\t|\\n0 | {df_hn_5_1_fg['k-1'].value_counts()[0]}\\t | {df_hn_5_1_fg['k-10'].value_counts()[0]}\\t|\\t|\")\n",
    "print_describe(df_hn_5_1_fg)"
   ]
  },
  {
   "cell_type": "markdown",
   "metadata": {},
   "source": [
    "### Geladeiras"
   ]
  },
  {
   "cell_type": "code",
   "execution_count": 141,
   "metadata": {},
   "outputs": [],
   "source": [
    "arquivos = ['ale_1_1', 'ale_5_1', 'hn_1_1', 'hn_5_1']\n",
    "\n",
    "lista_df_gel = []\n",
    "for arquivo in arquivos:\n",
    "\n",
    "    df_gel = pd.read_csv(f\"Dados/Resultados/Cos_Rankeado/geladeiras/{arquivo}_métricas.csv\")\n",
    "    lista_df_gel.append(df_gel)"
   ]
  },
  {
   "cell_type": "code",
   "execution_count": 142,
   "metadata": {},
   "outputs": [],
   "source": [
    "df_ale_1_1_gel = lista_df_gel[0]\n",
    "df_ale_5_1_gel = lista_df_gel[1]\n",
    "df_hn_1_1_gel = lista_df_gel[2]\n",
    "df_hn_5_1_gel = lista_df_gel[3]"
   ]
  },
  {
   "cell_type": "code",
   "execution_count": 143,
   "metadata": {},
   "outputs": [
    {
     "name": "stdout",
     "output_type": "stream",
     "text": [
      "  | k-1\t | k-10\t| k-50\t|\n",
      "1 | 56\t | 69\t| 76\t|\n",
      "0 | 22\t | 9\t| 2\t|\n",
      "\n",
      "             k-1       k-10       k-50  match_rank  1/match_rank\n",
      "count  78.000000  78.000000  78.000000   78.000000     78.000000\n",
      "mean    0.717949   0.884615   0.974359    5.974359      0.783290\n",
      "std     0.452911   0.321553   0.159085   14.525369      0.363354\n",
      "min     0.000000   0.000000   0.000000    1.000000      0.011111\n",
      "25%     0.000000   1.000000   1.000000    1.000000      0.500000\n",
      "50%     1.000000   1.000000   1.000000    1.000000      1.000000\n",
      "75%     1.000000   1.000000   1.000000    2.000000      1.000000\n",
      "max     1.000000   1.000000   1.000000   90.000000      1.000000\n"
     ]
    }
   ],
   "source": [
    "print_acu_k(df_ale_1_1_gel)\n",
    "print_describe(df_ale_1_1_gel)"
   ]
  },
  {
   "cell_type": "code",
   "execution_count": 144,
   "metadata": {},
   "outputs": [
    {
     "name": "stdout",
     "output_type": "stream",
     "text": [
      "  | k-1\t | k-10\t| k-50\t|\n",
      "1 | 219\t | 226\t| 230\t|\n",
      "0 | 12\t | 5\t| 1\t|\n",
      "\n",
      "              k-1        k-10        k-50  match_rank  1/match_rank\n",
      "count  231.000000  231.000000  231.000000  231.000000    231.000000\n",
      "mean     0.948052    0.978355    0.995671    1.913420      0.955251\n",
      "std      0.222404    0.145838    0.065795    6.237429      0.193236\n",
      "min      0.000000    0.000000    0.000000    1.000000      0.012658\n",
      "25%      1.000000    1.000000    1.000000    1.000000      1.000000\n",
      "50%      1.000000    1.000000    1.000000    1.000000      1.000000\n",
      "75%      1.000000    1.000000    1.000000    1.000000      1.000000\n",
      "max      1.000000    1.000000    1.000000   79.000000      1.000000\n"
     ]
    }
   ],
   "source": [
    "print_acu_k(df_ale_5_1_gel)\n",
    "print_describe(df_ale_5_1_gel)"
   ]
  },
  {
   "cell_type": "code",
   "execution_count": 145,
   "metadata": {},
   "outputs": [
    {
     "name": "stdout",
     "output_type": "stream",
     "text": [
      "  | k-1\t | k-10\t| k-50\t|\n",
      "1 | 47\t | 70\t| 73\t|\n",
      "0 | 28\t | 5\t| 2\t|\n",
      "\n",
      "             k-1       k-10       k-50  match_rank  1/match_rank\n",
      "count  75.000000  75.000000  75.000000   75.000000     75.000000\n",
      "mean    0.626667   0.933333   0.973333    6.160000      0.716552\n",
      "std     0.486947   0.251124   0.162192   16.808974      0.383760\n",
      "min     0.000000   0.000000   0.000000    1.000000      0.010526\n",
      "25%     0.000000   1.000000   1.000000    1.000000      0.333333\n",
      "50%     1.000000   1.000000   1.000000    1.000000      1.000000\n",
      "75%     1.000000   1.000000   1.000000    3.000000      1.000000\n",
      "max     1.000000   1.000000   1.000000   95.000000      1.000000\n"
     ]
    }
   ],
   "source": [
    "print_acu_k(df_hn_1_1_gel)\n",
    "print_describe(df_hn_1_1_gel)"
   ]
  },
  {
   "cell_type": "code",
   "execution_count": 147,
   "metadata": {},
   "outputs": [
    {
     "name": "stdout",
     "output_type": "stream",
     "text": [
      "  | k-1\t | k-10\t| k-50\t|\n",
      "1 | 159\t | 161\t| 163\t|\n",
      "0 | 6\t | 4\t| 2\t|\n",
      "\n",
      "              k-1        k-10        k-50  match_rank  1/match_rank\n",
      "count  165.000000  165.000000  165.000000  165.000000    165.000000\n",
      "mean     0.963636    0.975758    0.987879    2.127273      0.969040\n",
      "std      0.187763    0.154269    0.109760    8.105376      0.163410\n",
      "min      0.000000    0.000000    0.000000    1.000000      0.012195\n",
      "25%      1.000000    1.000000    1.000000    1.000000      1.000000\n",
      "50%      1.000000    1.000000    1.000000    1.000000      1.000000\n",
      "75%      1.000000    1.000000    1.000000    1.000000      1.000000\n",
      "max      1.000000    1.000000    1.000000   82.000000      1.000000\n"
     ]
    }
   ],
   "source": [
    "print_acu_k(df_hn_5_1_gel)\n",
    "print_describe(df_hn_5_1_gel)"
   ]
  },
  {
   "cell_type": "markdown",
   "metadata": {},
   "source": [
    "### Notebooks"
   ]
  },
  {
   "cell_type": "code",
   "execution_count": 149,
   "metadata": {},
   "outputs": [],
   "source": [
    "arquivos = ['ale_1_1', 'ale_5_1', 'hn_1_1', 'hn_5_1']\n",
    "\n",
    "lista_df_not = []\n",
    "for arquivo in arquivos:\n",
    "\n",
    "    df_not = pd.read_csv(f\"Dados/Resultados/Cos_Rankeado/notebooks/{arquivo}_métricas.csv\")\n",
    "    lista_df_not.append(df_not)"
   ]
  },
  {
   "cell_type": "code",
   "execution_count": 150,
   "metadata": {},
   "outputs": [],
   "source": [
    "df_ale_1_1_not = lista_df_not[0]\n",
    "df_ale_5_1_not = lista_df_not[1]\n",
    "df_hn_1_1_not = lista_df_not[2]\n",
    "df_hn_5_1_not = lista_df_not[3]"
   ]
  },
  {
   "cell_type": "code",
   "execution_count": 151,
   "metadata": {},
   "outputs": [
    {
     "name": "stdout",
     "output_type": "stream",
     "text": [
      "  | k-1\t | k-10\t| k-50\t|\n",
      "1 | 75\t | 88\t| 97\t|\n",
      "0 | 25\t | 12\t| 3\t|\n",
      "\n",
      "              k-1        k-10        k-50  match_rank  1/match_rank\n",
      "count  100.000000  100.000000  100.000000  100.000000    100.000000\n",
      "mean     0.750000    0.880000    0.970000    7.380000      0.803959\n",
      "std      0.435194    0.326599    0.171447   24.043639      0.356821\n",
      "min      0.000000    0.000000    0.000000    1.000000      0.005780\n",
      "25%      0.750000    1.000000    1.000000    1.000000      0.875000\n",
      "50%      1.000000    1.000000    1.000000    1.000000      1.000000\n",
      "75%      1.000000    1.000000    1.000000    1.250000      1.000000\n",
      "max      1.000000    1.000000    1.000000  173.000000      1.000000\n"
     ]
    }
   ],
   "source": [
    "print_acu_k(df_ale_1_1_not)\n",
    "print_describe(df_ale_1_1_not)"
   ]
  },
  {
   "cell_type": "code",
   "execution_count": 152,
   "metadata": {},
   "outputs": [
    {
     "name": "stdout",
     "output_type": "stream",
     "text": [
      "  | k-1\t | k-10\t| k-50\t|\n",
      "1 | 274\t | 288\t| 292\t|\n",
      "0 | 20\t | 6\t| 2\t|\n",
      "\n",
      "              k-1        k-10        k-50  match_rank  1/match_rank\n",
      "count  294.000000  294.000000  294.000000  294.000000    294.000000\n",
      "mean     0.931973    0.979592    0.993197    3.112245      0.945204\n",
      "std      0.252222    0.141633    0.082338   25.838386      0.205394\n",
      "min      0.000000    0.000000    0.000000    1.000000      0.002294\n",
      "25%      1.000000    1.000000    1.000000    1.000000      1.000000\n",
      "50%      1.000000    1.000000    1.000000    1.000000      1.000000\n",
      "75%      1.000000    1.000000    1.000000    1.000000      1.000000\n",
      "max      1.000000    1.000000    1.000000  436.000000      1.000000\n"
     ]
    }
   ],
   "source": [
    "print_acu_k(df_ale_5_1_not)\n",
    "print_describe(df_ale_5_1_not)"
   ]
  },
  {
   "cell_type": "code",
   "execution_count": 153,
   "metadata": {},
   "outputs": [
    {
     "name": "stdout",
     "output_type": "stream",
     "text": [
      "  | k-1\t | k-10\t| k-50\t|\n",
      "1 | 95\t | 116\t| 121\t|\n",
      "0 | 30\t | 9\t| 4\t|\n",
      "\n",
      "              k-1        k-10        k-50  match_rank  1/match_rank\n",
      "count  125.000000  125.000000  125.000000  125.000000    125.000000\n",
      "mean     0.760000    0.928000    0.968000    7.240000      0.800660\n",
      "std      0.428802    0.259528    0.176708   27.314004      0.363950\n",
      "min      0.000000    0.000000    0.000000    1.000000      0.004902\n",
      "25%      1.000000    1.000000    1.000000    1.000000      1.000000\n",
      "50%      1.000000    1.000000    1.000000    1.000000      1.000000\n",
      "75%      1.000000    1.000000    1.000000    1.000000      1.000000\n",
      "max      1.000000    1.000000    1.000000  204.000000      1.000000\n"
     ]
    }
   ],
   "source": [
    "print_acu_k(df_hn_1_1_not)\n",
    "print_describe(df_hn_1_1_not)"
   ]
  },
  {
   "cell_type": "code",
   "execution_count": 154,
   "metadata": {},
   "outputs": [
    {
     "name": "stdout",
     "output_type": "stream",
     "text": [
      "  | k-1\t | k-10\t| k-50\t|\n",
      "1 | 257\t | 266\t| 271\t|\n",
      "0 | 15\t | 6\t| 1\t|\n",
      "\n",
      "              k-1        k-10        k-50  match_rank  1/match_rank\n",
      "count  272.000000  272.000000  272.000000  272.000000    272.000000\n",
      "mean     0.944853    0.977941    0.996324    3.235294      0.960045\n",
      "std      0.228688    0.147146    0.060634   31.694514      0.172249\n",
      "min      0.000000    0.000000    0.000000    1.000000      0.001912\n",
      "25%      1.000000    1.000000    1.000000    1.000000      1.000000\n",
      "50%      1.000000    1.000000    1.000000    1.000000      1.000000\n",
      "75%      1.000000    1.000000    1.000000    1.000000      1.000000\n",
      "max      1.000000    1.000000    1.000000  523.000000      1.000000\n"
     ]
    }
   ],
   "source": [
    "print_acu_k(df_hn_5_1_not)\n",
    "print_describe(df_hn_5_1_not)"
   ]
  },
  {
   "cell_type": "markdown",
   "metadata": {},
   "source": [
    "### TVs"
   ]
  },
  {
   "cell_type": "code",
   "execution_count": 155,
   "metadata": {},
   "outputs": [],
   "source": [
    "arquivos = ['ale_1_1', 'ale_5_1', 'hn_1_1', 'hn_5_1']\n",
    "\n",
    "lista_df_tv = []\n",
    "for arquivo in arquivos:\n",
    "\n",
    "    df_tv = pd.read_csv(f\"Dados/Resultados/Cos_Rankeado/tvs/{arquivo}_métricas.csv\")\n",
    "    lista_df_tv.append(df_tv)"
   ]
  },
  {
   "cell_type": "code",
   "execution_count": 156,
   "metadata": {},
   "outputs": [],
   "source": [
    "df_ale_1_1_tv = lista_df_tv[0]\n",
    "df_ale_5_1_tv = lista_df_tv[1]\n",
    "df_hn_1_1_tv = lista_df_tv[2]\n",
    "df_hn_5_1_tv = lista_df_tv[3]"
   ]
  },
  {
   "cell_type": "code",
   "execution_count": 167,
   "metadata": {},
   "outputs": [
    {
     "name": "stdout",
     "output_type": "stream",
     "text": [
      "  | k-1\t | k-10\t| k-50\t|\n",
      "1 | 57   | 72\t| 84\t|\n",
      "0 | 27\t | 12\t|\t|\n",
      "\n",
      "             k-1       k-10  k-50  match_rank  1/match_rank\n",
      "count  84.000000  84.000000  84.0    84.00000     84.000000\n",
      "mean    0.678571   0.857143   1.0     5.75000      0.738643\n",
      "std     0.469830   0.352029   0.0    11.00698      0.394712\n",
      "min     0.000000   0.000000   1.0     1.00000      0.021739\n",
      "25%     0.000000   1.000000   1.0     1.00000      0.333333\n",
      "50%     1.000000   1.000000   1.0     1.00000      1.000000\n",
      "75%     1.000000   1.000000   1.0     3.00000      1.000000\n",
      "max     1.000000   1.000000   1.0    46.00000      1.000000\n"
     ]
    }
   ],
   "source": [
    "print(f\"  | k-1\\t | k-10\\t| k-50\\t|\\n1 | {df_ale_1_1_tv['k-1'].value_counts()[1]}   | {df_ale_1_1_tv['k-10'].value_counts()[1]}\\t| {df_ale_1_1_tv['k-50'].value_counts()[1]}\\t|\\n0 | {df_ale_1_1_tv['k-1'].value_counts()[0]}\\t | {df_ale_1_1_tv['k-10'].value_counts()[0]}\\t|\\t|\")\n",
    "print_describe(df_ale_1_1_tv)"
   ]
  },
  {
   "cell_type": "code",
   "execution_count": 168,
   "metadata": {},
   "outputs": [
    {
     "name": "stdout",
     "output_type": "stream",
     "text": [
      "  | k-1\t | k-10\t| k-50\t|\n",
      "1 | 256\t | 262\t| 268\t|\n",
      "0 | 17\t | 11\t| 5\t|\n",
      "\n",
      "              k-1        k-10        k-50  match_rank  1/match_rank\n",
      "count  273.000000  273.000000  273.000000  273.000000    273.000000\n",
      "mean     0.937729    0.959707    0.981685    3.494505      0.943818\n",
      "std      0.242091    0.197007    0.134334   14.277739      0.220835\n",
      "min      0.000000    0.000000    0.000000    1.000000      0.007576\n",
      "25%      1.000000    1.000000    1.000000    1.000000      1.000000\n",
      "50%      1.000000    1.000000    1.000000    1.000000      1.000000\n",
      "75%      1.000000    1.000000    1.000000    1.000000      1.000000\n",
      "max      1.000000    1.000000    1.000000  132.000000      1.000000\n"
     ]
    }
   ],
   "source": [
    "print_acu_k(df_ale_5_1_tv)\n",
    "print_describe(df_ale_5_1_tv)"
   ]
  },
  {
   "cell_type": "code",
   "execution_count": 169,
   "metadata": {},
   "outputs": [
    {
     "name": "stdout",
     "output_type": "stream",
     "text": [
      "  | k-1\t | k-10\t| k-50\t|\n",
      "1 | 70\t | 83\t| 90\t|\n",
      "0 | 23\t | 10\t| 3\t|\n",
      "\n",
      "             k-1       k-10       k-50  match_rank  1/match_rank\n",
      "count  93.000000  93.000000  93.000000   93.000000     93.000000\n",
      "mean    0.752688   0.892473   0.967742   10.870968      0.794729\n",
      "std     0.433788   0.311461   0.177642   47.936150      0.369310\n",
      "min     0.000000   0.000000   0.000000    1.000000      0.002331\n",
      "25%     1.000000   1.000000   1.000000    1.000000      1.000000\n",
      "50%     1.000000   1.000000   1.000000    1.000000      1.000000\n",
      "75%     1.000000   1.000000   1.000000    1.000000      1.000000\n",
      "max     1.000000   1.000000   1.000000  429.000000      1.000000\n"
     ]
    }
   ],
   "source": [
    "print_acu_k(df_hn_1_1_tv)\n",
    "print_describe(df_hn_1_1_tv)"
   ]
  },
  {
   "cell_type": "code",
   "execution_count": 170,
   "metadata": {},
   "outputs": [
    {
     "name": "stdout",
     "output_type": "stream",
     "text": [
      "  | k-1\t | k-10\t| k-50\t|\n",
      "1 | 180\t | 183\t| 185\t|\n",
      "0 | 6\t | 3\t| 1\t|\n",
      "\n",
      "              k-1        k-10        k-50  match_rank  1/match_rank\n",
      "count  186.000000  186.000000  186.000000  186.000000    186.000000\n",
      "mean     0.967742    0.983871    0.994624    2.241935      0.971741\n",
      "std      0.177162    0.126312    0.073324   13.736539      0.156123\n",
      "min      0.000000    0.000000    0.000000    1.000000      0.005348\n",
      "25%      1.000000    1.000000    1.000000    1.000000      1.000000\n",
      "50%      1.000000    1.000000    1.000000    1.000000      1.000000\n",
      "75%      1.000000    1.000000    1.000000    1.000000      1.000000\n",
      "max      1.000000    1.000000    1.000000  187.000000      1.000000\n"
     ]
    }
   ],
   "source": [
    "print_acu_k(df_hn_5_1_tv)\n",
    "print_describe(df_hn_5_1_tv)"
   ]
  }
 ],
 "metadata": {
  "kernelspec": {
   "display_name": "Python 3.9.7 ('base')",
   "language": "python",
   "name": "python3"
  },
  "language_info": {
   "codemirror_mode": {
    "name": "ipython",
    "version": 3
   },
   "file_extension": ".py",
   "mimetype": "text/x-python",
   "name": "python",
   "nbconvert_exporter": "python",
   "pygments_lexer": "ipython3",
   "version": "3.9.7"
  },
  "orig_nbformat": 4,
  "vscode": {
   "interpreter": {
    "hash": "4889b298c2b41a0f37c917b2884deb5a3a36b040cfb99d0e8c1edb9e5e6fadf3"
   }
  }
 },
 "nbformat": 4,
 "nbformat_minor": 2
}
