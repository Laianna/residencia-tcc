{
 "cells": [
  {
   "cell_type": "markdown",
   "metadata": {},
   "source": [
    "# Bibliotecas"
   ]
  },
  {
   "cell_type": "code",
   "execution_count": 1,
   "metadata": {},
   "outputs": [],
   "source": [
    "import ranking\n",
    "import salvar_resultados as sr\n",
    "\n",
    "import pandas as pd\n",
    "import tensorflow as tf\n",
    "import numpy as np\n",
    "\n",
    "import tensorflow as tf\n",
    "import tensorflow_hub as hub\n",
    "import tensorflow_text as text\n",
    "\n",
    "import time"
   ]
  },
  {
   "cell_type": "code",
   "execution_count": 2,
   "metadata": {},
   "outputs": [],
   "source": [
    "#embed = hub.load(\"https://tfhub.dev/google/universal-sentence-encoder-multilingual/3\")"
   ]
  },
  {
   "cell_type": "code",
   "execution_count": 3,
   "metadata": {},
   "outputs": [],
   "source": [
    "#embed(\"aaaa\")"
   ]
  },
  {
   "cell_type": "markdown",
   "metadata": {},
   "source": [
    "# Constantes"
   ]
  },
  {
   "cell_type": "markdown",
   "metadata": {},
   "source": [
    "# Dataset"
   ]
  },
  {
   "cell_type": "code",
   "execution_count": 4,
   "metadata": {},
   "outputs": [],
   "source": [
    "#arquivos = ['ale_1_1', 'ale_5_1', 'hn_1_1', 'hn_5_1']\n",
    "#arquivos = ['ale_1_1']\n",
    "#arquivos = ['ale_5_1']\n",
    "#arquivos = ['hn_1_1']\n",
    "arquivos = ['hn_5_1']\n",
    "\n",
    "lista_df_treino = []\n",
    "lista_df_teste = []\n",
    "for arquivo in arquivos:\n",
    "\n",
    "    df_treino = pd.read_csv(f\"Dados/Datasets/Treino/{arquivo}_treino.csv\", dtype = {'ean_1': str, 'ean_2': str})\n",
    "    df_teste = pd.read_csv(f\"Dados/Datasets/Teste/{arquivo}_teste.csv\", dtype = {'ean_1': str, 'ean_2': str})\n",
    "    lista_df_treino.append(df_treino)\n",
    "    lista_df_teste.append(df_teste)"
   ]
  },
  {
   "cell_type": "markdown",
   "metadata": {},
   "source": [
    "## Funções"
   ]
  },
  {
   "cell_type": "code",
   "execution_count": 5,
   "metadata": {},
   "outputs": [],
   "source": [
    "def calcular_embedding(modelo, texto):\n",
    "\n",
    "    #embedding = modelo.encode(texto)\n",
    "    embedding = modelo(texto)\n",
    "\n",
    "    return embedding\n",
    "\n",
    "\n",
    "def pipeline_usem(df):\n",
    "    \n",
    "    # iniciando o modelo\n",
    "    modelo = hub.load(\"https://tfhub.dev/google/universal-sentence-encoder-multilingual/3\")\n",
    "    \n",
    "    # Calculando embeddings\n",
    "    embedding = df.apply(lambda linha: calcular_embedding(modelo, linha['titulo']), axis = 1)\n",
    "\n",
    "    return embedding"
   ]
  },
  {
   "cell_type": "markdown",
   "metadata": {},
   "source": [
    "## Universal Sentence Encoder Multilingual"
   ]
  },
  {
   "cell_type": "code",
   "execution_count": 6,
   "metadata": {},
   "outputs": [
    {
     "name": "stderr",
     "output_type": "stream",
     "text": [
      "c:\\Users\\llvs2\\anaconda3\\envs\\tcc_env\\lib\\site-packages\\pandas\\core\\indexing.py:670: SettingWithCopyWarning: \n",
      "A value is trying to be set on a copy of a slice from a DataFrame\n",
      "\n",
      "See the caveats in the documentation: https://pandas.pydata.org/pandas-docs/stable/user_guide/indexing.html#returning-a-view-versus-a-copy\n",
      "  iloc._setitem_with_indexer(indexer, value)\n"
     ]
    }
   ],
   "source": [
    "flag_usem = True\n",
    "if flag_usem == True:\n",
    "\n",
    "    dir_metricas = f\"Dados/Resultados/Ranqueado/USEM\"\n",
    "\n",
    "    #tam = 10\n",
    "    for nome, df_teste in zip(arquivos, lista_df_teste):\n",
    "\n",
    "        #df_teste = df_teste[:tam]\n",
    "\n",
    "        df_concat, df_matches = ranking.criar_df_teste(df_teste, \"titulo_1\", \"titulo_2\", 'titulo')\n",
    "\n",
    "        inicio_tempo = time.time()\n",
    "        embedding = pipeline_usem(df_concat)\n",
    "        resultado = ranking.calcular_dis_2_vetores_cond(embedding, df_matches)\n",
    "\n",
    "        final_tempo = time.time()\n",
    "\n",
    "        # adicionando o tempo que demorou para o algoritmo rodar\n",
    "        ranking.calcular_tempo(df_matches, inicio_tempo, final_tempo)\n",
    "\n",
    "        # calcular acuracia_k e match rank\n",
    "        indices, valores = ranking.calcular_metricas(df_matches, df_concat, resultado)\n",
    "\n",
    "        #salvar métricas\n",
    "        sr.salvar_resultado(nome, df_matches, dir_metricas)\n",
    "        sr.salvar_resultado_categoria(nome, df_matches, dir_metricas)"
   ]
  },
  {
   "cell_type": "code",
   "execution_count": 7,
   "metadata": {},
   "outputs": [
    {
     "ename": "NameError",
     "evalue": "name 'a' is not defined",
     "output_type": "error",
     "traceback": [
      "\u001b[1;31m---------------------------------------------------------------------------\u001b[0m",
      "\u001b[1;31mNameError\u001b[0m                                 Traceback (most recent call last)",
      "\u001b[1;32m<ipython-input-7-3f786850e387>\u001b[0m in \u001b[0;36m<module>\u001b[1;34m\u001b[0m\n\u001b[1;32m----> 1\u001b[1;33m \u001b[0ma\u001b[0m\u001b[1;33m\u001b[0m\u001b[1;33m\u001b[0m\u001b[0m\n\u001b[0m",
      "\u001b[1;31mNameError\u001b[0m: name 'a' is not defined"
     ]
    }
   ],
   "source": [
    "    a"
   ]
  },
  {
   "cell_type": "markdown",
   "metadata": {},
   "source": [
    "# Resultados"
   ]
  },
  {
   "cell_type": "markdown",
   "metadata": {},
   "source": []
  }
 ],
 "metadata": {
  "kernelspec": {
   "display_name": "Python 3.6.13 ('tcc_env')",
   "language": "python",
   "name": "python3"
  },
  "language_info": {
   "codemirror_mode": {
    "name": "ipython",
    "version": 3
   },
   "file_extension": ".py",
   "mimetype": "text/x-python",
   "name": "python",
   "nbconvert_exporter": "python",
   "pygments_lexer": "ipython3",
   "version": "3.6.13"
  },
  "orig_nbformat": 4,
  "vscode": {
   "interpreter": {
    "hash": "48d2d76ca90cc8d5465366a5e35a972566e9f9e31f3eef4d6fdd1050af733e06"
   }
  }
 },
 "nbformat": 4,
 "nbformat_minor": 2
}
