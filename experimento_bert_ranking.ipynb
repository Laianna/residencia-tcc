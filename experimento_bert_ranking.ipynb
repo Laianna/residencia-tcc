{
 "cells": [
  {
   "cell_type": "markdown",
   "metadata": {},
   "source": [
    "# Bibliotecas"
   ]
  },
  {
   "cell_type": "code",
   "execution_count": 1,
   "metadata": {},
   "outputs": [],
   "source": [
    "import ranking\n",
    "import salvar_resultados as sr\n",
    "\n",
    "import pandas as pd\n",
    "import tensorflow as tf\n",
    "\n",
    "from sklearn.model_selection import train_test_split\n",
    "from sklearn.metrics import classification_report\n",
    "from sklearn.metrics import confusion_matrix\n",
    "\n",
    "import funcoes_bert as fb\n",
    "\n",
    "import time"
   ]
  },
  {
   "cell_type": "markdown",
   "metadata": {},
   "source": [
    "## Constantes"
   ]
  },
  {
   "cell_type": "code",
   "execution_count": 2,
   "metadata": {},
   "outputs": [],
   "source": [
    "SEED = 42"
   ]
  },
  {
   "cell_type": "markdown",
   "metadata": {},
   "source": [
    "# Lendo os Arquivos"
   ]
  },
  {
   "cell_type": "code",
   "execution_count": 3,
   "metadata": {},
   "outputs": [],
   "source": [
    "arquivos = ['ale_1_1']\n",
    "#arquivos = ['ale_5_1']\n",
    "#arquivos = ['hn_1_1']\n",
    "#arquivos = ['hn_5_1']\n",
    "\n",
    "lista_df_treino = []\n",
    "lista_df_val = []\n",
    "lista_df_teste = []\n",
    "for arquivo in arquivos:\n",
    "\n",
    "    df = pd.read_csv(f\"Dados/Datasets/Treino-Validação/Treino/{arquivo}_treino.csv\", dtype = {'ean_1': str, 'ean_2': str})\n",
    "    lista_df_treino.append(df)\n",
    "\n",
    "    df = pd.read_csv(f\"Dados/Datasets/Treino-Validação/Validação/{arquivo}_validação.csv\", dtype = {'ean_1': str, 'ean_2': str})\n",
    "    lista_df_val.append(df)\n",
    "\n",
    "    df = pd.read_csv(f\"Dados/Datasets/Teste/{arquivo}_teste.csv\", dtype = {'ean_1': str, 'ean_2': str})\n",
    "    lista_df_teste.append(df)"
   ]
  },
  {
   "cell_type": "code",
   "execution_count": 4,
   "metadata": {},
   "outputs": [],
   "source": [
    "#lista_df_val[0].dtypes"
   ]
  },
  {
   "cell_type": "code",
   "execution_count": 5,
   "metadata": {},
   "outputs": [],
   "source": [
    "#print(f\"Tamanho do Dataset de Treino 1 por 1:\\n\\n\\t| Ale\\t| Hard\\t|\\n1 por 1\\t| {lista_df_treino[0].shape[0]}\\t| {lista_df_treino[2].shape[0]}\\t|\\n5 por 1\\t| {lista_df_treino[1].shape[0]}\\t| {lista_df_treino[3].shape[0]}\\t|\")\n",
    "#print(f\"\\nTamanho do Dataset de Validação 1 por 1:\\n\\n\\t| Ale\\t| Hard\\t|\\n1 por 1\\t| {lista_df_val[0].shape[0]}\\t| {lista_df_val[2].shape[0]}\\t|\\n5 por 1\\t| {lista_df_val[1].shape[0]}\\t| {lista_df_val[3].shape[0]}\\t|\")\n",
    "#print(f\"\\nTamanho do Dataset de Teste 1 por 1:\\n\\n\\t| Ale\\t| Hard\\t|\\n1 por 1\\t| {lista_df_teste[0].shape[0]}\\t| {lista_df_teste[2].shape[0]}\\t|\\n5 por 1\\t| {lista_df_teste[1].shape[0]}\\t| {lista_df_teste[3].shape[0]}\\t|\")\n"
   ]
  },
  {
   "cell_type": "code",
   "execution_count": 6,
   "metadata": {},
   "outputs": [],
   "source": [
    "from transformers import TFBertForSequenceClassification"
   ]
  },
  {
   "cell_type": "markdown",
   "metadata": {},
   "source": [
    "# BERT"
   ]
  },
  {
   "cell_type": "code",
   "execution_count": 7,
   "metadata": {},
   "outputs": [],
   "source": [
    "def salvar_modelo_bert(modelo, nome):\n",
    "    \n",
    "    nome_arquivo = f\"Dados/Modelos/BERT/{nome}/\"\n",
    "    modelo.save_pretrained(nome_arquivo)"
   ]
  },
  {
   "cell_type": "code",
   "execution_count": 8,
   "metadata": {},
   "outputs": [],
   "source": [
    "def criar_dicionario(indice, titulo, ean, categoria, colunas):\n",
    "    \n",
    "    return {\n",
    "            colunas[0] : indice, colunas[1] : titulo, colunas[2] : ean, colunas[3] : categoria\n",
    "           }\n",
    "\n",
    "\n",
    "def criar_df_match(df_concat, ean_repetido, coluna_saida = 'titulo_sa'):\n",
    "\n",
    "    COLUNAS = (\"indice\", coluna_saida, \"ean\", \"categoria\")\n",
    "\n",
    "    df_matches = pd.DataFrame(columns = COLUNAS)\n",
    "    for ean in ean_repetido:\n",
    "\n",
    "        # pega o indice da primeira linha com aquele EAN\n",
    "        filtro = (df_concat['ean'] == ean)\n",
    "        indice = next(iter(filtro.index[filtro]))\n",
    "\n",
    "        dicionario = criar_dicionario(\n",
    "                                    indice = indice,\n",
    "                                    titulo = df_concat.loc[indice][coluna_saida],\n",
    "                                    ean = df_concat.loc[indice]['ean'],\n",
    "                                    categoria = df_concat.loc[indice]['categoria'],\n",
    "                                    colunas = COLUNAS\n",
    "                                    )\n",
    "\n",
    "        df_matches = df_matches.append(dicionario, ignore_index = True)\n",
    "\n",
    "    df_matches.sort_values('indice', inplace = True)\n",
    "    df_matches.reset_index(drop = True, inplace = True)\n",
    "\n",
    "    return df_matches\n"
   ]
  },
  {
   "cell_type": "markdown",
   "metadata": {},
   "source": [
    "## Rodando o BERT"
   ]
  },
  {
   "cell_type": "code",
   "execution_count": 9,
   "metadata": {},
   "outputs": [],
   "source": [
    "dir_metricas = \"Dados/Resultados/Ranqueado/BERT\""
   ]
  },
  {
   "cell_type": "code",
   "execution_count": 10,
   "metadata": {},
   "outputs": [
    {
     "name": "stderr",
     "output_type": "stream",
     "text": [
      "Some weights of the model checkpoint at neuralmind/bert-base-portuguese-cased were not used when initializing BertModel: ['cls.predictions.transform.dense.bias', 'cls.seq_relationship.weight', 'cls.predictions.decoder.weight', 'cls.predictions.transform.dense.weight', 'cls.predictions.transform.LayerNorm.weight', 'cls.predictions.transform.LayerNorm.bias', 'cls.predictions.bias', 'cls.seq_relationship.bias']\n",
      "- This IS expected if you are initializing BertModel from the checkpoint of a model trained on another task or with another architecture (e.g. initializing a BertForSequenceClassification model from a BertForPreTraining model).\n",
      "- This IS NOT expected if you are initializing BertModel from the checkpoint of a model that you expect to be exactly identical (initializing a BertForSequenceClassification model from a BertForSequenceClassification model).\n",
      "c:\\Users\\llvs2\\anaconda3\\lib\\site-packages\\pandas\\core\\indexing.py:1732: SettingWithCopyWarning: \n",
      "A value is trying to be set on a copy of a slice from a DataFrame\n",
      "\n",
      "See the caveats in the documentation: https://pandas.pydata.org/pandas-docs/stable/user_guide/indexing.html#returning-a-view-versus-a-copy\n",
      "  self._setitem_single_block(indexer, value, name)\n"
     ]
    }
   ],
   "source": [
    "lista_df_resultado = []\n",
    "tam = 51\n",
    "for nome, df_treino, df_val, df_teste in zip(arquivos, lista_df_treino, lista_df_val, lista_df_teste):\n",
    "\n",
    "    df_teste = df_teste[:tam]\n",
    "    df_treino = df_teste[:tam]\n",
    "    df_val = df_teste[:tam]\n",
    "    \n",
    "    df_concat, df_matches = ranking.criar_df_teste(df_teste, \"titulo_1\", \"titulo_2\", 'titulo')\n",
    "\n",
    "    X_treino = df_treino[[\"titulo_1\", \"titulo_2\"]]\n",
    "    X_val = df_val[[\"titulo_1\", \"titulo_2\"]]\n",
    "    X_teste = df_concat[\"titulo\"]\n",
    "\n",
    "    y_treino = df_treino[\"match\"].to_list()\n",
    "    y_val = df_val[\"match\"].to_list()\n",
    "    #y_teste = df_teste[\"match\"].to_list()\n",
    "\n",
    "    inicio_tempo = time.time()\n",
    "\n",
    "    #(modelo, historico, embedding) = fb.pipeline_bert(X_treino, y_treino, X_val, y_val, X_teste)\n",
    "    (modelo, embedding) = fb.pipeline_bert(X_teste)\n",
    "    resultado = ranking.calcular_dis_2_vetores_cond(embedding, df_matches)\n",
    "    \n",
    "    final_tempo = time.time()\n",
    "    \n",
    "    # adicionando o tempo que demorou para o algoritmo rodar\n",
    "    ranking.calcular_tempo(df_matches, inicio_tempo, final_tempo)\n",
    "\n",
    "    # calcular acuracia_k e match rank\n",
    "    indices, valores = ranking.calcular_metricas(df_matches, df_concat, resultado)\n",
    "\n",
    "    #pd.DataFrame.from_dict(historico.history).to_csv(f'Dados/Resultados/Ranqueado/BERT/Histórico/{nome}_historico.csv', index = False)\n",
    "\n",
    "    sr.salvar_resultado(nome, df_matches, dir_metricas)\n",
    "    sr.salvar_resultado_categoria(nome, df_matches, dir_metricas)\n",
    "\n",
    "    #salvar_modelo_bert(modelo, nome)\n",
    "\n",
    "    break"
   ]
  },
  {
   "cell_type": "code",
   "execution_count": 11,
   "metadata": {},
   "outputs": [],
   "source": [
    "#print(classification_report(y_teste, y_pred))"
   ]
  },
  {
   "cell_type": "code",
   "execution_count": 12,
   "metadata": {},
   "outputs": [
    {
     "ename": "NameError",
     "evalue": "name 'a' is not defined",
     "output_type": "error",
     "traceback": [
      "\u001b[1;31m---------------------------------------------------------------------------\u001b[0m",
      "\u001b[1;31mNameError\u001b[0m                                 Traceback (most recent call last)",
      "\u001b[1;32m~\\AppData\\Local\\Temp/ipykernel_31684/836354671.py\u001b[0m in \u001b[0;36m<module>\u001b[1;34m\u001b[0m\n\u001b[1;32m----> 1\u001b[1;33m \u001b[0ma\u001b[0m\u001b[1;33m\u001b[0m\u001b[1;33m\u001b[0m\u001b[0m\n\u001b[0m",
      "\u001b[1;31mNameError\u001b[0m: name 'a' is not defined"
     ]
    }
   ],
   "source": [
    "    a"
   ]
  },
  {
   "cell_type": "code",
   "execution_count": null,
   "metadata": {},
   "outputs": [],
   "source": [
    "'''print(classification_report(y_test, y_pred))\n",
    "\n",
    "print(confusion_matrix(y_test, y_pred))'''"
   ]
  },
  {
   "cell_type": "code",
   "execution_count": null,
   "metadata": {},
   "outputs": [],
   "source": [
    "#lista_df_resultado"
   ]
  },
  {
   "cell_type": "markdown",
   "metadata": {},
   "source": [
    "# Juntando os Relatórios"
   ]
  },
  {
   "cell_type": "markdown",
   "metadata": {},
   "source": [
    "### Carregando e Concatenando"
   ]
  },
  {
   "cell_type": "markdown",
   "metadata": {},
   "source": [
    "Lê os arquivos com os resultados e depois concatena em um único dataframe"
   ]
  },
  {
   "cell_type": "code",
   "execution_count": null,
   "metadata": {},
   "outputs": [],
   "source": [
    "arquivos = ['ale_1_1', 'ale_5_1', 'hn_1_1', 'hn_5_1']\n",
    "lista_df_resultados = []\n",
    "for nome in arquivos:\n",
    "\n",
    "    df = pd.read_csv(f\"Dados/Resultados/BERT/Relatório/{nome}_relatório.csv\", dtype = {'ean_1': str, 'ean_2': str})\n",
    "    lista_df_resultados.append(df)\n",
    "\n",
    "df_resultados = pd.concat(lista_df_resultados, ignore_index = False)"
   ]
  },
  {
   "cell_type": "code",
   "execution_count": null,
   "metadata": {},
   "outputs": [],
   "source": [
    "df_resultados.rename(columns = {'Unnamed: 0':'info'}, inplace = True)\n",
    "df_resultados"
   ]
  },
  {
   "cell_type": "markdown",
   "metadata": {},
   "source": [
    "### Salvando"
   ]
  },
  {
   "cell_type": "markdown",
   "metadata": {},
   "source": [
    "Salvando todos os resultados em um único arquivo"
   ]
  },
  {
   "cell_type": "code",
   "execution_count": null,
   "metadata": {},
   "outputs": [],
   "source": [
    "df_resultados.to_csv(f'Dados/Resultados/BERT/relatório_completo.csv', index = False)"
   ]
  },
  {
   "cell_type": "markdown",
   "metadata": {},
   "source": [
    "# Salvando os Resultados por Categoria"
   ]
  },
  {
   "cell_type": "markdown",
   "metadata": {},
   "source": [
    "## Funções"
   ]
  },
  {
   "cell_type": "code",
   "execution_count": null,
   "metadata": {},
   "outputs": [],
   "source": [
    "def salvar_por_categoria(df_r, categoria, nome):\n",
    "\n",
    "    df_r[df_r[\"categoria\"] == categoria].to_csv(f'Dados/Resultados/BERT/Resultado/{categoria}/{nome}_y.csv', index = False)\n",
    "\n",
    "\n",
    "def relatorio_por_categoria(df_r, categoria, nome):\n",
    "\n",
    "    y_teste = df_r[df_r[\"categoria\"] == categoria]['match']\n",
    "    y_pred = df_r[df_r[\"categoria\"] == categoria]['pred']\n",
    "\n",
    "    relatorio = classification_report(y_teste, y_pred, output_dict = True)\n",
    "    df_relatorio = pd.DataFrame(relatorio).transpose()\n",
    "    df_relatorio['modelo'] = nome\n",
    "\n",
    "    df_relatorio.to_csv(f'Dados/Resultados/BERT/Relatório/{categoria}/{nome}_relatório.csv', index = True)"
   ]
  },
  {
   "cell_type": "markdown",
   "metadata": {},
   "source": [
    "## Leitura e Salvamento"
   ]
  },
  {
   "cell_type": "code",
   "execution_count": null,
   "metadata": {},
   "outputs": [],
   "source": [
    "arquivos = ['ale_1_1', 'ale_5_1', 'hn_1_1', 'hn_5_1']\n",
    "lista_df_resultados = []\n",
    "for nome in arquivos:\n",
    "\n",
    "    df_r = pd.read_csv(f\"Dados/Resultados/BERT/Resultado/{nome}_y.csv\")\n",
    "    lista_df_resultados.append(df_r)"
   ]
  },
  {
   "cell_type": "code",
   "execution_count": null,
   "metadata": {},
   "outputs": [],
   "source": [
    "lista_categorias = (\"celulares\", \"notebooks\", \"geladeiras\", \"fogoes\", \"tvs\")\n",
    "for nome, df_r in zip(arquivos, lista_df_resultados):\n",
    "\n",
    "    for categoria in lista_categorias:\n",
    "\n",
    "        salvar_por_categoria(df_r, categoria, nome)\n",
    "        relatorio_por_categoria(df_r, categoria, nome)"
   ]
  }
 ],
 "metadata": {
  "kernelspec": {
   "display_name": "Python 3.9.7 ('base')",
   "language": "python",
   "name": "python3"
  },
  "language_info": {
   "codemirror_mode": {
    "name": "ipython",
    "version": 3
   },
   "file_extension": ".py",
   "mimetype": "text/x-python",
   "name": "python",
   "nbconvert_exporter": "python",
   "pygments_lexer": "ipython3",
   "version": "3.9.7"
  },
  "orig_nbformat": 4,
  "vscode": {
   "interpreter": {
    "hash": "4889b298c2b41a0f37c917b2884deb5a3a36b040cfb99d0e8c1edb9e5e6fadf3"
   }
  }
 },
 "nbformat": 4,
 "nbformat_minor": 2
}
