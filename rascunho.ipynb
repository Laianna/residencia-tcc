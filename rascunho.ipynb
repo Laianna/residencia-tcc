{
 "cells": [
  {
   "cell_type": "markdown",
   "metadata": {},
   "source": [
    "# Importando as Bibliotecas"
   ]
  },
  {
   "cell_type": "code",
   "execution_count": null,
   "metadata": {},
   "outputs": [],
   "source": [
    "df_bow = pd.DataFrame( titulo_bow , columns = cv.get_feature_names() )\n",
    "\n",
    "feature_vector_1 = df_bow.loc[0, :]\n",
    "feature_vector_2 = df_bow.loc[1, :]\n",
    "\n",
    "calcular_dis_cos(feature_vector_1, feature_vector_2)"
   ]
  },
  {
   "cell_type": "code",
   "execution_count": null,
   "metadata": {},
   "outputs": [],
   "source": [
    "indices_1, valores_1 = calcular_k_maiores(resultado, 1)\n",
    "indices_10, valores_10 = calcular_k_maiores(resultado, 10)\n",
    "indices_50, valores_50 = calcular_k_maiores(resultado, 50)\n",
    "\n",
    "for indices in [indices_1, indices_10, indices_50]:\n",
    "\n",
    "    # criando uma coluna nova no df\n",
    "    df_pp[f'k-{len(indices[0])}'] = 0\n",
    "\n",
    "    for i in range(len(indices)):\n",
    "\n",
    "        for j in range(len(indices[0])):\n",
    "            \n",
    "            if df_pp['ean'].loc[i] == df_pp['ean'].loc[indices[i][j]]:\n",
    "\n",
    "                df_pp[f'k-{len(indices[0])}'].loc[i] = 1"
   ]
  },
  {
   "cell_type": "code",
   "execution_count": null,
   "metadata": {},
   "outputs": [],
   "source": [
    "def calcular_k_maiores(res, k):\n",
    "\n",
    "    indices = []\n",
    "    valores = []\n",
    "\n",
    "    for i in range(len(res)):\n",
    "        \n",
    "        ind = res[i].argsort()[-k:]\n",
    "        val = res[i][res[i].argsort()[-k:]]\n",
    "\n",
    "        indices.append( list(reversed(ind)) )\n",
    "        valores.append( list(reversed(val)) )\n",
    "\n",
    "    return indices, valores"
   ]
  }
 ],
 "metadata": {
  "kernelspec": {
   "display_name": "Python 3.9.7 ('base')",
   "language": "python",
   "name": "python3"
  },
  "language_info": {
   "codemirror_mode": {
    "name": "ipython",
    "version": 3
   },
   "file_extension": ".py",
   "mimetype": "text/x-python",
   "name": "python",
   "nbconvert_exporter": "python",
   "pygments_lexer": "ipython3",
   "version": "3.9.7"
  },
  "orig_nbformat": 4,
  "vscode": {
   "interpreter": {
    "hash": "4889b298c2b41a0f37c917b2884deb5a3a36b040cfb99d0e8c1edb9e5e6fadf3"
   }
  }
 },
 "nbformat": 4,
 "nbformat_minor": 2
}
