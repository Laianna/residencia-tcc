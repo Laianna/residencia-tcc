{
 "cells": [
  {
   "cell_type": "code",
   "execution_count": 1,
   "metadata": {},
   "outputs": [],
   "source": [
    "import pandas as pd\n",
    "import numpy as np\n",
    "import string\n",
    "\n",
    "from sklearn.model_selection import train_test_split\n",
    "from sklearn.metrics import classification_report\n",
    "from sentence_transformers import SentenceTransformer\n",
    "\n",
    "import time"
   ]
  },
  {
   "cell_type": "code",
   "execution_count": 2,
   "metadata": {},
   "outputs": [],
   "source": [
    "SEED = 42"
   ]
  },
  {
   "cell_type": "code",
   "execution_count": 3,
   "metadata": {},
   "outputs": [],
   "source": [
    "arquivos = ['ale_1_1', 'ale_5_1', 'hn_1_1', 'hn_5_1']\n",
    "\n",
    "lista_df_treino = []\n",
    "lista_df_teste = []\n",
    "for arquivo in arquivos:\n",
    "\n",
    "    df_treino = pd.read_csv(f\"Dados/Datasets/Treino/{arquivo}_treino.csv\", dtype = {'ean_1': str, 'ean_2': str})\n",
    "    df_teste = pd.read_csv(f\"Dados/Datasets/Teste/{arquivo}_teste.csv\", dtype = {'ean_1': str, 'ean_2': str})\n",
    "    lista_df_treino.append(df_treino)\n",
    "    lista_df_teste.append(df_teste)"
   ]
  },
  {
   "cell_type": "markdown",
   "metadata": {},
   "source": [
    "# Usando os modelos ST"
   ]
  },
  {
   "cell_type": "code",
   "execution_count": 4,
   "metadata": {},
   "outputs": [],
   "source": [
    "from sentence_transformers import SentenceTransformer, InputExample, losses\n",
    "from torch.utils.data import DataLoader\n",
    "from sentence_transformers import evaluation"
   ]
  },
  {
   "cell_type": "code",
   "execution_count": 5,
   "metadata": {},
   "outputs": [],
   "source": [
    "CAMINHO_MODELO = 'Dados/Resultados/ST/dist-v1/'\n",
    "\n",
    "NOME_MODELO = (\n",
    "               'distiluse-base-multilingual-cased-v1',\n",
    "               'distiluse-base-multilingual-cased-v2',\n",
    "               'paraphrase-multilingual-MiniLM-L12-v2',\n",
    "               'paraphrase-multilingual-mpnet-base-v2'\n",
    "              )\n",
    "\n",
    "APELIDO_MODELO = (\n",
    "                  'dbm-v1',\n",
    "                  'dbm-v2',\n",
    "                  'pml-v2',\n",
    "                  'pmb-v2'\n",
    "                 )"
   ]
  },
  {
   "cell_type": "code",
   "execution_count": 6,
   "metadata": {},
   "outputs": [],
   "source": [
    "def retornar_input_example(titulo_1, titulo_2, label):\n",
    "\n",
    "    return(  InputExample(texts = [ titulo_1, titulo_2 ], label = label)  )"
   ]
  },
  {
   "cell_type": "code",
   "execution_count": 7,
   "metadata": {},
   "outputs": [],
   "source": [
    "def calcular_embedding(modelo, titulo):\n",
    "\n",
    "    embedding = modelo.encode(titulo)\n",
    "\n",
    "    return embedding"
   ]
  },
  {
   "cell_type": "code",
   "execution_count": 8,
   "metadata": {},
   "outputs": [],
   "source": [
    "def pipeline_st(df_treino, df_teste, nome_modelo):\n",
    "\n",
    "    num_epocas = 3\n",
    "    \n",
    "    # carregando o modelo\n",
    "    modelo = SentenceTransformer(nome_modelo)\n",
    "\n",
    "    dados_treino = df_treino.apply(lambda row: retornar_input_example(row['titulo_1'], row['titulo_2'], float(row['match'])), axis = 1)\n",
    "\n",
    "    treino_dataloader = DataLoader(dados_treino, shuffle = True, batch_size = 1)\n",
    "    #treino_perda = losses.CosineSimilarityLoss(model = modelo)\n",
    "    treino_perda = losses.ContrastiveLoss(model = modelo)\n",
    "\n",
    "    # fine-tune do mocelo\n",
    "    modelo.fit(\n",
    "               train_objectives = [(treino_dataloader, treino_perda)],\n",
    "               epochs = num_epocas,\n",
    "              )\n",
    "    \n",
    "    # calculando os embeddings\n",
    "    embedding_1 = df_teste.apply(lambda row: calcular_embedding(modelo, row['titulo_1']), axis = 1)\n",
    "    embedding_2 = df_teste.apply(lambda row: calcular_embedding(modelo, row['titulo_2']), axis = 1)\n",
    "\n",
    "    similaridade = []\n",
    "    for i in range(len(embedding_1)):\n",
    "        # Calculando a matriz de similaridade. Quanto maior o score maior a similaridade.\n",
    "        similaridade.append(np.inner(embedding_1[i], embedding_2[i]))\n",
    "\n",
    "    return similaridade"
   ]
  },
  {
   "cell_type": "code",
   "execution_count": 9,
   "metadata": {},
   "outputs": [],
   "source": [
    "def calcular_y_pred(similaridade, limite):\n",
    "\n",
    "    y_pred = [1 if num >= limite else 0 for num in similaridade]\n",
    "\n",
    "    return y_pred"
   ]
  },
  {
   "cell_type": "code",
   "execution_count": 10,
   "metadata": {},
   "outputs": [
    {
     "name": "stderr",
     "output_type": "stream",
     "text": [
      "Iteration: 100%|██████████| 5/5 [00:01<00:00,  4.03it/s]\n",
      "Iteration: 100%|██████████| 5/5 [00:00<00:00,  8.05it/s]\n",
      "Iteration: 100%|██████████| 5/5 [00:00<00:00,  7.99it/s]\n",
      "Epoch: 100%|██████████| 3/3 [00:02<00:00,  1.20it/s]\n",
      "Iteration: 100%|██████████| 5/5 [00:00<00:00,  7.92it/s]\n",
      "Iteration: 100%|██████████| 5/5 [00:00<00:00,  7.44it/s]\n",
      "Iteration: 100%|██████████| 5/5 [00:00<00:00,  7.56it/s]\n",
      "Epoch: 100%|██████████| 3/3 [00:01<00:00,  1.52it/s]\n",
      "Iteration: 100%|██████████| 5/5 [00:00<00:00,  8.21it/s]\n",
      "Iteration: 100%|██████████| 5/5 [00:00<00:00,  7.62it/s]\n",
      "Iteration: 100%|██████████| 5/5 [00:00<00:00,  7.65it/s]\n",
      "Epoch: 100%|██████████| 3/3 [00:01<00:00,  1.55it/s]\n",
      "Iteration: 100%|██████████| 5/5 [00:00<00:00,  7.86it/s]\n",
      "Iteration: 100%|██████████| 5/5 [00:00<00:00,  7.36it/s]\n",
      "Iteration: 100%|██████████| 5/5 [00:00<00:00,  7.27it/s]\n",
      "Epoch: 100%|██████████| 3/3 [00:02<00:00,  1.49it/s]\n",
      "c:\\Users\\llvs2\\anaconda3\\lib\\site-packages\\sklearn\\metrics\\_classification.py:1248: UndefinedMetricWarning: Recall and F-score are ill-defined and being set to 0.0 in labels with no true samples. Use `zero_division` parameter to control this behavior.\n",
      "  _warn_prf(average, modifier, msg_start, len(result))\n",
      "c:\\Users\\llvs2\\anaconda3\\lib\\site-packages\\sklearn\\metrics\\_classification.py:1248: UndefinedMetricWarning: Recall and F-score are ill-defined and being set to 0.0 in labels with no true samples. Use `zero_division` parameter to control this behavior.\n",
      "  _warn_prf(average, modifier, msg_start, len(result))\n",
      "c:\\Users\\llvs2\\anaconda3\\lib\\site-packages\\sklearn\\metrics\\_classification.py:1248: UndefinedMetricWarning: Recall and F-score are ill-defined and being set to 0.0 in labels with no true samples. Use `zero_division` parameter to control this behavior.\n",
      "  _warn_prf(average, modifier, msg_start, len(result))\n"
     ]
    }
   ],
   "source": [
    "flag_st = True\n",
    "if flag_st == True:\n",
    "\n",
    "    numero_modelo = 0\n",
    "    nome_modelo = NOME_MODELO[numero_modelo]\n",
    "    apelido_modelo = APELIDO_MODELO[numero_modelo]\n",
    "    tam = 5\n",
    "\n",
    "    lista_df_resultado = []\n",
    "    for nome, df_treino, df_teste in zip(arquivos, lista_df_treino, lista_df_teste):\n",
    "\n",
    "        y_teste = df_teste[\"match\"].to_list()\n",
    "        \n",
    "        inicio_tempo = time.time()\n",
    "        similaridade = pipeline_st(df_treino[:tam], df_teste[:tam], nome_modelo)\n",
    "        final_tempo = time.time()\n",
    "        tempo = final_tempo - inicio_tempo\n",
    "\n",
    "        y_pred = calcular_y_pred(similaridade, 0.5)\n",
    "\n",
    "        report = classification_report(y_teste[:tam], y_pred, output_dict = True)\n",
    "        #report = classification_report(y_teste, y_pred, output_dict = True)\n",
    "        df_resultado = pd.DataFrame(report).transpose()\n",
    "        df_resultado['modelo'] = nome\n",
    "        df_resultado['tempo'] = tempo\n",
    "\n",
    "        df_resultado.to_csv(f'Dados/Resultados/ST-{apelido_modelo}/{nome}_resultado.csv', index = True)\n",
    "\n",
    "        df_y = pd.DataFrame(list(zip(y_teste[:tam], similaridade)), columns = ['match', 'pred'])\n",
    "        df_y.to_csv(f'Dados/Resultados/ST-{apelido_modelo}/y/{nome}_y.csv', index = False)"
   ]
  }
 ],
 "metadata": {
  "kernelspec": {
   "display_name": "Python 3.9.7 ('base')",
   "language": "python",
   "name": "python3"
  },
  "language_info": {
   "codemirror_mode": {
    "name": "ipython",
    "version": 3
   },
   "file_extension": ".py",
   "mimetype": "text/x-python",
   "name": "python",
   "nbconvert_exporter": "python",
   "pygments_lexer": "ipython3",
   "version": "3.9.7"
  },
  "orig_nbformat": 4,
  "vscode": {
   "interpreter": {
    "hash": "4889b298c2b41a0f37c917b2884deb5a3a36b040cfb99d0e8c1edb9e5e6fadf3"
   }
  }
 },
 "nbformat": 4,
 "nbformat_minor": 2
}
