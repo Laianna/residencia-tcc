{
 "cells": [
  {
   "cell_type": "code",
   "execution_count": 1,
   "metadata": {},
   "outputs": [],
   "source": [
    "import ranking\n",
    "import salvar_resultados as sr\n",
    "import funcoes_st as fst\n",
    "\n",
    "import pandas as pd\n",
    "import numpy as np\n",
    "import string\n",
    "\n",
    "import time"
   ]
  },
  {
   "cell_type": "code",
   "execution_count": 2,
   "metadata": {},
   "outputs": [],
   "source": [
    "#import torch\n",
    "#torch.cuda.empty_cache()"
   ]
  },
  {
   "cell_type": "code",
   "execution_count": 3,
   "metadata": {},
   "outputs": [],
   "source": [
    "#arquivos = ['ale_1_1', 'ale_5_1', 'hn_1_1', 'hn_5_1']\n",
    "#arquivos = ['ale_1_1']\n",
    "#arquivos = ['ale_5_1']\n",
    "#arquivos = ['hn_1_1']\n",
    "arquivos = ['hn_5_1']\n",
    "\n",
    "lista_df_treino = []\n",
    "lista_df_val = []\n",
    "lista_df_teste = []\n",
    "for arquivo in arquivos:\n",
    "\n",
    "    df_treino = pd.read_csv(f\"Dados/Datasets/Treino-Validação/Treino/{arquivo}_treino.csv\", dtype = {'ean_1': str, 'ean_2': str})\n",
    "    df_val = pd.read_csv(f\"Dados/Datasets/Treino-Validação/Validação/{arquivo}_validação.csv\", dtype = {'ean_1': str, 'ean_2': str})\n",
    "    df_teste = pd.read_csv(f\"Dados/Datasets/Teste/{arquivo}_teste.csv\", dtype = {'ean_1': str, 'ean_2': str})\n",
    "    lista_df_treino.append(df_treino)\n",
    "    lista_df_val.append(df_val)\n",
    "    lista_df_teste.append(df_teste)"
   ]
  },
  {
   "cell_type": "markdown",
   "metadata": {},
   "source": [
    "# Usando os modelos ST"
   ]
  },
  {
   "cell_type": "code",
   "execution_count": 4,
   "metadata": {},
   "outputs": [
    {
     "name": "stderr",
     "output_type": "stream",
     "text": [
      "Iteration: 100%|██████████| 6511/6511 [14:12<00:00,  7.64it/s]\n",
      "Iteration: 100%|██████████| 6511/6511 [14:12<00:00,  7.64it/s]\n",
      "Iteration: 100%|██████████| 6511/6511 [14:09<00:00,  7.66it/s]\n",
      "Epoch: 100%|██████████| 3/3 [42:49<00:00, 856.60s/it]\n",
      "c:\\Users\\llvs2\\anaconda3\\lib\\site-packages\\pandas\\core\\indexing.py:1732: SettingWithCopyWarning: \n",
      "A value is trying to be set on a copy of a slice from a DataFrame\n",
      "\n",
      "See the caveats in the documentation: https://pandas.pydata.org/pandas-docs/stable/user_guide/indexing.html#returning-a-view-versus-a-copy\n",
      "  self._setitem_single_block(indexer, value, name)\n"
     ]
    }
   ],
   "source": [
    "flag_st = True\n",
    "if flag_st == True:\n",
    "\n",
    "    nome_modelo, apelido_modelo = fst.setar_modelo(0)\n",
    "    #tam = 51\n",
    "\n",
    "    dir_metricas = f\"Dados/Resultados/Ranqueado/ST-{apelido_modelo}\"\n",
    "\n",
    "    for nome, df_treino, df_val, df_teste in zip(arquivos, lista_df_treino, lista_df_val, lista_df_teste):\n",
    "\n",
    "        '''df_teste = df_teste[:tam]\n",
    "        df_treino = df_teste[:tam]\n",
    "        df_val = df_teste[:tam]'''\n",
    "\n",
    "        df_concat, df_matches = ranking.criar_df_teste(df_teste, \"titulo_1\", \"titulo_2\", 'titulo')\n",
    "        \n",
    "        inicio_tempo = time.time()\n",
    "        embedding = fst.pipeline_st(df_treino, df_val, df_concat, nome_modelo)\n",
    "        resultado = ranking.calcular_dis_2_vetores_cond(embedding, df_matches)\n",
    "\n",
    "        final_tempo = time.time()\n",
    "\n",
    "        # adicionando o tempo que demorou para o algoritmo rodar\n",
    "        ranking.calcular_tempo(df_matches, inicio_tempo, final_tempo)\n",
    "\n",
    "        # calcular acuracia_k e match rank\n",
    "        indices, valores = ranking.calcular_metricas(df_matches, df_concat, resultado)\n",
    "\n",
    "        #salvar métricas\n",
    "        sr.salvar_resultado(nome, df_matches, dir_metricas)\n",
    "        sr.salvar_resultado_categoria(nome, df_matches, dir_metricas)"
   ]
  },
  {
   "cell_type": "markdown",
   "metadata": {},
   "source": [
    "# Resultados"
   ]
  },
  {
   "cell_type": "code",
   "execution_count": 5,
   "metadata": {},
   "outputs": [
    {
     "ename": "NameError",
     "evalue": "name 'a' is not defined",
     "output_type": "error",
     "traceback": [
      "\u001b[1;31m---------------------------------------------------------------------------\u001b[0m",
      "\u001b[1;31mNameError\u001b[0m                                 Traceback (most recent call last)",
      "\u001b[1;32m~\\AppData\\Local\\Temp/ipykernel_13036/836354671.py\u001b[0m in \u001b[0;36m<module>\u001b[1;34m\u001b[0m\n\u001b[1;32m----> 1\u001b[1;33m \u001b[0ma\u001b[0m\u001b[1;33m\u001b[0m\u001b[1;33m\u001b[0m\u001b[0m\n\u001b[0m",
      "\u001b[1;31mNameError\u001b[0m: name 'a' is not defined"
     ]
    }
   ],
   "source": [
    "    a"
   ]
  },
  {
   "cell_type": "code",
   "execution_count": 6,
   "metadata": {},
   "outputs": [],
   "source": [
    "arquivos = ['hn_5_1']#, 'ale_5_1', 'hn_1_1', 'hn_5_1']\n",
    "metodo = \"ST-dbm-v1\"\n",
    "\n",
    "lista_df_resultado = []\n",
    "for arquivo in arquivos:\n",
    "\n",
    "    df_r = pd.read_csv(f\"Dados/Resultados/Ranqueado/{metodo}/{arquivo}_métricas.csv\")\n",
    "    lista_df_resultado.append(df_r)"
   ]
  },
  {
   "cell_type": "code",
   "execution_count": 7,
   "metadata": {},
   "outputs": [
    {
     "data": {
      "text/html": [
       "<div>\n",
       "<style scoped>\n",
       "    .dataframe tbody tr th:only-of-type {\n",
       "        vertical-align: middle;\n",
       "    }\n",
       "\n",
       "    .dataframe tbody tr th {\n",
       "        vertical-align: top;\n",
       "    }\n",
       "\n",
       "    .dataframe thead th {\n",
       "        text-align: right;\n",
       "    }\n",
       "</style>\n",
       "<table border=\"1\" class=\"dataframe\">\n",
       "  <thead>\n",
       "    <tr style=\"text-align: right;\">\n",
       "      <th></th>\n",
       "      <th>k-1</th>\n",
       "      <th>k-10</th>\n",
       "      <th>k-50</th>\n",
       "      <th>match_rank</th>\n",
       "      <th>1/match_rank</th>\n",
       "    </tr>\n",
       "  </thead>\n",
       "  <tbody>\n",
       "    <tr>\n",
       "      <th>count</th>\n",
       "      <td>1181.000000</td>\n",
       "      <td>1181.000000</td>\n",
       "      <td>1181.000000</td>\n",
       "      <td>1181.000000</td>\n",
       "      <td>1181.000000</td>\n",
       "    </tr>\n",
       "    <tr>\n",
       "      <th>mean</th>\n",
       "      <td>0.981372</td>\n",
       "      <td>0.986452</td>\n",
       "      <td>0.993226</td>\n",
       "      <td>7.745131</td>\n",
       "      <td>0.983039</td>\n",
       "    </tr>\n",
       "    <tr>\n",
       "      <th>std</th>\n",
       "      <td>0.135266</td>\n",
       "      <td>0.115653</td>\n",
       "      <td>0.082059</td>\n",
       "      <td>170.571880</td>\n",
       "      <td>0.124249</td>\n",
       "    </tr>\n",
       "    <tr>\n",
       "      <th>min</th>\n",
       "      <td>0.000000</td>\n",
       "      <td>0.000000</td>\n",
       "      <td>0.000000</td>\n",
       "      <td>1.000000</td>\n",
       "      <td>0.000173</td>\n",
       "    </tr>\n",
       "    <tr>\n",
       "      <th>25%</th>\n",
       "      <td>1.000000</td>\n",
       "      <td>1.000000</td>\n",
       "      <td>1.000000</td>\n",
       "      <td>1.000000</td>\n",
       "      <td>1.000000</td>\n",
       "    </tr>\n",
       "    <tr>\n",
       "      <th>50%</th>\n",
       "      <td>1.000000</td>\n",
       "      <td>1.000000</td>\n",
       "      <td>1.000000</td>\n",
       "      <td>1.000000</td>\n",
       "      <td>1.000000</td>\n",
       "    </tr>\n",
       "    <tr>\n",
       "      <th>75%</th>\n",
       "      <td>1.000000</td>\n",
       "      <td>1.000000</td>\n",
       "      <td>1.000000</td>\n",
       "      <td>1.000000</td>\n",
       "      <td>1.000000</td>\n",
       "    </tr>\n",
       "    <tr>\n",
       "      <th>max</th>\n",
       "      <td>1.000000</td>\n",
       "      <td>1.000000</td>\n",
       "      <td>1.000000</td>\n",
       "      <td>5790.000000</td>\n",
       "      <td>1.000000</td>\n",
       "    </tr>\n",
       "  </tbody>\n",
       "</table>\n",
       "</div>"
      ],
      "text/plain": [
       "               k-1         k-10         k-50   match_rank  1/match_rank\n",
       "count  1181.000000  1181.000000  1181.000000  1181.000000   1181.000000\n",
       "mean      0.981372     0.986452     0.993226     7.745131      0.983039\n",
       "std       0.135266     0.115653     0.082059   170.571880      0.124249\n",
       "min       0.000000     0.000000     0.000000     1.000000      0.000173\n",
       "25%       1.000000     1.000000     1.000000     1.000000      1.000000\n",
       "50%       1.000000     1.000000     1.000000     1.000000      1.000000\n",
       "75%       1.000000     1.000000     1.000000     1.000000      1.000000\n",
       "max       1.000000     1.000000     1.000000  5790.000000      1.000000"
      ]
     },
     "execution_count": 7,
     "metadata": {},
     "output_type": "execute_result"
    }
   ],
   "source": [
    "df_r[[\"k-1\", \"k-10\", \"k-50\", 'match_rank', '1/match_rank']].describe()"
   ]
  },
  {
   "cell_type": "code",
   "execution_count": null,
   "metadata": {},
   "outputs": [],
   "source": [
    "df_r[df_r['match_rank'] == 2135]"
   ]
  },
  {
   "cell_type": "code",
   "execution_count": null,
   "metadata": {},
   "outputs": [],
   "source": [
    "valores[7][2135]"
   ]
  },
  {
   "cell_type": "code",
   "execution_count": null,
   "metadata": {},
   "outputs": [],
   "source": [
    "indices[7][2135]"
   ]
  },
  {
   "cell_type": "code",
   "execution_count": null,
   "metadata": {},
   "outputs": [],
   "source": [
    "df_concat.loc[492]"
   ]
  },
  {
   "cell_type": "code",
   "execution_count": null,
   "metadata": {},
   "outputs": [],
   "source": [
    "df_teste[['titulo_1', 'titulo_2', 'ean_1']].loc[7]"
   ]
  },
  {
   "cell_type": "code",
   "execution_count": null,
   "metadata": {},
   "outputs": [],
   "source": [
    "df_teste['titulo_1'].loc[7]"
   ]
  },
  {
   "cell_type": "code",
   "execution_count": null,
   "metadata": {},
   "outputs": [],
   "source": [
    "df_teste['titulo_2'].loc[7]"
   ]
  },
  {
   "cell_type": "code",
   "execution_count": null,
   "metadata": {},
   "outputs": [],
   "source": [
    "len(embedding)"
   ]
  },
  {
   "cell_type": "code",
   "execution_count": null,
   "metadata": {},
   "outputs": [],
   "source": [
    "ranking.calcular_dis_cos(embedding[7], embedding[492])"
   ]
  }
 ],
 "metadata": {
  "kernelspec": {
   "display_name": "Python 3.9.7 ('base')",
   "language": "python",
   "name": "python3"
  },
  "language_info": {
   "codemirror_mode": {
    "name": "ipython",
    "version": 3
   },
   "file_extension": ".py",
   "mimetype": "text/x-python",
   "name": "python",
   "nbconvert_exporter": "python",
   "pygments_lexer": "ipython3",
   "version": "3.9.7"
  },
  "orig_nbformat": 4,
  "vscode": {
   "interpreter": {
    "hash": "4889b298c2b41a0f37c917b2884deb5a3a36b040cfb99d0e8c1edb9e5e6fadf3"
   }
  }
 },
 "nbformat": 4,
 "nbformat_minor": 2
}
