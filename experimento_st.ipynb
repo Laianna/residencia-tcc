{
 "cells": [
  {
   "cell_type": "code",
   "execution_count": null,
   "metadata": {},
   "outputs": [],
   "source": [
    "import ranking\n",
    "import salvar_resultados as sr\n",
    "import funcoes_st as fst\n",
    "\n",
    "import pandas as pd\n",
    "import numpy as np\n",
    "import string\n",
    "\n",
    "import time"
   ]
  },
  {
   "cell_type": "code",
   "execution_count": null,
   "metadata": {},
   "outputs": [],
   "source": [
    "#arquivos = ['ale_1_1', 'ale_5_1', 'hn_1_1', 'hn_5_1']\n",
    "#arquivos = ['ale_1_1']\n",
    "#arquivos = ['ale_5_1']\n",
    "#arquivos = ['hn_1_1']\n",
    "arquivos = ['hn_5_1']\n",
    "\n",
    "lista_df_treino = []\n",
    "lista_df_val = []\n",
    "lista_df_teste = []\n",
    "for arquivo in arquivos:\n",
    "\n",
    "    df_treino = pd.read_csv(f\"Dados/Datasets/Treino-Validação/Treino/{arquivo}_treino.csv\", dtype = {'ean_1': str, 'ean_2': str})\n",
    "    df_val = pd.read_csv(f\"Dados/Datasets/Treino-Validação/Validação/{arquivo}_validação.csv\", dtype = {'ean_1': str, 'ean_2': str})\n",
    "    df_teste = pd.read_csv(f\"Dados/Datasets/Teste/{arquivo}_teste.csv\", dtype = {'ean_1': str, 'ean_2': str})\n",
    "    lista_df_treino.append(df_treino)\n",
    "    lista_df_val.append(df_val)\n",
    "    lista_df_teste.append(df_teste)"
   ]
  },
  {
   "cell_type": "markdown",
   "metadata": {},
   "source": [
    "# Usando os modelos ST"
   ]
  },
  {
   "cell_type": "code",
   "execution_count": null,
   "metadata": {},
   "outputs": [],
   "source": [
    "flag_st = True\n",
    "if flag_st == True:\n",
    "\n",
    "    nome_modelo, apelido_modelo = fst.setar_modelo(1)\n",
    "    #tam = 51\n",
    "\n",
    "    dir_metricas = f\"Dados/Resultados/Ranqueado/ST-{apelido_modelo}\"\n",
    "\n",
    "    for nome, df_treino, df_val, df_teste in zip(arquivos, lista_df_treino, lista_df_val, lista_df_teste):\n",
    "\n",
    "        '''df_teste = df_teste[:tam]\n",
    "        df_treino = df_teste[:tam]\n",
    "        df_val = df_teste[:tam]'''\n",
    "\n",
    "        df_concat, df_matches = ranking.criar_df_teste(df_teste, \"titulo_1\", \"titulo_2\", 'titulo')\n",
    "        \n",
    "        inicio_tempo = time.time()\n",
    "        embedding = fst.pipeline_st(df_treino, df_val, df_concat, nome_modelo)\n",
    "        resultado = ranking.calcular_dis_2_vetores_cond(embedding, df_matches)\n",
    "\n",
    "        final_tempo = time.time()\n",
    "\n",
    "        # adicionando o tempo que demorou para o algoritmo rodar\n",
    "        ranking.calcular_tempo(df_matches, inicio_tempo, final_tempo)\n",
    "\n",
    "        # calcular acuracia_k e match rank\n",
    "        indices, valores = ranking.calcular_metricas(df_matches, df_concat, resultado)\n",
    "\n",
    "        #salvar métricas\n",
    "        sr.salvar_resultado(nome, df_matches, dir_metricas)\n",
    "        sr.salvar_resultado_categoria(nome, df_matches, dir_metricas)"
   ]
  },
  {
   "cell_type": "code",
   "execution_count": null,
   "metadata": {},
   "outputs": [],
   "source": [
    "    a"
   ]
  },
  {
   "cell_type": "markdown",
   "metadata": {},
   "source": [
    "# Resultados"
   ]
  },
  {
   "cell_type": "code",
   "execution_count": null,
   "metadata": {},
   "outputs": [],
   "source": [
    "arquivos = ['ale_1_1', 'ale_5_1', 'hn_1_1', 'hn_5_1']"
   ]
  },
  {
   "cell_type": "code",
   "execution_count": null,
   "metadata": {},
   "outputs": [],
   "source": [
    "def retornar_resultados(metodo):\n",
    "    \n",
    "    lista_df_resultado = []\n",
    "    for arquivo in arquivos:\n",
    "\n",
    "        df_r = pd.read_csv(f\"Dados/Resultados/Ranqueado/{metodo}/{arquivo}_métricas.csv\")\n",
    "        lista_df_resultado.append(df_r)\n",
    "\n",
    "    return lista_df_resultado"
   ]
  },
  {
   "cell_type": "markdown",
   "metadata": {},
   "source": [
    "## ST-dbm-v1"
   ]
  },
  {
   "cell_type": "code",
   "execution_count": null,
   "metadata": {},
   "outputs": [],
   "source": [
    "metodo = \"ST-dbm-v1\"\n",
    "lista_resultado_dbm_v1 = retornar_resultados(metodo)"
   ]
  },
  {
   "cell_type": "markdown",
   "metadata": {},
   "source": [
    "### ale_1_1"
   ]
  },
  {
   "cell_type": "code",
   "execution_count": null,
   "metadata": {},
   "outputs": [],
   "source": [
    "lista_resultado_dbm_v1[0][[\"k-1\", \"k-10\", \"k-50\", 'match_rank', '1/match_rank']].describe()"
   ]
  },
  {
   "cell_type": "markdown",
   "metadata": {},
   "source": [
    "### ale_5_1"
   ]
  },
  {
   "cell_type": "code",
   "execution_count": null,
   "metadata": {},
   "outputs": [],
   "source": [
    "lista_resultado_dbm_v1[1][[\"k-1\", \"k-10\", \"k-50\", 'match_rank', '1/match_rank']].describe()"
   ]
  },
  {
   "cell_type": "markdown",
   "metadata": {},
   "source": [
    "### hn_1_1"
   ]
  },
  {
   "cell_type": "code",
   "execution_count": null,
   "metadata": {},
   "outputs": [],
   "source": [
    "lista_resultado_dbm_v1[2][[\"k-1\", \"k-10\", \"k-50\", 'match_rank', '1/match_rank']].describe()"
   ]
  },
  {
   "cell_type": "markdown",
   "metadata": {},
   "source": [
    "### hn_5_1"
   ]
  },
  {
   "cell_type": "code",
   "execution_count": null,
   "metadata": {},
   "outputs": [],
   "source": [
    "lista_resultado_dbm_v1[3][[\"k-1\", \"k-10\", \"k-50\", 'match_rank', '1/match_rank']].describe()"
   ]
  }
 ],
 "metadata": {
  "kernelspec": {
   "display_name": "Python 3.9.7 ('base')",
   "language": "python",
   "name": "python3"
  },
  "language_info": {
   "codemirror_mode": {
    "name": "ipython",
    "version": 3
   },
   "file_extension": ".py",
   "mimetype": "text/x-python",
   "name": "python",
   "nbconvert_exporter": "python",
   "pygments_lexer": "ipython3",
   "version": "3.9.7"
  },
  "orig_nbformat": 4,
  "vscode": {
   "interpreter": {
    "hash": "4889b298c2b41a0f37c917b2884deb5a3a36b040cfb99d0e8c1edb9e5e6fadf3"
   }
  }
 },
 "nbformat": 4,
 "nbformat_minor": 2
}
