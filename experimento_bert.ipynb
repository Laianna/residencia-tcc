{
 "cells": [
  {
   "cell_type": "markdown",
   "metadata": {},
   "source": [
    "# Bibliotecas"
   ]
  },
  {
   "cell_type": "code",
   "execution_count": 1,
   "metadata": {},
   "outputs": [],
   "source": [
    "import pandas as pd\n",
    "import tensorflow as tf\n",
    "\n",
    "from sklearn.model_selection import train_test_split\n",
    "from sklearn.metrics import classification_report\n",
    "from sklearn.metrics import confusion_matrix\n",
    "\n",
    "import funcoes_bert as fb"
   ]
  },
  {
   "cell_type": "markdown",
   "metadata": {},
   "source": [
    "## Configurações"
   ]
  },
  {
   "cell_type": "code",
   "execution_count": 2,
   "metadata": {},
   "outputs": [
    {
     "name": "stdout",
     "output_type": "stream",
     "text": [
      "[PhysicalDevice(name='/physical_device:CPU:0', device_type='CPU')]\n"
     ]
    },
    {
     "data": {
      "text/plain": [
       "[PhysicalDevice(name='/physical_device:CPU:0', device_type='CPU')]"
      ]
     },
     "execution_count": 2,
     "metadata": {},
     "output_type": "execute_result"
    }
   ],
   "source": [
    "# force CPU (make CPU visible)\n",
    "cpus = tf.config.experimental.list_physical_devices('CPU')\n",
    "print(cpus)\n",
    "tf.config.set_visible_devices([], 'GPU')  # hide the GPU\n",
    "tf.config.set_visible_devices(cpus[0], 'CPU') # unhide potentially hidden CPU\n",
    "tf.config.get_visible_devices()"
   ]
  },
  {
   "cell_type": "markdown",
   "metadata": {},
   "source": [
    "## Constantes"
   ]
  },
  {
   "cell_type": "code",
   "execution_count": 3,
   "metadata": {},
   "outputs": [],
   "source": [
    "SEED = 42"
   ]
  },
  {
   "cell_type": "markdown",
   "metadata": {},
   "source": [
    "# Lendo os Arquivos"
   ]
  },
  {
   "cell_type": "code",
   "execution_count": 4,
   "metadata": {},
   "outputs": [],
   "source": [
    "arquivos = ['hn_balanceado', 'hn_desbalanceado', 'sn_balanceado', 'sn_desbalanceado']\n",
    "\n",
    "lista_df = []\n",
    "for arquivo in arquivos:\n",
    "\n",
    "    df = pd.read_csv(f\"Dados/Datasets/{arquivo}.csv\", dtype = {'ean_1': str, 'ean_2': str})\n",
    "    lista_df.append(df)"
   ]
  },
  {
   "cell_type": "code",
   "execution_count": 5,
   "metadata": {},
   "outputs": [
    {
     "data": {
      "text/plain": [
       "descricao_1    object\n",
       "ean_1          object\n",
       "titulo_1       object\n",
       "url_1          object\n",
       "titulo_cb_1    object\n",
       "loja_1         object\n",
       "descricao_2    object\n",
       "ean_2          object\n",
       "titulo_2       object\n",
       "url_2          object\n",
       "titulo_cb_2    object\n",
       "loja_2         object\n",
       "match           int64\n",
       "dtype: object"
      ]
     },
     "execution_count": 5,
     "metadata": {},
     "output_type": "execute_result"
    }
   ],
   "source": [
    "lista_df[0].dtypes"
   ]
  },
  {
   "cell_type": "code",
   "execution_count": 6,
   "metadata": {},
   "outputs": [
    {
     "data": {
      "text/plain": [
       "(13290, 13)"
      ]
     },
     "execution_count": 6,
     "metadata": {},
     "output_type": "execute_result"
    }
   ],
   "source": [
    "print(f\"Tamanho dos Datasets:\\n\\n\\t\\t| Hard\\t| Soft\\t|\\nBalanceado\\t| {arquivos[0].shape[0]}\\t| {arquivos[2].shape[0]}\\t|\\nDesbalanceado\\t| {arquivos[1].shape[0]}\\t| {arquivos[3].shape[0]}\\t|\")"
   ]
  },
  {
   "cell_type": "code",
   "execution_count": 7,
   "metadata": {},
   "outputs": [
    {
     "data": {
      "text/html": [
       "<div>\n",
       "<style scoped>\n",
       "    .dataframe tbody tr th:only-of-type {\n",
       "        vertical-align: middle;\n",
       "    }\n",
       "\n",
       "    .dataframe tbody tr th {\n",
       "        vertical-align: top;\n",
       "    }\n",
       "\n",
       "    .dataframe thead th {\n",
       "        text-align: right;\n",
       "    }\n",
       "</style>\n",
       "<table border=\"1\" class=\"dataframe\">\n",
       "  <thead>\n",
       "    <tr style=\"text-align: right;\">\n",
       "      <th></th>\n",
       "      <th>descricao_1</th>\n",
       "      <th>ean_1</th>\n",
       "      <th>titulo_1</th>\n",
       "      <th>url_1</th>\n",
       "      <th>titulo_cb_1</th>\n",
       "      <th>loja_1</th>\n",
       "      <th>descricao_2</th>\n",
       "      <th>ean_2</th>\n",
       "      <th>titulo_2</th>\n",
       "      <th>url_2</th>\n",
       "      <th>titulo_cb_2</th>\n",
       "      <th>loja_2</th>\n",
       "      <th>match</th>\n",
       "    </tr>\n",
       "  </thead>\n",
       "  <tbody>\n",
       "    <tr>\n",
       "      <th>2231</th>\n",
       "      <td>Esmaltec traz o fogão feito especialmente para...</td>\n",
       "      <td>7899081743783</td>\n",
       "      <td>Fogão 4 Bocas a Gás Esmaltec Esmeralda Glass 4...</td>\n",
       "      <td>https://www.amazon.com.br/Esmaltec-Esmeralda-A...</td>\n",
       "      <td>fogão 4 bocas a gás esmaltec esmeralda glass 4...</td>\n",
       "      <td>amazon</td>\n",
       "      <td>Esmaltec traz o fogão feito especialmente para...</td>\n",
       "      <td>7899081743783</td>\n",
       "      <td>Fogão 4 Bocas a Gás Esmaltec Esmeralda Glass 4...</td>\n",
       "      <td>https://www.americanas.com.br/produto/2599745729</td>\n",
       "      <td>fogão 4 bocas a gás esmaltec esmeralda glass 4...</td>\n",
       "      <td>americanas</td>\n",
       "      <td>1</td>\n",
       "    </tr>\n",
       "    <tr>\n",
       "      <th>7817</th>\n",
       "      <td>NaN</td>\n",
       "      <td>7892509119160</td>\n",
       "      <td>Smartphone Samsung Galaxy S20 Fe 128GB 4G Wi-F...</td>\n",
       "      <td>https://www.amazon.com.br/Smartphone-Samsung-G...</td>\n",
       "      <td>smartphone samsung galaxy s20 fe 128gb 4g wi-f...</td>\n",
       "      <td>amazon</td>\n",
       "      <td>Todas as informações divulgadas são de respons...</td>\n",
       "      <td>7892509119160</td>\n",
       "      <td>Smartphone Samsung Galaxy S20 Fe 128GB 4G Wi-F...</td>\n",
       "      <td>https://www.americanas.com.br/produto/3234381133</td>\n",
       "      <td>smartphone samsung galaxy s20 fe 128gb 4g wi-f...</td>\n",
       "      <td>americanas</td>\n",
       "      <td>1</td>\n",
       "    </tr>\n",
       "    <tr>\n",
       "      <th>10407</th>\n",
       "      <td>Todas as informações divulgadas são de respons...</td>\n",
       "      <td>7892509118439</td>\n",
       "      <td>Smartphone Samsung Galaxy A32 128GB 4G Wi-Fi T...</td>\n",
       "      <td>https://www.americanas.com.br/produto/2969968331</td>\n",
       "      <td>smartphone samsung galaxy a32 128gb 4g wi-fi t...</td>\n",
       "      <td>americanas</td>\n",
       "      <td>NaN</td>\n",
       "      <td>7892509118439</td>\n",
       "      <td>Smartphone Samsung Galaxy A32 128GB 4G Wi-Fi T...</td>\n",
       "      <td>https://www.amazon.com.br/Smartphone-Samsung-G...</td>\n",
       "      <td>smartphone samsung galaxy a32 128gb 4g wi-fi t...</td>\n",
       "      <td>amazon</td>\n",
       "      <td>1</td>\n",
       "    </tr>\n",
       "  </tbody>\n",
       "</table>\n",
       "</div>"
      ],
      "text/plain": [
       "                                             descricao_1          ean_1  \\\n",
       "2231   Esmaltec traz o fogão feito especialmente para...  7899081743783   \n",
       "7817                                                 NaN  7892509119160   \n",
       "10407  Todas as informações divulgadas são de respons...  7892509118439   \n",
       "\n",
       "                                                titulo_1  \\\n",
       "2231   Fogão 4 Bocas a Gás Esmaltec Esmeralda Glass 4...   \n",
       "7817   Smartphone Samsung Galaxy S20 Fe 128GB 4G Wi-F...   \n",
       "10407  Smartphone Samsung Galaxy A32 128GB 4G Wi-Fi T...   \n",
       "\n",
       "                                                   url_1  \\\n",
       "2231   https://www.amazon.com.br/Esmaltec-Esmeralda-A...   \n",
       "7817   https://www.amazon.com.br/Smartphone-Samsung-G...   \n",
       "10407   https://www.americanas.com.br/produto/2969968331   \n",
       "\n",
       "                                             titulo_cb_1      loja_1  \\\n",
       "2231   fogão 4 bocas a gás esmaltec esmeralda glass 4...      amazon   \n",
       "7817   smartphone samsung galaxy s20 fe 128gb 4g wi-f...      amazon   \n",
       "10407  smartphone samsung galaxy a32 128gb 4g wi-fi t...  americanas   \n",
       "\n",
       "                                             descricao_2          ean_2  \\\n",
       "2231   Esmaltec traz o fogão feito especialmente para...  7899081743783   \n",
       "7817   Todas as informações divulgadas são de respons...  7892509119160   \n",
       "10407                                                NaN  7892509118439   \n",
       "\n",
       "                                                titulo_2  \\\n",
       "2231   Fogão 4 Bocas a Gás Esmaltec Esmeralda Glass 4...   \n",
       "7817   Smartphone Samsung Galaxy S20 Fe 128GB 4G Wi-F...   \n",
       "10407  Smartphone Samsung Galaxy A32 128GB 4G Wi-Fi T...   \n",
       "\n",
       "                                                   url_2  \\\n",
       "2231    https://www.americanas.com.br/produto/2599745729   \n",
       "7817    https://www.americanas.com.br/produto/3234381133   \n",
       "10407  https://www.amazon.com.br/Smartphone-Samsung-G...   \n",
       "\n",
       "                                             titulo_cb_2      loja_2  match  \n",
       "2231   fogão 4 bocas a gás esmaltec esmeralda glass 4...  americanas      1  \n",
       "7817   smartphone samsung galaxy s20 fe 128gb 4g wi-f...  americanas      1  \n",
       "10407  smartphone samsung galaxy a32 128gb 4g wi-fi t...      amazon      1  "
      ]
     },
     "execution_count": 7,
     "metadata": {},
     "output_type": "execute_result"
    }
   ],
   "source": [
    "df[df[\"titulo_1\"]==df[\"titulo_2\"]]"
   ]
  },
  {
   "cell_type": "markdown",
   "metadata": {},
   "source": [
    "# BERT"
   ]
  },
  {
   "cell_type": "markdown",
   "metadata": {},
   "source": [
    "## Rodando pipeline experimento"
   ]
  },
  {
   "cell_type": "code",
   "execution_count": 19,
   "metadata": {},
   "outputs": [
    {
     "name": "stderr",
     "output_type": "stream",
     "text": [
      "All PyTorch model weights were used when initializing TFBertForSequenceClassification.\n",
      "\n",
      "Some weights or buffers of the TF 2.0 model TFBertForSequenceClassification were not initialized from the PyTorch model and are newly initialized: ['classifier.weight', 'classifier.bias']\n",
      "You should probably TRAIN this model on a down-stream task to be able to use it for predictions and inference.\n"
     ]
    },
    {
     "name": "stdout",
     "output_type": "stream",
     "text": [
      "Epoch 1/3\n",
      "WARNING:tensorflow:5 out of the last 13 calls to <function Model.make_train_function.<locals>.train_function at 0x000001C03E1AA3A0> triggered tf.function retracing. Tracing is expensive and the excessive number of tracings could be due to (1) creating @tf.function repeatedly in a loop, (2) passing tensors with different shapes, (3) passing Python objects instead of tensors. For (1), please define your @tf.function outside of the loop. For (2), @tf.function has experimental_relax_shapes=True option that relaxes argument shapes that can avoid unnecessary retracing. For (3), please refer to https://www.tensorflow.org/guide/function#controlling_retracing and https://www.tensorflow.org/api_docs/python/tf/function for  more details.\n",
      "1/1 [==============================] - ETA: 0s - loss: 0.8070 - accuracy: 0.2000WARNING:tensorflow:5 out of the last 13 calls to <function Model.make_test_function.<locals>.test_function at 0x000001BF828A43A0> triggered tf.function retracing. Tracing is expensive and the excessive number of tracings could be due to (1) creating @tf.function repeatedly in a loop, (2) passing tensors with different shapes, (3) passing Python objects instead of tensors. For (1), please define your @tf.function outside of the loop. For (2), @tf.function has experimental_relax_shapes=True option that relaxes argument shapes that can avoid unnecessary retracing. For (3), please refer to https://www.tensorflow.org/guide/function#controlling_retracing and https://www.tensorflow.org/api_docs/python/tf/function for  more details.\n",
      "1/1 [==============================] - 53s 53s/step - loss: 0.8070 - accuracy: 0.2000 - val_loss: 0.6715 - val_accuracy: 0.5500\n",
      "Epoch 2/3\n",
      "1/1 [==============================] - 33s 33s/step - loss: 0.6698 - accuracy: 0.5000 - val_loss: 0.5721 - val_accuracy: 0.9000\n",
      "Epoch 3/3\n",
      "1/1 [==============================] - 23s 23s/step - loss: 0.5707 - accuracy: 0.8500 - val_loss: 0.5059 - val_accuracy: 0.9000\n",
      "WARNING:tensorflow:6 out of the last 6 calls to <function Model.make_predict_function.<locals>.predict_function at 0x000001BF84E66040> triggered tf.function retracing. Tracing is expensive and the excessive number of tracings could be due to (1) creating @tf.function repeatedly in a loop, (2) passing tensors with different shapes, (3) passing Python objects instead of tensors. For (1), please define your @tf.function outside of the loop. For (2), @tf.function has experimental_relax_shapes=True option that relaxes argument shapes that can avoid unnecessary retracing. For (3), please refer to https://www.tensorflow.org/guide/function#controlling_retracing and https://www.tensorflow.org/api_docs/python/tf/function for  more details.\n"
     ]
    },
    {
     "name": "stderr",
     "output_type": "stream",
     "text": [
      "c:\\Users\\lucas\\anaconda3\\lib\\site-packages\\sklearn\\metrics\\_classification.py:1248: UndefinedMetricWarning: Precision and F-score are ill-defined and being set to 0.0 in labels with no predicted samples. Use `zero_division` parameter to control this behavior.\n",
      "  _warn_prf(average, modifier, msg_start, len(result))\n",
      "c:\\Users\\lucas\\anaconda3\\lib\\site-packages\\sklearn\\metrics\\_classification.py:1248: UndefinedMetricWarning: Precision and F-score are ill-defined and being set to 0.0 in labels with no predicted samples. Use `zero_division` parameter to control this behavior.\n",
      "  _warn_prf(average, modifier, msg_start, len(result))\n",
      "c:\\Users\\lucas\\anaconda3\\lib\\site-packages\\sklearn\\metrics\\_classification.py:1248: UndefinedMetricWarning: Precision and F-score are ill-defined and being set to 0.0 in labels with no predicted samples. Use `zero_division` parameter to control this behavior.\n",
      "  _warn_prf(average, modifier, msg_start, len(result))\n",
      "All PyTorch model weights were used when initializing TFBertForSequenceClassification.\n",
      "\n",
      "Some weights or buffers of the TF 2.0 model TFBertForSequenceClassification were not initialized from the PyTorch model and are newly initialized: ['classifier.weight', 'classifier.bias']\n",
      "You should probably TRAIN this model on a down-stream task to be able to use it for predictions and inference.\n"
     ]
    },
    {
     "name": "stdout",
     "output_type": "stream",
     "text": [
      "Epoch 1/3\n",
      "1/1 [==============================] - 55s 55s/step - loss: 0.6752 - accuracy: 0.6000 - val_loss: 0.5657 - val_accuracy: 0.8500\n",
      "Epoch 2/3\n",
      "1/1 [==============================] - 34s 34s/step - loss: 0.5512 - accuracy: 0.9000 - val_loss: 0.5076 - val_accuracy: 0.9000\n",
      "Epoch 3/3\n",
      "1/1 [==============================] - 34s 34s/step - loss: 0.4922 - accuracy: 0.8500 - val_loss: 0.4627 - val_accuracy: 0.9000\n"
     ]
    },
    {
     "name": "stderr",
     "output_type": "stream",
     "text": [
      "All PyTorch model weights were used when initializing TFBertForSequenceClassification.\n",
      "\n",
      "Some weights or buffers of the TF 2.0 model TFBertForSequenceClassification were not initialized from the PyTorch model and are newly initialized: ['classifier.weight', 'classifier.bias']\n",
      "You should probably TRAIN this model on a down-stream task to be able to use it for predictions and inference.\n"
     ]
    },
    {
     "name": "stdout",
     "output_type": "stream",
     "text": [
      "Epoch 1/3\n",
      "1/1 [==============================] - 54s 54s/step - loss: 0.7854 - accuracy: 0.2500 - val_loss: 0.6698 - val_accuracy: 0.5500\n",
      "Epoch 2/3\n",
      "1/1 [==============================] - 37s 37s/step - loss: 0.6915 - accuracy: 0.4500 - val_loss: 0.6045 - val_accuracy: 0.8000\n",
      "Epoch 3/3\n",
      "1/1 [==============================] - 35s 35s/step - loss: 0.5943 - accuracy: 0.8500 - val_loss: 0.5569 - val_accuracy: 1.0000\n"
     ]
    },
    {
     "name": "stderr",
     "output_type": "stream",
     "text": [
      "All PyTorch model weights were used when initializing TFBertForSequenceClassification.\n",
      "\n",
      "Some weights or buffers of the TF 2.0 model TFBertForSequenceClassification were not initialized from the PyTorch model and are newly initialized: ['classifier.weight', 'classifier.bias']\n",
      "You should probably TRAIN this model on a down-stream task to be able to use it for predictions and inference.\n"
     ]
    },
    {
     "name": "stdout",
     "output_type": "stream",
     "text": [
      "Epoch 1/3\n",
      "1/1 [==============================] - 50s 50s/step - loss: 0.8377 - accuracy: 0.4000 - val_loss: 0.7325 - val_accuracy: 0.5500\n",
      "Epoch 2/3\n",
      "1/1 [==============================] - 34s 34s/step - loss: 0.6766 - accuracy: 0.5500 - val_loss: 0.6117 - val_accuracy: 0.6500\n",
      "Epoch 3/3\n",
      "1/1 [==============================] - 34s 34s/step - loss: 0.5579 - accuracy: 0.8000 - val_loss: 0.5257 - val_accuracy: 0.8000\n"
     ]
    }
   ],
   "source": [
    "lista_df_resultado = []\n",
    "for nome, df in zip(arquivos, lista_df):\n",
    "    \n",
    "    X = df[[\"titulo_1\", \"titulo_2\"]]#[df[\"titulo_1\"].to_list(), df[\"titulo_2\"].to_list()]\n",
    "    y = df[\"match\"].to_list()\n",
    "\n",
    "    X_train_valid, X_test, y_train_valid, y_test = train_test_split(X, y, test_size = 0.3, random_state = SEED, stratify = y)\n",
    "    X_train, X_valid, y_train, y_valid = train_test_split(X_train_valid, y_train_valid, test_size = 0.2, random_state = SEED, stratify = y_train_valid)\n",
    "\n",
    "    (nome, historico, y_test, y_pred) = fb.pipeline_bert(nome, X_train[:20], y_train[:20], X_valid[:20], y_valid[:20], X_test[:20], y_test[:20])\n",
    "\n",
    "    pd.DataFrame.from_dict(historico.history).to_csv(f'Dados/Resultados/{nome}_historico.csv', index = False)\n",
    "\n",
    "    report = classification_report(y_test, y_pred, output_dict = True)\n",
    "    df_resultado = pd.DataFrame(report).transpose()\n",
    "    df_resultado['modelo'] = nome\n",
    "\n",
    "    df_resultado.to_csv(f'Dados/Resultados/{nome}_resultado.csv', index = True)\n",
    "\n",
    "    lista_df_resultado.append(df_resultado)"
   ]
  },
  {
   "cell_type": "code",
   "execution_count": null,
   "metadata": {},
   "outputs": [
    {
     "name": "stdout",
     "output_type": "stream",
     "text": [
      "              precision    recall  f1-score   support\n",
      "\n",
      "           0       0.90      1.00      0.95        18\n",
      "           1       0.00      0.00      0.00         2\n",
      "\n",
      "    accuracy                           0.90        20\n",
      "   macro avg       0.45      0.50      0.47        20\n",
      "weighted avg       0.81      0.90      0.85        20\n",
      "\n",
      "[[18  0]\n",
      " [ 2  0]]\n"
     ]
    },
    {
     "name": "stderr",
     "output_type": "stream",
     "text": [
      "c:\\Users\\llvs2\\anaconda3\\lib\\site-packages\\sklearn\\metrics\\_classification.py:1248: UndefinedMetricWarning: Precision and F-score are ill-defined and being set to 0.0 in labels with no predicted samples. Use `zero_division` parameter to control this behavior.\n",
      "  _warn_prf(average, modifier, msg_start, len(result))\n",
      "c:\\Users\\llvs2\\anaconda3\\lib\\site-packages\\sklearn\\metrics\\_classification.py:1248: UndefinedMetricWarning: Precision and F-score are ill-defined and being set to 0.0 in labels with no predicted samples. Use `zero_division` parameter to control this behavior.\n",
      "  _warn_prf(average, modifier, msg_start, len(result))\n",
      "c:\\Users\\llvs2\\anaconda3\\lib\\site-packages\\sklearn\\metrics\\_classification.py:1248: UndefinedMetricWarning: Precision and F-score are ill-defined and being set to 0.0 in labels with no predicted samples. Use `zero_division` parameter to control this behavior.\n",
      "  _warn_prf(average, modifier, msg_start, len(result))\n"
     ]
    }
   ],
   "source": [
    "print(classification_report(y_test, y_pred))\n",
    "\n",
    "print(confusion_matrix(y_test, y_pred))"
   ]
  },
  {
   "cell_type": "code",
   "execution_count": 12,
   "metadata": {},
   "outputs": [
    {
     "data": {
      "text/plain": [
       "[              precision  recall  f1-score  support         modelo\n",
       " 0                  0.90     1.0  0.947368     18.0  hn_balanceado\n",
       " 1                  0.00     0.0  0.000000      2.0  hn_balanceado\n",
       " accuracy           0.90     0.9  0.900000      0.9  hn_balanceado\n",
       " macro avg          0.45     0.5  0.473684     20.0  hn_balanceado\n",
       " weighted avg       0.81     0.9  0.852632     20.0  hn_balanceado,\n",
       "               precision  recall  f1-score  support            modelo\n",
       " 0                  0.80     1.0  0.888889     16.0  hn_desbalanceado\n",
       " 1                  0.00     0.0  0.000000      4.0  hn_desbalanceado\n",
       " accuracy           0.80     0.8  0.800000      0.8  hn_desbalanceado\n",
       " macro avg          0.40     0.5  0.444444     20.0  hn_desbalanceado\n",
       " weighted avg       0.64     0.8  0.711111     20.0  hn_desbalanceado,\n",
       "               precision  recall  f1-score  support         modelo\n",
       " 0                  0.90     1.0  0.947368     18.0  sn_balanceado\n",
       " 1                  0.00     0.0  0.000000      2.0  sn_balanceado\n",
       " accuracy           0.90     0.9  0.900000      0.9  sn_balanceado\n",
       " macro avg          0.45     0.5  0.473684     20.0  sn_balanceado\n",
       " weighted avg       0.81     0.9  0.852632     20.0  sn_balanceado,\n",
       "               precision   recall  f1-score  support            modelo\n",
       " 0                  1.00  0.93750  0.967742    16.00  sn_desbalanceado\n",
       " 1                  0.80  1.00000  0.888889     4.00  sn_desbalanceado\n",
       " accuracy           0.95  0.95000  0.950000     0.95  sn_desbalanceado\n",
       " macro avg          0.90  0.96875  0.928315    20.00  sn_desbalanceado\n",
       " weighted avg       0.96  0.95000  0.951971    20.00  sn_desbalanceado]"
      ]
     },
     "execution_count": 12,
     "metadata": {},
     "output_type": "execute_result"
    }
   ],
   "source": [
    "lista_df_resultado"
   ]
  },
  {
   "cell_type": "markdown",
   "metadata": {},
   "source": [
    "# Resultados"
   ]
  },
  {
   "cell_type": "markdown",
   "metadata": {},
   "source": [
    "### Carregando e Concatenando"
   ]
  },
  {
   "cell_type": "markdown",
   "metadata": {},
   "source": [
    "Lê os arquivos com os resultados e depois concatena em um único dataframe"
   ]
  },
  {
   "cell_type": "code",
   "execution_count": 20,
   "metadata": {},
   "outputs": [],
   "source": [
    "lista_df_resultados = []\n",
    "for nome in arquivos:\n",
    "\n",
    "    df = pd.read_csv(f\"Dados/Resultados/{nome}_resultado.csv\", dtype = {'ean_1': str, 'ean_2': str})\n",
    "    lista_df_resultados.append(df)\n",
    "\n",
    "df_resultados = pd.concat(lista_df_resultados, ignore_index = False)"
   ]
  },
  {
   "cell_type": "code",
   "execution_count": 22,
   "metadata": {},
   "outputs": [
    {
     "data": {
      "text/html": [
       "<div>\n",
       "<style scoped>\n",
       "    .dataframe tbody tr th:only-of-type {\n",
       "        vertical-align: middle;\n",
       "    }\n",
       "\n",
       "    .dataframe tbody tr th {\n",
       "        vertical-align: top;\n",
       "    }\n",
       "\n",
       "    .dataframe thead th {\n",
       "        text-align: right;\n",
       "    }\n",
       "</style>\n",
       "<table border=\"1\" class=\"dataframe\">\n",
       "  <thead>\n",
       "    <tr style=\"text-align: right;\">\n",
       "      <th></th>\n",
       "      <th>info</th>\n",
       "      <th>precision</th>\n",
       "      <th>recall</th>\n",
       "      <th>f1-score</th>\n",
       "      <th>support</th>\n",
       "      <th>modelo</th>\n",
       "    </tr>\n",
       "  </thead>\n",
       "  <tbody>\n",
       "    <tr>\n",
       "      <th>0</th>\n",
       "      <td>0</td>\n",
       "      <td>0.900000</td>\n",
       "      <td>1.000000</td>\n",
       "      <td>0.947368</td>\n",
       "      <td>18.00</td>\n",
       "      <td>hn_balanceado</td>\n",
       "    </tr>\n",
       "    <tr>\n",
       "      <th>1</th>\n",
       "      <td>1</td>\n",
       "      <td>0.000000</td>\n",
       "      <td>0.000000</td>\n",
       "      <td>0.000000</td>\n",
       "      <td>2.00</td>\n",
       "      <td>hn_balanceado</td>\n",
       "    </tr>\n",
       "    <tr>\n",
       "      <th>2</th>\n",
       "      <td>accuracy</td>\n",
       "      <td>0.900000</td>\n",
       "      <td>0.900000</td>\n",
       "      <td>0.900000</td>\n",
       "      <td>0.90</td>\n",
       "      <td>hn_balanceado</td>\n",
       "    </tr>\n",
       "    <tr>\n",
       "      <th>3</th>\n",
       "      <td>macro avg</td>\n",
       "      <td>0.450000</td>\n",
       "      <td>0.500000</td>\n",
       "      <td>0.473684</td>\n",
       "      <td>20.00</td>\n",
       "      <td>hn_balanceado</td>\n",
       "    </tr>\n",
       "    <tr>\n",
       "      <th>4</th>\n",
       "      <td>weighted avg</td>\n",
       "      <td>0.810000</td>\n",
       "      <td>0.900000</td>\n",
       "      <td>0.852632</td>\n",
       "      <td>20.00</td>\n",
       "      <td>hn_balanceado</td>\n",
       "    </tr>\n",
       "    <tr>\n",
       "      <th>0</th>\n",
       "      <td>0</td>\n",
       "      <td>0.789474</td>\n",
       "      <td>0.937500</td>\n",
       "      <td>0.857143</td>\n",
       "      <td>16.00</td>\n",
       "      <td>hn_desbalanceado</td>\n",
       "    </tr>\n",
       "    <tr>\n",
       "      <th>1</th>\n",
       "      <td>1</td>\n",
       "      <td>0.000000</td>\n",
       "      <td>0.000000</td>\n",
       "      <td>0.000000</td>\n",
       "      <td>4.00</td>\n",
       "      <td>hn_desbalanceado</td>\n",
       "    </tr>\n",
       "    <tr>\n",
       "      <th>2</th>\n",
       "      <td>accuracy</td>\n",
       "      <td>0.750000</td>\n",
       "      <td>0.750000</td>\n",
       "      <td>0.750000</td>\n",
       "      <td>0.75</td>\n",
       "      <td>hn_desbalanceado</td>\n",
       "    </tr>\n",
       "    <tr>\n",
       "      <th>3</th>\n",
       "      <td>macro avg</td>\n",
       "      <td>0.394737</td>\n",
       "      <td>0.468750</td>\n",
       "      <td>0.428571</td>\n",
       "      <td>20.00</td>\n",
       "      <td>hn_desbalanceado</td>\n",
       "    </tr>\n",
       "    <tr>\n",
       "      <th>4</th>\n",
       "      <td>weighted avg</td>\n",
       "      <td>0.631579</td>\n",
       "      <td>0.750000</td>\n",
       "      <td>0.685714</td>\n",
       "      <td>20.00</td>\n",
       "      <td>hn_desbalanceado</td>\n",
       "    </tr>\n",
       "    <tr>\n",
       "      <th>0</th>\n",
       "      <td>0</td>\n",
       "      <td>1.000000</td>\n",
       "      <td>0.888889</td>\n",
       "      <td>0.941176</td>\n",
       "      <td>18.00</td>\n",
       "      <td>sn_balanceado</td>\n",
       "    </tr>\n",
       "    <tr>\n",
       "      <th>1</th>\n",
       "      <td>1</td>\n",
       "      <td>0.500000</td>\n",
       "      <td>1.000000</td>\n",
       "      <td>0.666667</td>\n",
       "      <td>2.00</td>\n",
       "      <td>sn_balanceado</td>\n",
       "    </tr>\n",
       "    <tr>\n",
       "      <th>2</th>\n",
       "      <td>accuracy</td>\n",
       "      <td>0.900000</td>\n",
       "      <td>0.900000</td>\n",
       "      <td>0.900000</td>\n",
       "      <td>0.90</td>\n",
       "      <td>sn_balanceado</td>\n",
       "    </tr>\n",
       "    <tr>\n",
       "      <th>3</th>\n",
       "      <td>macro avg</td>\n",
       "      <td>0.750000</td>\n",
       "      <td>0.944444</td>\n",
       "      <td>0.803922</td>\n",
       "      <td>20.00</td>\n",
       "      <td>sn_balanceado</td>\n",
       "    </tr>\n",
       "    <tr>\n",
       "      <th>4</th>\n",
       "      <td>weighted avg</td>\n",
       "      <td>0.950000</td>\n",
       "      <td>0.900000</td>\n",
       "      <td>0.913725</td>\n",
       "      <td>20.00</td>\n",
       "      <td>sn_balanceado</td>\n",
       "    </tr>\n",
       "    <tr>\n",
       "      <th>0</th>\n",
       "      <td>0</td>\n",
       "      <td>1.000000</td>\n",
       "      <td>0.937500</td>\n",
       "      <td>0.967742</td>\n",
       "      <td>16.00</td>\n",
       "      <td>sn_desbalanceado</td>\n",
       "    </tr>\n",
       "    <tr>\n",
       "      <th>1</th>\n",
       "      <td>1</td>\n",
       "      <td>0.800000</td>\n",
       "      <td>1.000000</td>\n",
       "      <td>0.888889</td>\n",
       "      <td>4.00</td>\n",
       "      <td>sn_desbalanceado</td>\n",
       "    </tr>\n",
       "    <tr>\n",
       "      <th>2</th>\n",
       "      <td>accuracy</td>\n",
       "      <td>0.950000</td>\n",
       "      <td>0.950000</td>\n",
       "      <td>0.950000</td>\n",
       "      <td>0.95</td>\n",
       "      <td>sn_desbalanceado</td>\n",
       "    </tr>\n",
       "    <tr>\n",
       "      <th>3</th>\n",
       "      <td>macro avg</td>\n",
       "      <td>0.900000</td>\n",
       "      <td>0.968750</td>\n",
       "      <td>0.928315</td>\n",
       "      <td>20.00</td>\n",
       "      <td>sn_desbalanceado</td>\n",
       "    </tr>\n",
       "    <tr>\n",
       "      <th>4</th>\n",
       "      <td>weighted avg</td>\n",
       "      <td>0.960000</td>\n",
       "      <td>0.950000</td>\n",
       "      <td>0.951971</td>\n",
       "      <td>20.00</td>\n",
       "      <td>sn_desbalanceado</td>\n",
       "    </tr>\n",
       "  </tbody>\n",
       "</table>\n",
       "</div>"
      ],
      "text/plain": [
       "           info  precision    recall  f1-score  support            modelo\n",
       "0             0   0.900000  1.000000  0.947368    18.00     hn_balanceado\n",
       "1             1   0.000000  0.000000  0.000000     2.00     hn_balanceado\n",
       "2      accuracy   0.900000  0.900000  0.900000     0.90     hn_balanceado\n",
       "3     macro avg   0.450000  0.500000  0.473684    20.00     hn_balanceado\n",
       "4  weighted avg   0.810000  0.900000  0.852632    20.00     hn_balanceado\n",
       "0             0   0.789474  0.937500  0.857143    16.00  hn_desbalanceado\n",
       "1             1   0.000000  0.000000  0.000000     4.00  hn_desbalanceado\n",
       "2      accuracy   0.750000  0.750000  0.750000     0.75  hn_desbalanceado\n",
       "3     macro avg   0.394737  0.468750  0.428571    20.00  hn_desbalanceado\n",
       "4  weighted avg   0.631579  0.750000  0.685714    20.00  hn_desbalanceado\n",
       "0             0   1.000000  0.888889  0.941176    18.00     sn_balanceado\n",
       "1             1   0.500000  1.000000  0.666667     2.00     sn_balanceado\n",
       "2      accuracy   0.900000  0.900000  0.900000     0.90     sn_balanceado\n",
       "3     macro avg   0.750000  0.944444  0.803922    20.00     sn_balanceado\n",
       "4  weighted avg   0.950000  0.900000  0.913725    20.00     sn_balanceado\n",
       "0             0   1.000000  0.937500  0.967742    16.00  sn_desbalanceado\n",
       "1             1   0.800000  1.000000  0.888889     4.00  sn_desbalanceado\n",
       "2      accuracy   0.950000  0.950000  0.950000     0.95  sn_desbalanceado\n",
       "3     macro avg   0.900000  0.968750  0.928315    20.00  sn_desbalanceado\n",
       "4  weighted avg   0.960000  0.950000  0.951971    20.00  sn_desbalanceado"
      ]
     },
     "execution_count": 22,
     "metadata": {},
     "output_type": "execute_result"
    }
   ],
   "source": [
    "df_resultados.rename(columns = {'Unnamed: 0':'info'}, inplace = True)\n",
    "df_resultados"
   ]
  },
  {
   "cell_type": "markdown",
   "metadata": {},
   "source": [
    "### Salvando"
   ]
  },
  {
   "cell_type": "markdown",
   "metadata": {},
   "source": [
    "Salvando todos os resultados em um único arquivo"
   ]
  },
  {
   "cell_type": "code",
   "execution_count": 23,
   "metadata": {},
   "outputs": [],
   "source": [
    "df_resultados.to_csv(f'Dados/Resultados/bert_resultado.csv', index = False)"
   ]
  }
 ],
 "metadata": {
  "kernelspec": {
   "display_name": "Python 3.10.2 64-bit",
   "language": "python",
   "name": "python3"
  },
  "language_info": {
   "codemirror_mode": {
    "name": "ipython",
    "version": 3
   },
   "file_extension": ".py",
   "mimetype": "text/x-python",
   "name": "python",
   "nbconvert_exporter": "python",
   "pygments_lexer": "ipython3",
   "version": "3.10.2"
  },
  "orig_nbformat": 4,
  "vscode": {
   "interpreter": {
    "hash": "1df61d59122c5cf3d7ddd20bffff11539f6f49064d82bf38a3a6e9ef321cd670"
   }
  }
 },
 "nbformat": 4,
 "nbformat_minor": 2
}
